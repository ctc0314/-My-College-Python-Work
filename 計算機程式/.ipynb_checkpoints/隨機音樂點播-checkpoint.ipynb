{
 "cells": [
  {
   "cell_type": "code",
   "execution_count": 15,
   "metadata": {},
   "outputs": [],
   "source": [
    "import numpy as np\n",
    "from ipywidgets import interact\n",
    "from IPython.display import display,HTML,Markdown,Image,YouTubeVideo\n",
    "import random"
   ]
  },
  {
   "cell_type": "code",
   "execution_count": 16,
   "metadata": {},
   "outputs": [
    {
     "data": {
      "application/vnd.jupyter.widget-view+json": {
       "model_id": "aceb9865a5c04fd8a271905c422fa7e3",
       "version_major": 2,
       "version_minor": 0
      },
      "text/plain": [
       "interactive(children=(Dropdown(description='choose', options=('chinese', 'japanese', 'Rap', 'study', 'english'…"
      ]
     },
     "metadata": {},
     "output_type": "display_data"
    },
    {
     "data": {
      "text/plain": [
       "<function __main__.f(choose)>"
      ]
     },
     "execution_count": 16,
     "metadata": {},
     "output_type": "execute_result"
    }
   ],
   "source": [
    "study_piano_music= [\"5rrIx7yrxwQ\",\"MgphHyGgeQU\",\"nG2RXn3VUY4\"]\n",
    "english_music= [\"zABLecsR5UE\",\"gIOyB9ZXn8s\",\"t80Iw11jJaY\"]\n",
    "chinese_music= [\"4iRupuNet3Q\",\"7vlVjfMl_Nk\",\"esYjbyBm8zw\",\"9rlo5K2r3Sg\",\"OdgyKUXcUIk\"]\n",
    "rap_music= [\"HQDDlgGy2hg\",\"W-H6v6b1hu4\",\"MHKnSFlDBLQ\"]\n",
    "japanese_music= [\"ptnYBctoexk&list=PL7v1FHGMOadAc50uWILBqDfz8pN4_TMRz&index=6\",\"DuMqFknYHBs&list=PL7v1FHGMOadAc50uWILBqDfz8pN4_TMRz&index=5\",\"ony539T074w&list=PL7v1FHGMOadAc50uWILBqDfz8pN4_TMRz\"]\n",
    "\n",
    "study= np.random.choice(study_piano_music)\n",
    "english= np.random.choice(english_music)\n",
    "chinese= np.random.choice(chinese_music)\n",
    "rap= np.random.choice(rap_music)\n",
    "japanese=np.random.choice(japanese_music)\n",
    "\n",
    "def f(choose):\n",
    "    if \"study\" in choose:\n",
    "        video =YouTubeVideo(study)\n",
    "        display(video)\n",
    "    elif \"english\" in choose:\n",
    "        video2 =YouTubeVideo(english)\n",
    "        display(video2)\n",
    "    elif \"chinese\" in choose:\n",
    "        video3 =YouTubeVideo(chinese)\n",
    "        display (video3)\n",
    "    elif \"japanese\" in choose:\n",
    "        video4 =YouTubeVideo(japanese)\n",
    "        display(video4)\n",
    "    elif \"Rap\" in choose:\n",
    "        video5 =YouTubeVideo(rap)\n",
    "        display(video5)\n",
    "\n",
    "interact (f, choose = {\"study\",\"english\",\"chinese\",\"japanese\",\"Rap\"})"
   ]
  },
  {
   "cell_type": "code",
   "execution_count": null,
   "metadata": {},
   "outputs": [],
   "source": []
  }
 ],
 "metadata": {
  "kernelspec": {
   "display_name": "Python 3",
   "language": "python",
   "name": "python3"
  },
  "language_info": {
   "codemirror_mode": {
    "name": "ipython",
    "version": 3
   },
   "file_extension": ".py",
   "mimetype": "text/x-python",
   "name": "python",
   "nbconvert_exporter": "python",
   "pygments_lexer": "ipython3",
   "version": "3.7.3"
  }
 },
 "nbformat": 4,
 "nbformat_minor": 2
}
