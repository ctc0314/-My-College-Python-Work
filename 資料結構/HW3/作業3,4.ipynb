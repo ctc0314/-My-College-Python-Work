{
 "cells": [
  {
   "cell_type": "code",
   "execution_count": 1,
   "metadata": {},
   "outputs": [],
   "source": [
    "%matplotlib inline\n",
    "\n",
    "import numpy as np\n",
    "import matplotlib.pyplot as plt\n",
    "import time\n",
    "import random\n",
    "import math"
   ]
  },
  {
   "cell_type": "markdown",
   "metadata": {},
   "source": [
    "#### Skip List 程式碼來源\n",
    "https://gist.github.com/sachinnair90/3bee2ef7dd3ff0dc5aec44ec40e2d127"
   ]
  },
  {
   "cell_type": "code",
   "execution_count": 26,
   "metadata": {},
   "outputs": [],
   "source": [
    "from random import randint, seed\n",
    "\n",
    "class Node:  \n",
    "    def __init__(self, height = 0, elem = None):\n",
    "        self.elem = elem\n",
    "        self.next = [None]*height\n",
    "\n",
    "class SkipList:\n",
    "\n",
    "    def __init__(self):\n",
    "        self.head = Node()\n",
    "        self.len = 0\n",
    "        self.maxHeight = 0\n",
    "\n",
    "    def __len__(self):\n",
    "        return self.len\n",
    "\n",
    "    def find(self, elem, update = None):\n",
    "        if update == None:\n",
    "            update = self.updateList(elem)\n",
    "        if len(update) > 0:\n",
    "            item = update[0].next[0]\n",
    "            if item != None and item.elem == elem:\n",
    "                return item\n",
    "        return None\n",
    "    \n",
    "    def contains(self, elem, update = None):\n",
    "        return self.find(elem, update) != None\n",
    "\n",
    "    def randomHeight(self):\n",
    "        height = 1\n",
    "        while randint(1, 2) != 1:\n",
    "            height += 1\n",
    "        return height\n",
    "\n",
    "    def updateList(self, elem):\n",
    "        update = [None]*self.maxHeight\n",
    "        x = self.head\n",
    "        for i in reversed(range(self.maxHeight)):\n",
    "            while x.next[i] != None and x.next[i].elem < elem:\n",
    "                x = x.next[i]\n",
    "            update[i] = x\n",
    "        return update\n",
    "        \n",
    "    def insert(self, elem):\n",
    "        _node = Node(self.randomHeight(), elem)\n",
    "        self.maxHeight = max(self.maxHeight, len(_node.next))\n",
    "        while len(self.head.next) < len(_node.next):\n",
    "            self.head.next.append(None)\n",
    "        update = self.updateList(elem)            \n",
    "        if self.find(elem, update) == None:\n",
    "            for i in range(len(_node.next)):\n",
    "                _node.next[i] = update[i].next[i]\n",
    "                update[i].next[i] = _node\n",
    "            self.len += 1\n",
    "\n",
    "    def remove(self, elem):\n",
    "        update = self.updateList(elem)\n",
    "        x = self.find(elem, update)\n",
    "        if x != None:\n",
    "            for i in reversed(range(len(x.next))):\n",
    "                update[i].next[i] = x.next[i]\n",
    "                if self.head.next[i] == None:\n",
    "                    self.maxHeight -= 1\n",
    "            self.len -= 1            \n",
    "                \n",
    "    def printList(self):\n",
    "        for i in range(len(self.head.next)-1, -1, -1):\n",
    "            x = self.head\n",
    "            while x.next[i] != None:\n",
    "                print(x.next[i].elem,)\n",
    "                x = x.next[i]\n",
    "            print('')"
   ]
  },
  {
   "cell_type": "code",
   "execution_count": 27,
   "metadata": {},
   "outputs": [],
   "source": [
    "S = SkipList()"
   ]
  },
  {
   "cell_type": "code",
   "execution_count": 28,
   "metadata": {},
   "outputs": [],
   "source": [
    "S.insert(3)"
   ]
  },
  {
   "cell_type": "code",
   "execution_count": 29,
   "metadata": {},
   "outputs": [
    {
     "data": {
      "text/plain": [
       "<__main__.Node at 0x1e5aa87bf98>"
      ]
     },
     "execution_count": 29,
     "metadata": {},
     "output_type": "execute_result"
    }
   ],
   "source": [
    "S.find(3)"
   ]
  },
  {
   "cell_type": "markdown",
   "metadata": {},
   "source": [
    "#### Skip List Insertion\n",
    "##### Insertion Time Complexity: O(log n)"
   ]
  },
  {
   "cell_type": "code",
   "execution_count": 31,
   "metadata": {},
   "outputs": [
    {
     "name": "stderr",
     "output_type": "stream",
     "text": [
      "C:\\Anaconda3\\lib\\site-packages\\ipykernel_launcher.py:7: DeprecationWarning: time.clock has been deprecated in Python 3.3 and will be removed from Python 3.8: use time.perf_counter or time.process_time instead\n",
      "  import sys\n",
      "C:\\Anaconda3\\lib\\site-packages\\ipykernel_launcher.py:10: DeprecationWarning: time.clock has been deprecated in Python 3.3 and will be removed from Python 3.8: use time.perf_counter or time.process_time instead\n",
      "  # Remove the CWD from sys.path while we load stuff.\n"
     ]
    }
   ],
   "source": [
    "t = 20\n",
    "S = SkipList()\n",
    "SInsertTime = list()\n",
    "for n in range (10,t):\n",
    "    starttime = time.clock()\n",
    "    for i in range(1,2**n+1):\n",
    "        S.insert(str((np.random.randint(1,(2**30)+1))))\n",
    "    endtime = time.clock()\n",
    "    SInsertTime.append(endtime - starttime)"
   ]
  },
  {
   "cell_type": "code",
   "execution_count": 32,
   "metadata": {},
   "outputs": [
    {
     "data": {
      "text/plain": [
       "[0.023315600000046288,\n",
       " 0.036275799999998526,\n",
       " 0.06380639999997584,\n",
       " 0.13397840000004635,\n",
       " 0.31763839999996435,\n",
       " 0.7865851000000248,\n",
       " 1.8879921999999851,\n",
       " 4.070373700000005,\n",
       " 9.733053700000028,\n",
       " 21.41975059999993]"
      ]
     },
     "execution_count": 32,
     "metadata": {},
     "output_type": "execute_result"
    }
   ],
   "source": [
    "SInsertTime"
   ]
  },
  {
   "cell_type": "markdown",
   "metadata": {},
   "source": [
    "#### 剩餘時間估計\n"
   ]
  },
  {
   "cell_type": "code",
   "execution_count": 33,
   "metadata": {},
   "outputs": [],
   "source": [
    "t = len(SInsertTime)\n",
    "for i in range(0,21):\n",
    "    if(i>=t):\n",
    "        SInsertTime.append(SInsertTime[i-2]/SInsertTime[i-3]*SInsertTime[i-1])"
   ]
  },
  {
   "cell_type": "markdown",
   "metadata": {},
   "source": [
    "#### Skip List Search\n",
    "##### Search Time Complexity: O(log n)"
   ]
  },
  {
   "cell_type": "code",
   "execution_count": 34,
   "metadata": {},
   "outputs": [
    {
     "name": "stderr",
     "output_type": "stream",
     "text": [
      "C:\\Anaconda3\\lib\\site-packages\\ipykernel_launcher.py:6: DeprecationWarning: time.clock has been deprecated in Python 3.3 and will be removed from Python 3.8: use time.perf_counter or time.process_time instead\n",
      "  \n",
      "C:\\Anaconda3\\lib\\site-packages\\ipykernel_launcher.py:9: DeprecationWarning: time.clock has been deprecated in Python 3.3 and will be removed from Python 3.8: use time.perf_counter or time.process_time instead\n",
      "  if __name__ == '__main__':\n"
     ]
    }
   ],
   "source": [
    "t = 15\n",
    "\n",
    "SSearchTime = list()\n",
    "\n",
    "for n in range (10,t):\n",
    "    starttime = time.clock()\n",
    "    for i in range(1,2**n+1):\n",
    "        S.find(str((np.random.randint(1,(2**30)+1))))\n",
    "    endtime = time.clock()\n",
    "    SSearchTime.append(endtime - starttime)\n"
   ]
  },
  {
   "cell_type": "code",
   "execution_count": 35,
   "metadata": {},
   "outputs": [
    {
     "data": {
      "text/plain": [
       "[0.037627400000019406,\n",
       " 0.04687869999997929,\n",
       " 0.09018700000001445,\n",
       " 0.18848449999995864,\n",
       " 0.3619105000000218]"
      ]
     },
     "execution_count": 35,
     "metadata": {},
     "output_type": "execute_result"
    }
   ],
   "source": [
    "SSearchTime"
   ]
  },
  {
   "cell_type": "markdown",
   "metadata": {},
   "source": [
    "#### 剩餘時間估計\n"
   ]
  },
  {
   "cell_type": "code",
   "execution_count": 36,
   "metadata": {},
   "outputs": [],
   "source": [
    "t = len(SSearchTime)\n",
    "for i in range(0,21):\n",
    "    if(i>=t):\n",
    "        SSearchTime.append(SSearchTime[i-2]/SSearchTime[i-3]*SSearchTime[i-1])"
   ]
  },
  {
   "cell_type": "code",
   "execution_count": 37,
   "metadata": {},
   "outputs": [
    {
     "data": {
      "text/plain": [
       "Text(0, 0.5, '時間')"
      ]
     },
     "execution_count": 37,
     "metadata": {},
     "output_type": "execute_result"
    },
    {
     "data": {
      "image/png": "[encoded data removed]",
      "text/plain": [
       "<Figure size 432x288 with 1 Axes>"
      ]
     },
     "metadata": {
      "needs_background": "light"
     },
     "output_type": "display_data"
    }
   ],
   "source": [
    "plt.plot(range(10,31),SInsertTime)\n",
    "plt.plot(range(10,31),SSearchTime)\n",
    "plt.xlabel(\"次數\",fontproperties='SimSun')\n",
    "plt.ylabel(\"時間\",fontproperties='SimSun')"
   ]
  },
  {
   "cell_type": "markdown",
   "metadata": {},
   "source": [
    "#### Two Three Tree 程式碼的網址\n",
    "https://codereview.stackexchange.com/questions/188305/2-3-tree-in-python"
   ]
  },
  {
   "cell_type": "code",
   "execution_count": 49,
   "metadata": {},
   "outputs": [],
   "source": [
    "class Node:\n",
    "    def __init__(self, data, parent=None):\n",
    "        self.nodeType = 2\n",
    "        self.d1, self.d2, self.d3 = data, None, None\n",
    "        self.c1, self.c2, self.c3, self.c4 = None, None, None, None\n",
    "        self.parent = parent\n",
    "    def push(self, data):\n",
    "        if self.nodeType == 2:\n",
    "            self.nodeType = 3\n",
    "            self.d1, self.d2 = sorted([self.d1, data])\n",
    "        elif self.nodeType == 3:\n",
    "            self.nodeType = 4\n",
    "            self.d1, self.d2, self.d3 = sorted([self.d1, self.d2, data])\n",
    "    def split(self):\n",
    "        # Case O, if there is nothing to do\n",
    "        if self.nodeType < 4:\n",
    "            return\n",
    "        # Case I, splitting when there is no parent\n",
    "        if self.parent == None:\n",
    "            leftChild = Node(self.d1, self)\n",
    "            rightChild = Node(self.d3, self)\n",
    "            leftChild.c1, leftChild.c2 = self.c1, self.c2\n",
    "            rightChild.c1, rightChild.c2 = self.c3, self.c4\n",
    "            self.nodeType = 2\n",
    "            self.d1, self.d2, self.d3 = self.d2, None, None\n",
    "            self.c1, self.c2, self.c3, self.c4 = leftChild, rightChild, None, None\n",
    "        # Case II, when parent is a 2-node\n",
    "        elif self.parent.nodeType == 2:\n",
    "            # subcase a: when the current node is the left child of the parent node\n",
    "            if self == self.parent.c1:\n",
    "                midChild = Node(self.d3, self.parent)\n",
    "                midChild.c1, midChild.c2 = self.c3, self.c4\n",
    "                self.parent.push(self.d2)\n",
    "                self.parent.c1, self.parent.c2, self.parent.c3 = self.parent.c1, midChild, self.parent.c2\n",
    "                self.nodeType = 2\n",
    "                self.c1, self.c2, self.c3, self.c4 = self.c1, self.c2, None, None\n",
    "                self.d1, self.d2, self.d3 = self.d1, None, None\n",
    "            # subcase b: when the current node is the right child of the parent node\n",
    "            elif self == self.parent.c2:\n",
    "                midChild = Node(self.d1, self.parent)\n",
    "                midChild.c1, midChild.c2 = self.c1, self.c2\n",
    "                self.parent.push(self.d2)\n",
    "                self.parent.c1, self.parent.c2, self.parent.c3 = self.parent.c1, midChild, self.parent.c2\n",
    "                self.nodeType = 2\n",
    "                self.c1, self.c2, self.c3, self.c4 = self.c3, self.c4, None, None\n",
    "                self.d1, self.d2, self.d3 = self.d3, None, None\n",
    "        # Case III, when parent is a 3-node\n",
    "        elif self.parent.nodeType == 3:\n",
    "            # subcase a: when the current node is the left child of the parent node\n",
    "            if self == self.parent.c1:\n",
    "                newNode = Node(self.d3, self.parent)\n",
    "                newNode.c1, newNode.c2 = self.c3, self.c4\n",
    "                self.parent.push(self.d2)\n",
    "                self.parent.c1, self.parent.c2, self.parent.c3, self.parent.c4 = self.parent.c1, newNode, self.parent.c2, self.parent.c3\n",
    "                self.nodeType = 2\n",
    "                self.c1, self.c2, self.c3, self.c4 = self.c1, self.c2, None, None\n",
    "                self.d1, self.d2, self.d3 = self.d1, None, None\n",
    "            # subcase b: when the current node is the middle child of the parent node\n",
    "            elif self == self.parent.c2:\n",
    "                newNode = Node(self.d3, self.parent)\n",
    "                newNode.c1, newNode.c2 = self.c3, self.c4\n",
    "                self.parent.push(self.d2)\n",
    "                self.parent.c1, self.parent.c2, self.parent.c3, self.parent.c4 = self.parent.c1, self.parent.c2, newNode, self.parent.c3\n",
    "                self.nodeType = 2\n",
    "                self.c1, self.c2, self.c3, self.c4 = self.c1, self.c2, None, None\n",
    "                self.d1, self.d2, self.d3 = self.d1, None, None\n",
    "            # subcase c: when the current node is the right node of the parent node\n",
    "            elif self == self.parent.c3:\n",
    "                newNode = Node(self.d1, self.parent)\n",
    "                newNode.c1, newNode.c2 = self.c1, self.c2\n",
    "                self.parent.push(self.d2)\n",
    "                self.parent.c1, self.parent.c2, self.parent.c3, self.parent.c4 = self.parent.c1, self.parent.c2, newNode, self.parent.c3\n",
    "                self.nodeType = 2\n",
    "                self.c1, self.c2, self.c3, self.c4 = self.c3, self.c4, None, None\n",
    "                self.d1, self.d2, self.d3 = self.d3, None, None\n",
    "            # now recursively split the parent\n",
    "            self.parent.split()\n",
    "    def insert(self, data):\n",
    "        # if this node is a leaf\n",
    "        if self.c1 == None:\n",
    "            self.push(data)\n",
    "            self.split()\n",
    "        # if this node is not a leaf, and a 2-node\n",
    "        elif self.nodeType == 2:\n",
    "            if data < self.d1:\n",
    "                self.c1.insert(data)\n",
    "            else:\n",
    "                self.c2.insert(data)\n",
    "        # if this node is a 3-node\n",
    "        elif self.nodeType == 3:\n",
    "            if data < self.d1:\n",
    "                self.c1.insert(data)\n",
    "            elif data > self.d3:\n",
    "                self.c3.insert(data)\n",
    "            else:\n",
    "                self.c2.insert(data)\n",
    "    def find(self, data):\n",
    "        # if this node is a leaf\n",
    "        if self.c1 == None:\n",
    "            if data in [self.d1, self.d2, self.d3]:\n",
    "                return True\n",
    "            else:\n",
    "                return False\n",
    "        # if this node is not a leaf, and a 2-node\n",
    "        elif self.nodeType == 2:\n",
    "            if data < self.d1:\n",
    "                self.c1.find(data)\n",
    "            else:\n",
    "                self.c2.find(data)\n",
    "        # if this node is a 3-node\n",
    "        elif self.nodeType == 3:\n",
    "            if data < self.d1:\n",
    "                self.c1.find(data)\n",
    "            elif data > self.d3:\n",
    "                self.c3.find(data)\n",
    "            else:\n",
    "                self.c2.find(data)\n",
    "\n",
    "class TwoThreeTree:\n",
    "    def __init__(self):\n",
    "        self.isEmpty = True\n",
    "        self.root = None\n",
    "    def insert(self, data):\n",
    "        if self.isEmpty:\n",
    "            self.isEmpty = False\n",
    "            self.root = Node(data)\n",
    "        else:\n",
    "            self.root.insert(data)\n",
    "    def find(self, data):\n",
    "        if self.isEmpty:\n",
    "            return False\n",
    "        else:\n",
    "            self.root.find(data)"
   ]
  },
  {
   "cell_type": "code",
   "execution_count": 50,
   "metadata": {},
   "outputs": [],
   "source": [
    "T = TwoThreeTree()"
   ]
  },
  {
   "cell_type": "code",
   "execution_count": 51,
   "metadata": {},
   "outputs": [],
   "source": [
    "T.insert(3)"
   ]
  },
  {
   "cell_type": "code",
   "execution_count": 52,
   "metadata": {},
   "outputs": [],
   "source": [
    "T.find(3)"
   ]
  },
  {
   "cell_type": "code",
   "execution_count": null,
   "metadata": {},
   "outputs": [],
   "source": []
  },
  {
   "cell_type": "markdown",
   "metadata": {},
   "source": [
    "#### Two Three Tree Tree Insertion\n",
    "##### Insertion Time Complexity: O(log n)"
   ]
  },
  {
   "cell_type": "code",
   "execution_count": 53,
   "metadata": {
    "scrolled": true
   },
   "outputs": [
    {
     "name": "stderr",
     "output_type": "stream",
     "text": [
      "C:\\Anaconda3\\lib\\site-packages\\ipykernel_launcher.py:7: DeprecationWarning: time.clock has been deprecated in Python 3.3 and will be removed from Python 3.8: use time.perf_counter or time.process_time instead\n",
      "  import sys\n",
      "C:\\Anaconda3\\lib\\site-packages\\ipykernel_launcher.py:10: DeprecationWarning: time.clock has been deprecated in Python 3.3 and will be removed from Python 3.8: use time.perf_counter or time.process_time instead\n",
      "  # Remove the CWD from sys.path while we load stuff.\n"
     ]
    }
   ],
   "source": [
    "t = 20\n",
    "T = TwoThreeTree()\n",
    "TInsertTime = list()\n",
    "for n in range (10,t):\n",
    "    starttime = time.clock()\n",
    "    for i in range(1,2**n+1):\n",
    "        T.insert((np.random.randint(1,(2**30)+1)))\n",
    "    endtime = time.clock()\n",
    "    TInsertTime.append(endtime - starttime)"
   ]
  },
  {
   "cell_type": "code",
   "execution_count": 54,
   "metadata": {},
   "outputs": [
    {
     "data": {
      "text/plain": [
       "[0.007811699999933808,\n",
       " 0.01823479999995925,\n",
       " 0.03075139999998555,\n",
       " 0.059320099999922604,\n",
       " 0.10746889999995801,\n",
       " 0.26133659999993597,\n",
       " 0.49126879999994344,\n",
       " 0.9387971999999536,\n",
       " 1.9452545999999984,\n",
       " 3.9813367000000426]"
      ]
     },
     "execution_count": 54,
     "metadata": {},
     "output_type": "execute_result"
    }
   ],
   "source": [
    "TInsertTime"
   ]
  },
  {
   "cell_type": "markdown",
   "metadata": {},
   "source": [
    "#### 剩餘時間估計\n"
   ]
  },
  {
   "cell_type": "code",
   "execution_count": 55,
   "metadata": {},
   "outputs": [],
   "source": [
    "t = len(TInsertTime)\n",
    "for i in range(0,21):\n",
    "    if(i>=t):\n",
    "        TInsertTime.append(TInsertTime[i-2]/TInsertTime[i-3]*TInsertTime[i-1])"
   ]
  },
  {
   "cell_type": "markdown",
   "metadata": {},
   "source": [
    "#### Two Three Tree Search\n",
    "##### Search Time Complexity: O(log n)"
   ]
  },
  {
   "cell_type": "code",
   "execution_count": 56,
   "metadata": {},
   "outputs": [
    {
     "name": "stderr",
     "output_type": "stream",
     "text": [
      "C:\\Anaconda3\\lib\\site-packages\\ipykernel_launcher.py:6: DeprecationWarning: time.clock has been deprecated in Python 3.3 and will be removed from Python 3.8: use time.perf_counter or time.process_time instead\n",
      "  \n",
      "C:\\Anaconda3\\lib\\site-packages\\ipykernel_launcher.py:9: DeprecationWarning: time.clock has been deprecated in Python 3.3 and will be removed from Python 3.8: use time.perf_counter or time.process_time instead\n",
      "  if __name__ == '__main__':\n"
     ]
    }
   ],
   "source": [
    "t = 20\n",
    "TSearchTime = list()\n",
    "for n in range (10,t):\n",
    "    starttime = time.clock()\n",
    "    for i in range(1,2**n+1):\n",
    "        T.find((np.random.randint(1,(2**30)+1)))\n",
    "    endtime = time.clock()\n",
    "    TSearchTime.append(endtime - starttime)"
   ]
  },
  {
   "cell_type": "code",
   "execution_count": 57,
   "metadata": {},
   "outputs": [
    {
     "data": {
      "text/plain": [
       "[0.007134400000040841,\n",
       " 0.014306599999940772,\n",
       " 0.030268599999999424,\n",
       " 0.052181200000063654,\n",
       " 0.10214089999999487,\n",
       " 0.22313430000008339,\n",
       " 0.42386980000003405,\n",
       " 0.8581874000000198,\n",
       " 1.6989065999999866,\n",
       " 3.694847099999947]"
      ]
     },
     "execution_count": 57,
     "metadata": {},
     "output_type": "execute_result"
    }
   ],
   "source": [
    "TSearchTime"
   ]
  },
  {
   "cell_type": "markdown",
   "metadata": {},
   "source": [
    "#### 剩餘時間估計\n"
   ]
  },
  {
   "cell_type": "code",
   "execution_count": 58,
   "metadata": {},
   "outputs": [],
   "source": [
    "t = len(TSearchTime)\n",
    "for i in range(0,21):\n",
    "    if(i>=t):\n",
    "        TSearchTime.append(TSearchTime[i-2]/TSearchTime[i-3]*TSearchTime[i-1])"
   ]
  },
  {
   "cell_type": "code",
   "execution_count": 59,
   "metadata": {},
   "outputs": [
    {
     "data": {
      "text/plain": [
       "Text(0, 0.5, '時間')"
      ]
     },
     "execution_count": 59,
     "metadata": {},
     "output_type": "execute_result"
    },
    {
     "data": {
      "image/png": "[encoded data removed]",
      "text/plain": [
       "<Figure size 432x288 with 1 Axes>"
      ]
     },
     "metadata": {
      "needs_background": "light"
     },
     "output_type": "display_data"
    }
   ],
   "source": [
    "plt.plot(range(10,31),TInsertTime)\n",
    "plt.plot(range(10,31),TSearchTime)\n",
    "plt.xlabel(\"次數\",fontproperties='SimSun')\n",
    "plt.ylabel(\"時間\",fontproperties='SimSun')"
   ]
  },
  {
   "cell_type": "code",
   "execution_count": null,
   "metadata": {},
   "outputs": [],
   "source": []
  },
  {
   "cell_type": "markdown",
   "metadata": {},
   "source": [
    "#### Hash Table程式碼來源：\n",
    "https://codereview.stackexchange.com/questions/118110/python-hash-table-implementation"
   ]
  },
  {
   "cell_type": "code",
   "execution_count": 60,
   "metadata": {},
   "outputs": [],
   "source": [
    "class HashTable(object):\n",
    "    table = [None] * 256\n",
    "    def get_value(self, key):\n",
    "        total = 0\n",
    "        for i in range(len(key)):\n",
    "            total += ord(key[i]) * (7**i)\n",
    "        return (len(key) * total) % 256\n",
    "    \n",
    "    def insert(self, key):\n",
    "        val = self.get_value(key)\n",
    "        if self.table[val] == None:\n",
    "            self.table[val] = key\n",
    "        else:\n",
    "            if type(self.table[val]) == list:\n",
    "                self.table[val].append(key)\n",
    "            else:\n",
    "                self.table[val] = [self.table[val], key]\n",
    "                \n",
    "    def delete(self, key):\n",
    "        val = self.get_value(key)\n",
    "        if self.table[val] != None:\n",
    "            if type(self.table[val]) == list:\n",
    "                i = self.table[val].index(key)\n",
    "                self.table[val][i] = None\n",
    "            else:\n",
    "                self.table[val] = None\n",
    "        else:\n",
    "            KeyError()\n",
    "\n",
    "    def lookup(self, key):\n",
    "        found = False\n",
    "        val = self.get_value(key)\n",
    "        if type(self.table[val]) == list:\n",
    "            found = key in self.table[val]\n",
    "        else:\n",
    "            found = self.table[val] == key\n",
    "        return found"
   ]
  },
  {
   "cell_type": "code",
   "execution_count": 61,
   "metadata": {},
   "outputs": [],
   "source": [
    "H = HashTable()"
   ]
  },
  {
   "cell_type": "code",
   "execution_count": 62,
   "metadata": {},
   "outputs": [],
   "source": [
    "H.insert(str(2)) ## 因為數字不能用len()這個函數，所以先轉換成字串"
   ]
  },
  {
   "cell_type": "code",
   "execution_count": 63,
   "metadata": {},
   "outputs": [
    {
     "data": {
      "text/plain": [
       "True"
      ]
     },
     "execution_count": 63,
     "metadata": {},
     "output_type": "execute_result"
    }
   ],
   "source": [
    "H.lookup(str(2))"
   ]
  },
  {
   "cell_type": "markdown",
   "metadata": {},
   "source": [
    "#### Hash Table Insertion\n",
    "##### Insertion Time Complexity: O(1)"
   ]
  },
  {
   "cell_type": "code",
   "execution_count": 64,
   "metadata": {},
   "outputs": [
    {
     "name": "stderr",
     "output_type": "stream",
     "text": [
      "C:\\Anaconda3\\lib\\site-packages\\ipykernel_launcher.py:7: DeprecationWarning: time.clock has been deprecated in Python 3.3 and will be removed from Python 3.8: use time.perf_counter or time.process_time instead\n",
      "  import sys\n",
      "C:\\Anaconda3\\lib\\site-packages\\ipykernel_launcher.py:10: DeprecationWarning: time.clock has been deprecated in Python 3.3 and will be removed from Python 3.8: use time.perf_counter or time.process_time instead\n",
      "  # Remove the CWD from sys.path while we load stuff.\n"
     ]
    }
   ],
   "source": [
    "t = 20\n",
    "H = HashTable()\n",
    "HInsertTime = list()\n",
    "\n",
    "for n in range (10,t):\n",
    "    starttime = time.clock()\n",
    "    for i in range(1,2**n+1):\n",
    "        H.insert(str((np.random.randint(1,(2**30)+1))))\n",
    "    endtime = time.clock()\n",
    "    HInsertTime.append(endtime - starttime)"
   ]
  },
  {
   "cell_type": "code",
   "execution_count": 65,
   "metadata": {},
   "outputs": [
    {
     "data": {
      "text/plain": [
       "[0.012488699999948949,\n",
       " 0.023487600000066777,\n",
       " 0.04386529999999311,\n",
       " 0.0781282000000374,\n",
       " 0.16659350000009,\n",
       " 0.4260166000000254,\n",
       " 0.7438600000000406,\n",
       " 1.379498099999978,\n",
       " 2.772900899999968,\n",
       " 5.394141600000012]"
      ]
     },
     "execution_count": 65,
     "metadata": {},
     "output_type": "execute_result"
    }
   ],
   "source": [
    "HInsertTime"
   ]
  },
  {
   "cell_type": "markdown",
   "metadata": {},
   "source": [
    "#### 剩餘時間估計\n"
   ]
  },
  {
   "cell_type": "code",
   "execution_count": 66,
   "metadata": {},
   "outputs": [],
   "source": [
    "t = len(HInsertTime)\n",
    "for i in range(0,21):\n",
    "    if(i>=t):\n",
    "        HInsertTime.append(HInsertTime[i-2]/HInsertTime[i-3]*HInsertTime[i-1])"
   ]
  },
  {
   "cell_type": "code",
   "execution_count": 67,
   "metadata": {},
   "outputs": [
    {
     "data": {
      "text/plain": [
       "[0.012488699999948949,\n",
       " 0.023487600000066777,\n",
       " 0.04386529999999311,\n",
       " 0.0781282000000374,\n",
       " 0.16659350000009,\n",
       " 0.4260166000000254,\n",
       " 0.7438600000000406,\n",
       " 1.379498099999978,\n",
       " 2.772900899999968,\n",
       " 5.394141600000012,\n",
       " 10.842653641471154,\n",
       " 21.09228247639569,\n",
       " 42.39716536170083,\n",
       " 82.47547303245949,\n",
       " 165.78226051897693,\n",
       " 322.4972764109469,\n",
       " 648.2451755515049,\n",
       " 1261.0354262720762,\n",
       " 2534.7815038250064,\n",
       " 4930.926437613842,\n",
       " 9911.554323049286]"
      ]
     },
     "execution_count": 67,
     "metadata": {},
     "output_type": "execute_result"
    }
   ],
   "source": [
    "HInsertTime"
   ]
  },
  {
   "cell_type": "markdown",
   "metadata": {},
   "source": [
    "#### Hash Table Search\n",
    "##### Search Time Complexity: O(1)"
   ]
  },
  {
   "cell_type": "code",
   "execution_count": 68,
   "metadata": {},
   "outputs": [
    {
     "name": "stderr",
     "output_type": "stream",
     "text": [
      "C:\\Anaconda3\\lib\\site-packages\\ipykernel_launcher.py:6: DeprecationWarning: time.clock has been deprecated in Python 3.3 and will be removed from Python 3.8: use time.perf_counter or time.process_time instead\n",
      "  \n",
      "C:\\Anaconda3\\lib\\site-packages\\ipykernel_launcher.py:9: DeprecationWarning: time.clock has been deprecated in Python 3.3 and will be removed from Python 3.8: use time.perf_counter or time.process_time instead\n",
      "  if __name__ == '__main__':\n"
     ]
    }
   ],
   "source": [
    "t = 18\n",
    "\n",
    "HSearchTime = list()\n",
    "\n",
    "for n in range (10,t):\n",
    "    starttime = time.clock()\n",
    "    for i in range(1,2**n+1):\n",
    "        H.lookup(str((np.random.randint(1,(2**30)+1))))\n",
    "    endtime = time.clock()\n",
    "    HSearchTime.append(endtime - starttime)\n"
   ]
  },
  {
   "cell_type": "code",
   "execution_count": 69,
   "metadata": {},
   "outputs": [
    {
     "data": {
      "text/plain": [
       "[0.45584249999990334,\n",
       " 0.9309573000000455,\n",
       " 1.846706999999924,\n",
       " 3.6762633999999252,\n",
       " 7.1961822999999185,\n",
       " 14.52433910000002,\n",
       " 28.805139900000086,\n",
       " 56.60864470000001]"
      ]
     },
     "execution_count": 69,
     "metadata": {},
     "output_type": "execute_result"
    }
   ],
   "source": [
    "HSearchTime"
   ]
  },
  {
   "cell_type": "markdown",
   "metadata": {},
   "source": [
    "#### 剩餘時間估計\n"
   ]
  },
  {
   "cell_type": "code",
   "execution_count": 70,
   "metadata": {},
   "outputs": [],
   "source": [
    "t = len(HSearchTime)\n",
    "for i in range(0,21):\n",
    "    if(i>=t):\n",
    "        HSearchTime.append(HSearchTime[i-2]/HSearchTime[i-3]*HSearchTime[i-1])"
   ]
  },
  {
   "cell_type": "code",
   "execution_count": 71,
   "metadata": {},
   "outputs": [
    {
     "data": {
      "text/plain": [
       "[0.45584249999990334,\n",
       " 0.9309573000000455,\n",
       " 1.846706999999924,\n",
       " 3.6762633999999252,\n",
       " 7.1961822999999185,\n",
       " 14.52433910000002,\n",
       " 28.805139900000086,\n",
       " 56.60864470000001,\n",
       " 112.26809832145109,\n",
       " 220.63232156090567,\n",
       " 437.5651687327848,\n",
       " 859.9149754481733,\n",
       " 1705.4112410450218,\n",
       " 3351.5205739967064,\n",
       " 6646.844193530539,\n",
       " 13062.559065294708,\n",
       " 25906.09037266473,\n",
       " 50911.35368768906,\n",
       " 100969.04619035413,\n",
       " 198427.11687325043,\n",
       " 393527.08733491617]"
      ]
     },
     "execution_count": 71,
     "metadata": {},
     "output_type": "execute_result"
    }
   ],
   "source": [
    "HSearchTime"
   ]
  },
  {
   "cell_type": "code",
   "execution_count": 72,
   "metadata": {},
   "outputs": [
    {
     "data": {
      "text/plain": [
       "Text(0, 0.5, '時間')"
      ]
     },
     "execution_count": 72,
     "metadata": {},
     "output_type": "execute_result"
    },
    {
     "data": {
      "image/png": "[encoded data removed]",
      "text/plain": [
       "<Figure size 432x288 with 1 Axes>"
      ]
     },
     "metadata": {
      "needs_background": "light"
     },
     "output_type": "display_data"
    }
   ],
   "source": [
    "plt.plot(range(10,31),HInsertTime)\n",
    "plt.plot(range(10,31),HSearchTime)\n",
    "plt.xlabel(\"次數\",fontproperties='SimSun')\n",
    "plt.ylabel(\"時間\",fontproperties='SimSun')"
   ]
  },
  {
   "cell_type": "markdown",
   "metadata": {},
   "source": [
    "#### Sorted Array 程式碼來源\n",
    "https://www.geeksforgeeks.org/search-insert-and-delete-in-a-sorted-array/"
   ]
  },
  {
   "cell_type": "code",
   "execution_count": 97,
   "metadata": {},
   "outputs": [],
   "source": [
    "# Inserts a key in arr[] of given capacity.  \n",
    "# n is current size of arr[]. This function  \n",
    "# returns n+1 if insertion is successful, else n. \n",
    "def insertSorted(arr, n, key, capacity): \n",
    "    # Cannot insert more elements if n is >= capcity \n",
    "    arr.append(0)\n",
    "    capacity = capacity + 1\n",
    "    if (n >= capacity): \n",
    "        return n \n",
    "    i = n - 1\n",
    "    while i >= 0 and arr[i] > key: \n",
    "        arr[i + 1] = arr[i] \n",
    "        i -= 1\n",
    "    arr[i + 1] = key \n",
    "    return (n + 1)\n",
    "def deleteElement(arr, n, key):   \n",
    "    # Find position of element to be deleted  \n",
    "    pos = binarySearch(arr, 0, n - 1, key)  \n",
    "    if (pos == -1): \n",
    "        print(\"Element not found\") \n",
    "        return n        \n",
    "    # Deleting element  \n",
    "    for i in range(pos,n - 1): \n",
    "        arr[i] = arr[i + 1]    \n",
    "    return n - 1 \n",
    "# To search a ley to be deleted  \n",
    "def binarySearch(arr, low, high, key):  \n",
    "    if (high < low): \n",
    "        return -1 \n",
    "    mid = (low + high) // 2    \n",
    "    if (key == arr[mid]): \n",
    "        return mid  \n",
    "    if (key > arr[mid]): \n",
    "        return binarySearch(arr, (mid + 1), high, key)     \n",
    "    return binarySearch(arr, low, (mid - 1), key)    \n",
    "# This code is contributed by Mohit Kumar "
   ]
  },
  {
   "cell_type": "code",
   "execution_count": null,
   "metadata": {},
   "outputs": [],
   "source": []
  },
  {
   "cell_type": "markdown",
   "metadata": {},
   "source": [
    "#### Sorted Array Insertion\n",
    "##### Insertion Time Complexity: O(n)"
   ]
  },
  {
   "cell_type": "code",
   "execution_count": 98,
   "metadata": {},
   "outputs": [
    {
     "name": "stderr",
     "output_type": "stream",
     "text": [
      "C:\\Anaconda3\\lib\\site-packages\\ipykernel_launcher.py:8: DeprecationWarning: time.clock has been deprecated in Python 3.3 and will be removed from Python 3.8: use time.perf_counter or time.process_time instead\n",
      "  \n",
      "C:\\Anaconda3\\lib\\site-packages\\ipykernel_launcher.py:14: DeprecationWarning: time.clock has been deprecated in Python 3.3 and will be removed from Python 3.8: use time.perf_counter or time.process_time instead\n",
      "  \n"
     ]
    }
   ],
   "source": [
    "t = 15\n",
    "AInsertTime = list()\n",
    "for n in range (10,t):\n",
    "    arr = []\n",
    "    arr.append(0)\n",
    "    count = 0\n",
    "    starttime = time.clock()\n",
    "    for i in range(1,2**n+1):\n",
    "        capacity = len(arr)\n",
    "        key = np.random.randint(1,(2**30)+1)\n",
    "        count = insertSorted(arr, count, key, capacity)\n",
    "    endtime = time.clock()\n",
    "    AInsertTime.append(endtime - starttime)"
   ]
  },
  {
   "cell_type": "code",
   "execution_count": 99,
   "metadata": {
    "scrolled": true
   },
   "outputs": [
    {
     "data": {
      "text/plain": [
       "[0.05456260000005386,\n",
       " 0.1392031999999972,\n",
       " 0.5542382000000998,\n",
       " 2.1891774999999143,\n",
       " 9.20237659999998]"
      ]
     },
     "execution_count": 99,
     "metadata": {},
     "output_type": "execute_result"
    }
   ],
   "source": [
    "AInsertTime"
   ]
  },
  {
   "cell_type": "markdown",
   "metadata": {},
   "source": [
    "#### 剩餘時間估計\n"
   ]
  },
  {
   "cell_type": "code",
   "execution_count": 100,
   "metadata": {},
   "outputs": [],
   "source": [
    "t = len(AInsertTime)\n",
    "for i in range(0,21):\n",
    "    if(i>=t):\n",
    "        AInsertTime.append(AInsertTime[i-2]/AInsertTime[i-3]*AInsertTime[i-1])"
   ]
  },
  {
   "cell_type": "markdown",
   "metadata": {},
   "source": [
    "#### Sorted Array Search\n",
    "##### Search Time Complexity: O(log n)"
   ]
  },
  {
   "cell_type": "code",
   "execution_count": 101,
   "metadata": {},
   "outputs": [
    {
     "name": "stderr",
     "output_type": "stream",
     "text": [
      "C:\\Anaconda3\\lib\\site-packages\\ipykernel_launcher.py:5: DeprecationWarning: time.clock has been deprecated in Python 3.3 and will be removed from Python 3.8: use time.perf_counter or time.process_time instead\n",
      "  \"\"\"\n",
      "C:\\Anaconda3\\lib\\site-packages\\ipykernel_launcher.py:11: DeprecationWarning: time.clock has been deprecated in Python 3.3 and will be removed from Python 3.8: use time.perf_counter or time.process_time instead\n",
      "  # This is added back by InteractiveShellApp.init_path()\n"
     ]
    }
   ],
   "source": [
    "t = 17\n",
    "ASearchTime = list()\n",
    "\n",
    "for n in range (10,t):\n",
    "    starttime = time.clock()\n",
    "    for i in range(1,2**n+1):\n",
    "        height = len(arr)\n",
    "        key = np.random.randint(1,(2**30)+1)\n",
    "        index = binarySearch(arr, 0, height, key)\n",
    "    endtime = time.clock()\n",
    "    ASearchTime.append(endtime - starttime)"
   ]
  },
  {
   "cell_type": "code",
   "execution_count": 102,
   "metadata": {},
   "outputs": [
    {
     "data": {
      "text/plain": [
       "[0.018041899999957423,\n",
       " 0.027072900000007394,\n",
       " 0.04333650000000944,\n",
       " 0.0795987999999852,\n",
       " 0.16951019999999062,\n",
       " 0.3132875999999669,\n",
       " 0.6691697999999633]"
      ]
     },
     "execution_count": 102,
     "metadata": {},
     "output_type": "execute_result"
    }
   ],
   "source": [
    "ASearchTime"
   ]
  },
  {
   "cell_type": "markdown",
   "metadata": {},
   "source": [
    "#### 剩餘時間估計\n"
   ]
  },
  {
   "cell_type": "code",
   "execution_count": 103,
   "metadata": {},
   "outputs": [],
   "source": [
    "t = len(ASearchTime)\n",
    "for i in range(0,21):\n",
    "    if(i>=t):\n",
    "        ASearchTime.append(ASearchTime[i-2]/ASearchTime[i-3]*ASearchTime[i-1])"
   ]
  },
  {
   "cell_type": "code",
   "execution_count": 104,
   "metadata": {},
   "outputs": [
    {
     "data": {
      "text/plain": [
       "Text(0, 0.5, '時間')"
      ]
     },
     "execution_count": 104,
     "metadata": {},
     "output_type": "execute_result"
    },
    {
     "data": {
      "image/png": "[encoded data removed]",
      "text/plain": [
       "<Figure size 432x288 with 1 Axes>"
      ]
     },
     "metadata": {
      "needs_background": "light"
     },
     "output_type": "display_data"
    }
   ],
   "source": [
    "plt.plot(range(10,31),SInsertTime)\n",
    "plt.plot(range(10,31),TInsertTime)\n",
    "plt.plot(range(10,31),HInsertTime)\n",
    "plt.plot(range(10,31),AInsertTime)\n",
    "plt.xlabel(\"次數\",fontproperties='SimSun')\n",
    "plt.ylabel(\"時間\",fontproperties='SimSun')"
   ]
  },
  {
   "cell_type": "code",
   "execution_count": 105,
   "metadata": {},
   "outputs": [
    {
     "data": {
      "text/plain": [
       "Text(0, 0.5, '時間')"
      ]
     },
     "execution_count": 105,
     "metadata": {},
     "output_type": "execute_result"
    },
    {
     "data": {
      "image/png": "[encoded data removed]",
      "text/plain": [
       "<Figure size 432x288 with 1 Axes>"
      ]
     },
     "metadata": {
      "needs_background": "light"
     },
     "output_type": "display_data"
    }
   ],
   "source": [
    "plt.plot(range(10,31),SInsertTime)\n",
    "plt.plot(range(10,31),TInsertTime)\n",
    "plt.plot(range(10,31),HInsertTime)\n",
    "plt.xlabel(\"次數\",fontproperties='SimSun')\n",
    "plt.ylabel(\"時間\",fontproperties='SimSun')"
   ]
  },
  {
   "cell_type": "code",
   "execution_count": 106,
   "metadata": {},
   "outputs": [
    {
     "data": {
      "text/plain": [
       "Text(0, 0.5, '時間')"
      ]
     },
     "execution_count": 106,
     "metadata": {},
     "output_type": "execute_result"
    },
    {
     "data": {
      "image/png": "[encoded data removed]",
      "text/plain": [
       "<Figure size 432x288 with 1 Axes>"
      ]
     },
     "metadata": {
      "needs_background": "light"
     },
     "output_type": "display_data"
    }
   ],
   "source": [
    "plt.plot(range(10,31),SSearchTime)\n",
    "plt.plot(range(10,31),TSearchTime)\n",
    "plt.plot(range(10,31),HSearchTime)\n",
    "plt.plot(range(10,31),ASearchTime)\n",
    "plt.xlabel(\"次數\",fontproperties='SimSun')\n",
    "plt.ylabel(\"時間\",fontproperties='SimSun')"
   ]
  },
  {
   "cell_type": "code",
   "execution_count": 107,
   "metadata": {},
   "outputs": [
    {
     "data": {
      "text/plain": [
       "206694.9554055764"
      ]
     },
     "execution_count": 107,
     "metadata": {},
     "output_type": "execute_result"
    }
   ],
   "source": [
    "SInsertTime[20]"
   ]
  },
  {
   "cell_type": "code",
   "execution_count": 108,
   "metadata": {},
   "outputs": [
    {
     "data": {
      "text/plain": [
       "11316.683780418289"
      ]
     },
     "execution_count": 108,
     "metadata": {},
     "output_type": "execute_result"
    }
   ],
   "source": [
    "TInsertTime[20]"
   ]
  },
  {
   "cell_type": "code",
   "execution_count": 109,
   "metadata": {},
   "outputs": [
    {
     "data": {
      "text/plain": [
       "9911.554323049286"
      ]
     },
     "execution_count": 109,
     "metadata": {},
     "output_type": "execute_result"
    }
   ],
   "source": [
    "HInsertTime[20]"
   ]
  },
  {
   "cell_type": "code",
   "execution_count": 110,
   "metadata": {},
   "outputs": [
    {
     "data": {
      "text/plain": [
       "53153072969.326126"
      ]
     },
     "execution_count": 110,
     "metadata": {},
     "output_type": "execute_result"
    }
   ],
   "source": [
    "AInsertTime[20]"
   ]
  },
  {
   "cell_type": "code",
   "execution_count": 111,
   "metadata": {},
   "outputs": [
    {
     "data": {
      "text/plain": [
       "24336.55631779841"
      ]
     },
     "execution_count": 111,
     "metadata": {},
     "output_type": "execute_result"
    }
   ],
   "source": [
    "SSearchTime[20]"
   ]
  },
  {
   "cell_type": "code",
   "execution_count": 112,
   "metadata": {},
   "outputs": [
    {
     "data": {
      "text/plain": [
       "10820.704249278288"
      ]
     },
     "execution_count": 112,
     "metadata": {},
     "output_type": "execute_result"
    }
   ],
   "source": [
    "TSearchTime[20]"
   ]
  },
  {
   "cell_type": "code",
   "execution_count": 113,
   "metadata": {},
   "outputs": [
    {
     "data": {
      "text/plain": [
       "393527.08733491617"
      ]
     },
     "execution_count": 113,
     "metadata": {},
     "output_type": "execute_result"
    }
   ],
   "source": [
    "HSearchTime[20]"
   ]
  },
  {
   "cell_type": "code",
   "execution_count": 114,
   "metadata": {},
   "outputs": [
    {
     "data": {
      "text/plain": [
       "9998.153687419564"
      ]
     },
     "execution_count": 114,
     "metadata": {},
     "output_type": "execute_result"
    }
   ],
   "source": [
    "ASearchTime[20]"
   ]
  },
  {
   "cell_type": "code",
   "execution_count": null,
   "metadata": {},
   "outputs": [],
   "source": []
  },
  {
   "cell_type": "code",
   "execution_count": null,
   "metadata": {},
   "outputs": [],
   "source": []
  },
  {
   "cell_type": "code",
   "execution_count": null,
   "metadata": {},
   "outputs": [],
   "source": []
  }
 ],
 "metadata": {
  "kernelspec": {
   "display_name": "Python 3",
   "language": "python",
   "name": "python3"
  },
  "language_info": {
   "codemirror_mode": {
    "name": "ipython",
    "version": 3
   },
   "file_extension": ".py",
   "mimetype": "text/x-python",
   "name": "python",
   "nbconvert_exporter": "python",
   "pygments_lexer": "ipython3",
   "version": "3.7.3"
  }
 },
 "nbformat": 4,
 "nbformat_minor": 2
}
