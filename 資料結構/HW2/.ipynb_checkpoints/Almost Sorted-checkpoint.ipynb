{
 "cells": [
  {
   "cell_type": "code",
   "execution_count": 1,
   "metadata": {},
   "outputs": [],
   "source": [
    "%matplotlib inline\n",
    "\n",
    "import numpy as np\n",
    "import matplotlib.pyplot as plt\n",
    "import time\n",
    "import random\n",
    "import math"
   ]
  },
  {
   "cell_type": "markdown",
   "metadata": {},
   "source": [
    "## Insertion Sort"
   ]
  },
  {
   "cell_type": "code",
   "execution_count": 2,
   "metadata": {},
   "outputs": [],
   "source": [
    "def insertion_sort(list): #in-place\n",
    "    for i in range(1, len(list)): #第一個元素固定，從第二個開始\n",
    "        tmp = list[i]\n",
    "        j = i - 1 #固定元素的前一個數字\n",
    "        while j >= 0 and tmp < list[j]:\n",
    "            list[j + 1] = list[j] #值向右\n",
    "            j = j - 1\n",
    "        list[ j + 1 ] = tmp"
   ]
  },
  {
   "cell_type": "code",
   "execution_count": 3,
   "metadata": {},
   "outputs": [
    {
     "name": "stderr",
     "output_type": "stream",
     "text": [
      "C:\\Anaconda3\\lib\\site-packages\\ipykernel_launcher.py:10: DeprecationWarning: time.clock has been deprecated in Python 3.3 and will be removed from Python 3.8: use time.perf_counter or time.process_time instead\n",
      "  # Remove the CWD from sys.path while we load stuff.\n",
      "C:\\Anaconda3\\lib\\site-packages\\ipykernel_launcher.py:12: DeprecationWarning: time.clock has been deprecated in Python 3.3 and will be removed from Python 3.8: use time.perf_counter or time.process_time instead\n",
      "  if sys.path[0] == '':\n"
     ]
    }
   ],
   "source": [
    "t = 23\n",
    "InsertionSort = list()\n",
    "\n",
    "for k in range(10,t):\n",
    "    M = list()\n",
    "    for i in range(10):\n",
    "        arr = list(np.arange(1,2**k+1))\n",
    "        r = random.sample(arr,100)\n",
    "        arr[arr.index(r[i])] = random.randint(1,1001) \n",
    "        starttime = time.clock()\n",
    "        insertion_sort(arr)\n",
    "        endtime = time.clock()\n",
    "        M.append(endtime - starttime)\n",
    "    InsertionSort.append(np.mean(M))"
   ]
  },
  {
   "cell_type": "markdown",
   "metadata": {},
   "source": [
    "### 估計時間\n",
    "根據圖估計，執行時間隨數字越大呈倍數上升"
   ]
  },
  {
   "cell_type": "code",
   "execution_count": 4,
   "metadata": {
    "scrolled": true
   },
   "outputs": [],
   "source": [
    "t = len(InsertionSort)\n",
    "for i in range(0,21):\n",
    "    if(i>=t):\n",
    "        InsertionSort.append(InsertionSort[i-2]/InsertionSort[i-3]*InsertionSort[i-1])"
   ]
  },
  {
   "cell_type": "markdown",
   "metadata": {},
   "source": [
    "## Merge Sort"
   ]
  },
  {
   "cell_type": "code",
   "execution_count": 5,
   "metadata": {},
   "outputs": [],
   "source": [
    "# Python program for implementation of MergeSort \n",
    "# Merges two subarrays of arr[]. \n",
    "# First subarray is arr[l..m] \n",
    "# Second subarray is arr[m+1..r] \n",
    "def merge(arr, l, m, r): \n",
    "    n1 = m - l + 1\n",
    "    n2 = r- m \n",
    "    # create temp arrays \n",
    "    L = [0] * (n1) \n",
    "    R = [0] * (n2) \n",
    "    # Copy data to temp arrays L[] and R[] \n",
    "    for i in range(0 , n1): \n",
    "        L[i] = arr[l + i] \n",
    "    for j in range(0 , n2): \n",
    "        R[j] = arr[m + 1 + j] \n",
    "    # Merge the temp arrays back into arr[l..r] \n",
    "    i = 0     # Initial index of first subarray \n",
    "    j = 0     # Initial index of second subarray \n",
    "    k = l     # Initial index of merged subarray \n",
    "    while i < n1 and j < n2 : \n",
    "        if L[i] <= R[j]: \n",
    "            arr[k] = L[i] \n",
    "            i += 1\n",
    "        else: \n",
    "            arr[k] = R[j] \n",
    "            j += 1\n",
    "        k += 1\n",
    "    # Copy the remaining elements of L[], if there \n",
    "    # are any \n",
    "    while i < n1: \n",
    "        arr[k] = L[i] \n",
    "        i += 1\n",
    "        k += 1\n",
    "    # Copy the remaining elements of R[], if there \n",
    "    # are any \n",
    "    while j < n2: \n",
    "        arr[k] = R[j] \n",
    "        j += 1\n",
    "        k += 1\n",
    "# l is for left index and r is right index of the \n",
    "# sub-array of arr to be sorted \n",
    "def mergeSort(arr,l,r): \n",
    "    if l < r: \n",
    "        # Same as (l+r)//2, but avoids overflow for \n",
    "        # large l and h \n",
    "        m = (l+(r-1))//2\n",
    "        # Sort first and second halves \n",
    "        mergeSort(arr, l, m) \n",
    "        mergeSort(arr, m+1, r) \n",
    "        merge(arr, l, m, r)   \n"
   ]
  },
  {
   "cell_type": "code",
   "execution_count": 6,
   "metadata": {},
   "outputs": [
    {
     "name": "stderr",
     "output_type": "stream",
     "text": [
      "C:\\Anaconda3\\lib\\site-packages\\ipykernel_launcher.py:11: DeprecationWarning: time.clock has been deprecated in Python 3.3 and will be removed from Python 3.8: use time.perf_counter or time.process_time instead\n",
      "  # This is added back by InteractiveShellApp.init_path()\n",
      "C:\\Anaconda3\\lib\\site-packages\\ipykernel_launcher.py:14: DeprecationWarning: time.clock has been deprecated in Python 3.3 and will be removed from Python 3.8: use time.perf_counter or time.process_time instead\n",
      "  \n"
     ]
    }
   ],
   "source": [
    "t = 19\n",
    "MergeSort = list()\n",
    "\n",
    "for k in range(10,t):\n",
    "    M = list()\n",
    "    \n",
    "    for i in range(10):\n",
    "        arr = list(np.arange(1,2**k+1))\n",
    "        r = random.sample(arr,100)\n",
    "        arr[arr.index(r[i])] = random.randint(1,1001) \n",
    "        starttime = time.clock()\n",
    "        n = len(arr) \n",
    "        mergeSort(arr,0,n-1) \n",
    "        endtime = time.clock()\n",
    "        M.append(endtime - starttime)\n",
    "    MergeSort.append(np.mean(M))\n"
   ]
  },
  {
   "cell_type": "markdown",
   "metadata": {},
   "source": [
    "### 估計時間\n",
    "根據圖估計，執行時間隨數字越大呈倍數上升"
   ]
  },
  {
   "cell_type": "code",
   "execution_count": 7,
   "metadata": {
    "scrolled": true
   },
   "outputs": [],
   "source": [
    "t = len(MergeSort)\n",
    "for i in range(0,21):\n",
    "    if(i>=t):\n",
    "        MergeSort.append(MergeSort[i-2]/MergeSort[i-3]*MergeSort[i-1])"
   ]
  },
  {
   "cell_type": "markdown",
   "metadata": {},
   "source": [
    "## Randomized Quick Sort"
   ]
  },
  {
   "cell_type": "code",
   "execution_count": 8,
   "metadata": {},
   "outputs": [],
   "source": [
    "'''\n",
    "The function which implements randomised QuickSort, \n",
    "using Haore's partition scheme. \n",
    "arr :- array to be sorted. \n",
    "start :- starting index of the array. \n",
    "stop :- ending index of the array. \n",
    "'''\n",
    "def quicksort(arr, start, stop): \n",
    "    if(start < stop):  \n",
    "        # pivotindex is the index where \n",
    "        # the pivot lies in the array \n",
    "        pivotindex = partitionrand(arr, start, stop)   \n",
    "        # At this stage the array is partially sorted  \n",
    "        # around the pivot. separately sorting the  \n",
    "        # left half of the array and the right half of the array. \n",
    "        quicksort(arr , start , pivotindex) \n",
    "        quicksort(arr, pivotindex + 1, stop) \n",
    "# This function generates random pivot, swaps the first \n",
    "# element with the pivot and calls the partition function. \n",
    "def partitionrand(arr , start, stop): \n",
    "# Generating a random number between  \n",
    "    # the starting index of the array and  \n",
    "    # the ending index of the array. \n",
    "    randpivot = random.randrange(start, stop) \n",
    "# Swapping the starting element of  \n",
    "    # the array and the pivot \n",
    "    arr[start], arr[randpivot] = arr[randpivot], arr[start] \n",
    "    return partition(arr, start, stop) \n",
    "''' \n",
    "This function takes the first element as pivot,  \n",
    "places the pivot element at the correct position  \n",
    "in the sorted array. All the elements are re-arranged  \n",
    "according to the pivot, the elements smaller than  \n",
    "the pivot is places on the left and the elements \n",
    "greater than the pivot is placed to the right of pivot. \n",
    "'''\n",
    "def partition(arr,start,stop): \n",
    "    pivot = start # pivot \n",
    "    i = start - 1\n",
    "    j = stop + 1\n",
    "    while True: \n",
    "        while True: \n",
    "            i = i + 1\n",
    "            if arr[i] >= arr[pivot]: \n",
    "                break\n",
    "        while True: \n",
    "            j = j - 1\n",
    "            if arr[j] <= arr[pivot]: \n",
    "                break\n",
    "        if i >= j: \n",
    "            return j \n",
    "        arr[i] , arr[j] = arr[j] , arr[i] "
   ]
  },
  {
   "cell_type": "code",
   "execution_count": 9,
   "metadata": {},
   "outputs": [
    {
     "name": "stderr",
     "output_type": "stream",
     "text": [
      "C:\\Anaconda3\\lib\\site-packages\\ipykernel_launcher.py:11: DeprecationWarning: time.clock has been deprecated in Python 3.3 and will be removed from Python 3.8: use time.perf_counter or time.process_time instead\n",
      "  # This is added back by InteractiveShellApp.init_path()\n",
      "C:\\Anaconda3\\lib\\site-packages\\ipykernel_launcher.py:13: DeprecationWarning: time.clock has been deprecated in Python 3.3 and will be removed from Python 3.8: use time.perf_counter or time.process_time instead\n",
      "  del sys.path[0]\n"
     ]
    }
   ],
   "source": [
    "t = 17\n",
    "QuickSort = list()\n",
    "\n",
    "for k in range(10,t):\n",
    "    M = list()\n",
    "    for i in range(10):\n",
    "        arr = list(np.arange(1,2**k+1))\n",
    "        r = random.sample(arr,100)\n",
    "        for i in range(len(r)):\n",
    "            arr[arr.index(r[i])] = random.randint(1,1001) \n",
    "        starttime = time.clock()\n",
    "        quicksort(arr, 0, len(arr) - 1) \n",
    "        endtime = time.clock()\n",
    "        M.append(endtime - starttime)\n",
    "    QuickSort.append(np.mean(M))"
   ]
  },
  {
   "cell_type": "markdown",
   "metadata": {},
   "source": [
    "### 估計時間\n",
    "根據圖估計，執行時間隨數字越大呈倍數上升"
   ]
  },
  {
   "cell_type": "code",
   "execution_count": 10,
   "metadata": {},
   "outputs": [],
   "source": [
    "t = len(QuickSort)\n",
    "for i in range(0,21):\n",
    "    if(i>=t):\n",
    "        QuickSort.append(QuickSort[i-2]/QuickSort[i-3]*QuickSort[i-1])"
   ]
  },
  {
   "cell_type": "markdown",
   "metadata": {},
   "source": [
    "## Counting Sort"
   ]
  },
  {
   "cell_type": "code",
   "execution_count": 11,
   "metadata": {},
   "outputs": [],
   "source": [
    "def counting_sort(arr, max_val):\n",
    "    m = max_val + 1\n",
    "    count = [0] * m                \n",
    "    \n",
    "    for a in arr:\n",
    "    # count occurences\n",
    "        count[a] += 1             \n",
    "    i = 0\n",
    "    for a in range(m):            \n",
    "        for c in range(count[a]):  \n",
    "            arr[i] = a\n",
    "            i += 1\n",
    "    return arr"
   ]
  },
  {
   "cell_type": "code",
   "execution_count": 12,
   "metadata": {},
   "outputs": [
    {
     "name": "stderr",
     "output_type": "stream",
     "text": [
      "C:\\Anaconda3\\lib\\site-packages\\ipykernel_launcher.py:11: DeprecationWarning: time.clock has been deprecated in Python 3.3 and will be removed from Python 3.8: use time.perf_counter or time.process_time instead\n",
      "  # This is added back by InteractiveShellApp.init_path()\n",
      "C:\\Anaconda3\\lib\\site-packages\\ipykernel_launcher.py:13: DeprecationWarning: time.clock has been deprecated in Python 3.3 and will be removed from Python 3.8: use time.perf_counter or time.process_time instead\n",
      "  del sys.path[0]\n"
     ]
    }
   ],
   "source": [
    "t = 18\n",
    "CountingSort = list()\n",
    "\n",
    "for k in range(10,t):\n",
    "    M = list()\n",
    "    \n",
    "    for i in range(10):\n",
    "        arr = list(np.arange(1,2**k+1))\n",
    "        r = random.sample(arr,100)\n",
    "        arr[arr.index(r[i])] = random.randint(1,1001) \n",
    "        starttime = time.clock()\n",
    "        counting_sort(arr,max(arr))\n",
    "        endtime = time.clock()\n",
    "        M.append(endtime - starttime)\n",
    "    CountingSort.append(np.mean(M))"
   ]
  },
  {
   "cell_type": "markdown",
   "metadata": {},
   "source": [
    "### 估計時間\n",
    "根據圖估計，執行時間隨數字越大呈倍數上升"
   ]
  },
  {
   "cell_type": "code",
   "execution_count": 13,
   "metadata": {
    "scrolled": true
   },
   "outputs": [],
   "source": [
    "t = len(CountingSort)\n",
    "for i in range(0,21):\n",
    "    if(i>=t):\n",
    "        CountingSort.append(CountingSort[i-2]/CountingSort[i-3]*CountingSort[i-1])"
   ]
  },
  {
   "cell_type": "markdown",
   "metadata": {},
   "source": [
    "## Shell Sort"
   ]
  },
  {
   "cell_type": "code",
   "execution_count": 14,
   "metadata": {},
   "outputs": [],
   "source": [
    "def shellSort(array, n):\n",
    "    # Rearrange elements at each n/2, n/4, n/8, ... intervals\n",
    "    gap = n // 2\n",
    "    while gap > 0:\n",
    "        for i in range(gap, n):\n",
    "            temp = array[i]\n",
    "            j = i\n",
    "            while j >= gap and array[j - gap] > temp:\n",
    "                array[j] = array[j - gap]\n",
    "                j -= gap\n",
    "\n",
    "            array[j] = temp\n",
    "        gap //= 2"
   ]
  },
  {
   "cell_type": "code",
   "execution_count": 15,
   "metadata": {},
   "outputs": [
    {
     "name": "stderr",
     "output_type": "stream",
     "text": [
      "C:\\Anaconda3\\lib\\site-packages\\ipykernel_launcher.py:11: DeprecationWarning: time.clock has been deprecated in Python 3.3 and will be removed from Python 3.8: use time.perf_counter or time.process_time instead\n",
      "  # This is added back by InteractiveShellApp.init_path()\n",
      "C:\\Anaconda3\\lib\\site-packages\\ipykernel_launcher.py:14: DeprecationWarning: time.clock has been deprecated in Python 3.3 and will be removed from Python 3.8: use time.perf_counter or time.process_time instead\n",
      "  \n"
     ]
    }
   ],
   "source": [
    "t = 18\n",
    "ShellSort = list()\n",
    "\n",
    "for k in range(10,t):\n",
    "    M = list()\n",
    "    \n",
    "    for i in range(10):\n",
    "        arr = list(np.arange(1,2**k+1))\n",
    "        r = random.sample(arr,100)\n",
    "        arr[arr.index(r[i])] = random.randint(1,1001) \n",
    "        starttime = time.clock()\n",
    "        n = len(arr)\n",
    "        shellSort(arr, n)\n",
    "        endtime = time.clock()\n",
    "        M.append(endtime - starttime)\n",
    "    ShellSort.append(np.mean(M))"
   ]
  },
  {
   "cell_type": "markdown",
   "metadata": {},
   "source": [
    "### 估計時間\n",
    "根據圖估計，執行時間隨數字越大呈倍數上升"
   ]
  },
  {
   "cell_type": "code",
   "execution_count": 16,
   "metadata": {
    "scrolled": true
   },
   "outputs": [],
   "source": [
    "t = len(ShellSort)\n",
    "for i in range(0,21):\n",
    "    if(i>=t):\n",
    "        ShellSort.append(ShellSort[i-2]/ShellSort[i-3]*ShellSort[i-1])"
   ]
  },
  {
   "cell_type": "code",
   "execution_count": 22,
   "metadata": {},
   "outputs": [],
   "source": [
    "from pylab import *\n",
    "from matplotlib.ticker import MultipleLocator, FormatStrFormatter"
   ]
  },
  {
   "cell_type": "code",
   "execution_count": 24,
   "metadata": {},
   "outputs": [
    {
     "data": {
      "text/plain": [
       "Text(0, 0.5, '時間')"
      ]
     },
     "execution_count": 24,
     "metadata": {},
     "output_type": "execute_result"
    },
    {
     "data": {
      "image/png": "[encoded data removed]",
      "text/plain": [
       "<Figure size 432x288 with 1 Axes>"
      ]
     },
     "metadata": {
      "needs_background": "light"
     },
     "output_type": "display_data"
    }
   ],
   "source": [
    "plt.plot(range(10,31),InsertionSort)\n",
    "plt.plot(range(10,31),MergeSort)\n",
    "plt.plot(range(10,31),QuickSort)\n",
    "plt.plot(range(10,31),CountingSort)\n",
    "plt.plot(range(10,31),ShellSort)\n",
    "plt.xlabel(\"次數\",fontproperties='SimSun')\n",
    "plt.ylabel(\"時間\",fontproperties='SimSun')"
   ]
  },
  {
   "cell_type": "code",
   "execution_count": 21,
   "metadata": {},
   "outputs": [
    {
     "data": {
      "text/plain": [
       "Text(0, 0.5, '時間')"
      ]
     },
     "execution_count": 21,
     "metadata": {},
     "output_type": "execute_result"
    },
    {
     "data": {
      "image/png": "[encoded data removed]",
      "text/plain": [
       "<Figure size 432x288 with 1 Axes>"
      ]
     },
     "metadata": {
      "needs_background": "light"
     },
     "output_type": "display_data"
    }
   ],
   "source": [
    "plt.plot(range(10,31),InsertionSort, color='green', label='Insertion Sort')\n",
    "plt.plot(range(10,31),MergeSort, color='red', label='Merge Sort')\n",
    "plt.plot(range(10,31),QuickSort, color='blue', label='Quick Sort')\n",
    "plt.plot(range(10,31),CountingSort, color='purple', label='Counting Sort')\n",
    "plt.plot(range(10,31),ShellSort, color='yellow', label='Shell Sort')\n",
    "plt.xlabel(\"次數\",fontproperties='SimSun')\n",
    "plt.ylabel(\"時間\",fontproperties='SimSun')"
   ]
  },
  {
   "cell_type": "markdown",
   "metadata": {},
   "source": [
    "## 參考資料：\n",
    "###### https://jialin128.pixnet.net/blog/post/141019829-%5B-%E8%B3%87%E6%96%99%E7%B5%90%E6%A7%8B-%5D-%E6%8F%92%E5%85%A5%E6%8E%92%E5%BA%8F%E6%B3%95%EF%BC%88insertion-sort%EF%BC%89in-pytho\n",
    "###### https://www.geeksforgeeks.org/python-program-for-merge-sort/\n",
    "###### https://www.geeksforgeeks.org/python-program-for-quicksort/\n",
    "###### https://www.w3resource.com/python-exercises/data-structures-and-algorithms/python-search-and-sorting-exercise-10.php\n",
    "###### https://www.itread01.com/content/1545908120.html\n",
    "###### https://kopu.chat/2017/06/20/%E5%B8%8C%E7%88%BE%E6%8E%92%E5%BA%8F-shell-sort/\n",
    "###### https://www.programiz.com/dsa/shell-sort"
   ]
  },
  {
   "cell_type": "code",
   "execution_count": null,
   "metadata": {},
   "outputs": [],
   "source": []
  }
 ],
 "metadata": {
  "kernelspec": {
   "display_name": "Python 3",
   "language": "python",
   "name": "python3"
  },
  "language_info": {
   "codemirror_mode": {
    "name": "ipython",
    "version": 3
   },
   "file_extension": ".py",
   "mimetype": "text/x-python",
   "name": "python",
   "nbconvert_exporter": "python",
   "pygments_lexer": "ipython3",
   "version": "3.7.3"
  }
 },
 "nbformat": 4,
 "nbformat_minor": 2
}
