{
 "cells": [
  {
   "cell_type": "code",
   "execution_count": 8,
   "metadata": {},
   "outputs": [
    {
     "name": "stdout",
     "output_type": "stream",
     "text": [
      "輸入西元年：400\n",
      "西元400年是閏年\n"
     ]
    }
   ],
   "source": [
    "n = input(\"輸入西元年：\")\n",
    "n = int(n)\n",
    "if(n>=1911):\n",
    "    print(\"西元{}年是民國{}\".format(n,n-1911))\n",
    "if(n%400==0):\n",
    "    print(\"西元{}年是閏年\".format(n))\n",
    "elif(n%100==0):\n",
    "    print(\"西元{}年是平年\".format(n))\n",
    "elif(n%4==0):\n",
    "    print(\"西元{}年是閏年\".format(n))\n",
    "else :\n",
    "    print(\"西元{}年是平年\".format(n))"
   ]
  },
  {
   "cell_type": "code",
   "execution_count": null,
   "metadata": {},
   "outputs": [],
   "source": []
  }
 ],
 "metadata": {
  "kernelspec": {
   "display_name": "Python 3",
   "language": "python",
   "name": "python3"
  },
  "language_info": {
   "codemirror_mode": {
    "name": "ipython",
    "version": 3
   },
   "file_extension": ".py",
   "mimetype": "text/x-python",
   "name": "python",
   "nbconvert_exporter": "python",
   "pygments_lexer": "ipython3",
   "version": "3.7.3"
  }
 },
 "nbformat": 4,
 "nbformat_minor": 2
}
