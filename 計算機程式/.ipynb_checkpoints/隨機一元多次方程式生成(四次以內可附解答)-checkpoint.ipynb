{
 "cells": [
  {
   "cell_type": "code",
   "execution_count": 1,
   "metadata": {},
   "outputs": [],
   "source": [
    "import sympy as sp\n",
    "import numpy as np\n",
    "from sympy.abc import x,y,z"
   ]
  },
  {
   "cell_type": "code",
   "execution_count": 2,
   "metadata": {},
   "outputs": [
    {
     "data": {
      "text/latex": [
       "$\\displaystyle 10 x^{9} + 49 x^{8} + 16 x^{7} + 11 x^{6} + 49 x^{5} + 96 x^{4} + 90 x^{3} + 2 x^{2} + 53 x + 9$"
      ],
      "text/plain": [
       "10*x**9 + 49*x**8 + 16*x**7 + 11*x**6 + 49*x**5 + 96*x**4 + 90*x**3 + 2*x**2 + 53*x + 9"
      ]
     },
     "execution_count": 2,
     "metadata": {},
     "output_type": "execute_result"
    }
   ],
   "source": [
    "number = np.random.randint(1,10)\n",
    "power = number + 1\n",
    "f = 0\n",
    "while power>=0:\n",
    "    a = np.random.randint(1,100)\n",
    "    f = f + a*x**power\n",
    "    number = number - 1\n",
    "    power = power - 1\n",
    "f"
   ]
  },
  {
   "cell_type": "code",
   "execution_count": 5,
   "metadata": {},
   "outputs": [
    {
     "data": {
      "text/latex": [
       "$\\displaystyle 86 x^{2} + 73 x + 45$"
      ],
      "text/plain": [
       "86*x**2 + 73*x + 45"
      ]
     },
     "execution_count": 5,
     "metadata": {},
     "output_type": "execute_result"
    }
   ],
   "source": [
    "import sympy as sp\n",
    "import numpy as np\n",
    "from sympy.abc import x,y,z\n",
    "import sympy as sp\n",
    "import numpy as np\n",
    "from sympy.abc import x,y,z\n",
    "number = np.random.randint(1,10)\n",
    "power = number + 1\n",
    "f = 0\n",
    "while power>=0:\n",
    "    a = np.random.randint(1,100)\n",
    "    f = f + a*x**power\n",
    "    number = number - 1\n",
    "    power = power - 1\n",
    "f"
   ]
  },
  {
   "cell_type": "code",
   "execution_count": 8,
   "metadata": {},
   "outputs": [],
   "source": [
    "sol = sp.solve(f)      "
   ]
  },
  {
   "cell_type": "code",
   "execution_count": 9,
   "metadata": {},
   "outputs": [
    {
     "data": {
      "text/plain": [
       "[-73/172 - sqrt(10151)*I/172, -73/172 + sqrt(10151)*I/172]"
      ]
     },
     "execution_count": 9,
     "metadata": {},
     "output_type": "execute_result"
    }
   ],
   "source": [
    "sol"
   ]
  },
  {
   "cell_type": "code",
   "execution_count": 10,
   "metadata": {},
   "outputs": [
    {
     "data": {
      "text/latex": [
       "$\\displaystyle 84 x^{4} + 4 x^{3} + 36 x^{2} + 7 x + 75$"
      ],
      "text/plain": [
       "84*x**4 + 4*x**3 + 36*x**2 + 7*x + 75"
      ]
     },
     "execution_count": 10,
     "metadata": {},
     "output_type": "execute_result"
    }
   ],
   "source": [
    "import sympy as sp\n",
    "import numpy as np\n",
    "from sympy.abc import x,y,z\n",
    "import sympy as sp\n",
    "import numpy as np\n",
    "from sympy.abc import x,y,z\n",
    "number = np.random.randint(1,10)\n",
    "power = number + 1\n",
    "f = 0\n",
    "while power>=0:\n",
    "    a = np.random.randint(1,100)\n",
    "    f = f + a*x**power\n",
    "    number = number - 1\n",
    "    power = power - 1\n",
    "f"
   ]
  },
  {
   "cell_type": "code",
   "execution_count": 12,
   "metadata": {},
   "outputs": [
    {
     "data": {
      "text/plain": [
       "[-1/84 - sqrt(-503/1764 + 6401/(10584*(-49697/790272 + sqrt(10788332932887)*I/21337344)**(1/3)) + 2*(-49697/790272 + sqrt(10788332932887)*I/21337344)**(1/3))/2 - sqrt(-503/882 - 2*(-49697/790272 + sqrt(10788332932887)*I/21337344)**(1/3) + 5419/(37044*sqrt(-503/1764 + 6401/(10584*(-49697/790272 + sqrt(10788332932887)*I/21337344)**(1/3)) + 2*(-49697/790272 + sqrt(10788332932887)*I/21337344)**(1/3))) - 6401/(10584*(-49697/790272 + sqrt(10788332932887)*I/21337344)**(1/3)))/2,\n",
       " -1/84 + sqrt(-503/1764 + 6401/(10584*(-49697/790272 + sqrt(10788332932887)*I/21337344)**(1/3)) + 2*(-49697/790272 + sqrt(10788332932887)*I/21337344)**(1/3))/2 - sqrt(-503/882 - 2*(-49697/790272 + sqrt(10788332932887)*I/21337344)**(1/3) - 5419/(37044*sqrt(-503/1764 + 6401/(10584*(-49697/790272 + sqrt(10788332932887)*I/21337344)**(1/3)) + 2*(-49697/790272 + sqrt(10788332932887)*I/21337344)**(1/3))) - 6401/(10584*(-49697/790272 + sqrt(10788332932887)*I/21337344)**(1/3)))/2,\n",
       " -1/84 + sqrt(-503/882 - 2*(-49697/790272 + sqrt(10788332932887)*I/21337344)**(1/3) - 5419/(37044*sqrt(-503/1764 + 6401/(10584*(-49697/790272 + sqrt(10788332932887)*I/21337344)**(1/3)) + 2*(-49697/790272 + sqrt(10788332932887)*I/21337344)**(1/3))) - 6401/(10584*(-49697/790272 + sqrt(10788332932887)*I/21337344)**(1/3)))/2 + sqrt(-503/1764 + 6401/(10584*(-49697/790272 + sqrt(10788332932887)*I/21337344)**(1/3)) + 2*(-49697/790272 + sqrt(10788332932887)*I/21337344)**(1/3))/2,\n",
       " -1/84 + sqrt(-503/882 - 2*(-49697/790272 + sqrt(10788332932887)*I/21337344)**(1/3) + 5419/(37044*sqrt(-503/1764 + 6401/(10584*(-49697/790272 + sqrt(10788332932887)*I/21337344)**(1/3)) + 2*(-49697/790272 + sqrt(10788332932887)*I/21337344)**(1/3))) - 6401/(10584*(-49697/790272 + sqrt(10788332932887)*I/21337344)**(1/3)))/2 - sqrt(-503/1764 + 6401/(10584*(-49697/790272 + sqrt(10788332932887)*I/21337344)**(1/3)) + 2*(-49697/790272 + sqrt(10788332932887)*I/21337344)**(1/3))/2]"
      ]
     },
     "execution_count": 12,
     "metadata": {},
     "output_type": "execute_result"
    }
   ],
   "source": [
    "sol = sp.solve(f)   \n",
    "sol"
   ]
  },
  {
   "cell_type": "code",
   "execution_count": null,
   "metadata": {},
   "outputs": [],
   "source": []
  }
 ],
 "metadata": {
  "kernelspec": {
   "display_name": "Python 3",
   "language": "python",
   "name": "python3"
  },
  "language_info": {
   "codemirror_mode": {
    "name": "ipython",
    "version": 3
   },
   "file_extension": ".py",
   "mimetype": "text/x-python",
   "name": "python",
   "nbconvert_exporter": "python",
   "pygments_lexer": "ipython3",
   "version": "3.7.3"
  }
 },
 "nbformat": 4,
 "nbformat_minor": 2
}
