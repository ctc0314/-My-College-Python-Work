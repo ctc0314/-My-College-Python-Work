{
 "cells": [
  {
   "cell_type": "code",
   "execution_count": 9,
   "metadata": {},
   "outputs": [],
   "source": [
    "%matplotlib inline\n",
    "\n",
    "import numpy as np\n",
    "import matplotlib.pyplot as plt\n",
    "import time\n",
    "import random\n",
    "import math"
   ]
  },
  {
   "cell_type": "markdown",
   "metadata": {},
   "source": [
    "#### 程式碼來源\n",
    "https://www.geeksforgeeks.org/search-insert-and-delete-in-a-sorted-array/"
   ]
  },
  {
   "cell_type": "code",
   "execution_count": 37,
   "metadata": {},
   "outputs": [],
   "source": [
    "# Python3 program to implement insert  \n",
    "# operation in an sorted array. \n",
    "  \n",
    "# Inserts a key in arr[] of given capacity.  \n",
    "# n is current size of arr[]. This function  \n",
    "# returns n+1 if insertion is successful, else n. \n",
    "def insertSorted(arr, n, key, capacity): \n",
    "      \n",
    "    # Cannot insert more elements if n is  \n",
    "    # already more than or equal to capcity \n",
    "    if (n >= capacity):\n",
    "        arr.append(0)\n",
    "        return (n + 1)\n",
    "  \n",
    "    i = n - 1\n",
    "    while i >= 0 and arr[i] > key: \n",
    "        arr[i + 1] = arr[i] \n",
    "        i -= 1\n",
    "  \n",
    "    arr[i + 1] = key \n",
    "  \n",
    "    return (n + 1) \n",
    "  \n",
    "def deleteElement(arr, n, key): \n",
    "      \n",
    "    # Find position of element to be deleted  \n",
    "    pos = binarySearch(arr, 0, n - 1, key)  \n",
    "      \n",
    "    if (pos == -1): \n",
    "        print(\"Element not found\") \n",
    "        return n  \n",
    "          \n",
    "    # Deleting element  \n",
    "    for i in range(pos,n - 1): \n",
    "        arr[i] = arr[i + 1]  \n",
    "      \n",
    "    return n - 1 \n",
    "      \n",
    "# To search a ley to be deleted  \n",
    "def binarySearch(arr, low, high, key): \n",
    "      \n",
    "    if (high < low): \n",
    "        return -1 \n",
    "    mid = (low + high) // 2 \n",
    "      \n",
    "    if (key == arr[mid]): \n",
    "        return mid  \n",
    "    if (key > arr[mid]): \n",
    "        return binarySearch(arr, (mid + 1), high, key)  \n",
    "      \n",
    "    return binarySearch(arr, low, (mid - 1), key)  \n",
    "   \n",
    "# This code is contributed by Mohit Kumar "
   ]
  },
  {
   "cell_type": "code",
   "execution_count": 38,
   "metadata": {},
   "outputs": [
    {
     "name": "stdout",
     "output_type": "stream",
     "text": [
      "[12, 16, 20, 40, 50, 70, 0, 0, 0, 0, 0, 0, 0, 0, 0, 0, 0, 0, 0, 0, 0, 0, 0, 0, 0, 0]\n",
      "Before Insertion:  12 16 20 40 50 70 \n",
      "After Insertion: 12 16 20 26 40 50 70 "
     ]
    }
   ],
   "source": [
    "# Driver Code \n",
    "arr = [12, 16, 20, 40, 50, 70] \n",
    "  \n",
    "for i in range(20): \n",
    "    arr.append(0) \n",
    "print(arr)  \n",
    "capacity = len(arr) \n",
    "n = 6\n",
    "key = 26\n",
    "  \n",
    "print(\"Before Insertion: \", end = \" \"); \n",
    "for i in range(n): \n",
    "    print(arr[i], end = \" \") \n",
    "      \n",
    "# Inserting key \n",
    "n = insertSorted(arr, n, key, capacity) \n",
    "  \n",
    "print(\"\\nAfter Insertion: \", end = \"\") \n",
    "for i in range(n): \n",
    "    print(arr[i], end = \" \") \n",
    "  \n",
    "# This code is contributed by Mohit Kumar "
   ]
  },
  {
   "cell_type": "code",
   "execution_count": null,
   "metadata": {},
   "outputs": [],
   "source": []
  },
  {
   "cell_type": "code",
   "execution_count": 42,
   "metadata": {},
   "outputs": [],
   "source": [
    "arr = []"
   ]
  },
  {
   "cell_type": "code",
   "execution_count": 43,
   "metadata": {},
   "outputs": [
    {
     "name": "stdout",
     "output_type": "stream",
     "text": [
      "[0]\n"
     ]
    }
   ],
   "source": [
    "capacity = len(arr)\n",
    "key = np.random.randint(1,(2**30)+1)\n",
    "insertSorted(arr, n, key, capacity)\n",
    "print(arr)"
   ]
  },
  {
   "cell_type": "code",
   "execution_count": null,
   "metadata": {},
   "outputs": [],
   "source": []
  },
  {
   "cell_type": "markdown",
   "metadata": {},
   "source": [
    "#### Sorted Array Insertion"
   ]
  },
  {
   "cell_type": "code",
   "execution_count": 31,
   "metadata": {},
   "outputs": [
    {
     "name": "stderr",
     "output_type": "stream",
     "text": [
      "C:\\Anaconda3\\lib\\site-packages\\ipykernel_launcher.py:7: DeprecationWarning: time.clock has been deprecated in Python 3.3 and will be removed from Python 3.8: use time.perf_counter or time.process_time instead\n",
      "  import sys\n",
      "C:\\Anaconda3\\lib\\site-packages\\ipykernel_launcher.py:14: DeprecationWarning: time.clock has been deprecated in Python 3.3 and will be removed from Python 3.8: use time.perf_counter or time.process_time instead\n",
      "  \n"
     ]
    }
   ],
   "source": [
    "t = 15\n",
    "AInsertTime = list()\n",
    "\n",
    "for n in range (10,t):\n",
    "    arr = []\n",
    "    count = 0\n",
    "    starttime = time.clock()\n",
    "    for i in range(1,2**n+1):\n",
    "        arr.append(0)\n",
    "        capacity = len(arr)\n",
    "        key = np.random.randint(1,(2**30)+1)\n",
    "        insertSorted(arr, count, key, capacity)\n",
    "        count = insertSorted(arr, n, key, capacity) \n",
    "    endtime = time.clock()\n",
    "    AInsertTime.append(endtime - starttime)\n"
   ]
  },
  {
   "cell_type": "code",
   "execution_count": null,
   "metadata": {},
   "outputs": [],
   "source": []
  },
  {
   "cell_type": "code",
   "execution_count": 15,
   "metadata": {},
   "outputs": [
    {
     "data": {
      "text/plain": [
       "[0.010862900000006448,\n",
       " 0.0202075000000832,\n",
       " 0.025352399999974295,\n",
       " 0.06794439999998758,\n",
       " 0.10617719999993369]"
      ]
     },
     "execution_count": 15,
     "metadata": {},
     "output_type": "execute_result"
    }
   ],
   "source": [
    "AInsertTime"
   ]
  },
  {
   "cell_type": "markdown",
   "metadata": {},
   "source": [
    "#### 剩餘時間估計\n"
   ]
  },
  {
   "cell_type": "code",
   "execution_count": 36,
   "metadata": {},
   "outputs": [],
   "source": [
    "t = len(SInsertTime)\n",
    "for i in range(0,21):\n",
    "    if(i>=t):\n",
    "        SInsertTime.append(SInsertTime[i-2]/SInsertTime[i-3]*SInsertTime[i-1])"
   ]
  },
  {
   "cell_type": "markdown",
   "metadata": {},
   "source": [
    "#### Sorted Array Search"
   ]
  },
  {
   "cell_type": "code",
   "execution_count": 37,
   "metadata": {},
   "outputs": [
    {
     "name": "stderr",
     "output_type": "stream",
     "text": [
      "C:\\Anaconda3\\lib\\site-packages\\ipykernel_launcher.py:6: DeprecationWarning: time.clock has been deprecated in Python 3.3 and will be removed from Python 3.8: use time.perf_counter or time.process_time instead\n",
      "  \n",
      "C:\\Anaconda3\\lib\\site-packages\\ipykernel_launcher.py:9: DeprecationWarning: time.clock has been deprecated in Python 3.3 and will be removed from Python 3.8: use time.perf_counter or time.process_time instead\n",
      "  if __name__ == '__main__':\n"
     ]
    }
   ],
   "source": [
    "t = 15\n",
    "\n",
    "SSearchTime = list()\n",
    "\n",
    "for n in range (10,t):\n",
    "    starttime = time.clock()\n",
    "    for i in range(1,2**n+1):\n",
    "        S.find(str((np.random.randint(1,(2**30)+1))))\n",
    "    endtime = time.clock()\n",
    "    SSearchTime.append(endtime - starttime)\n"
   ]
  },
  {
   "cell_type": "code",
   "execution_count": 38,
   "metadata": {},
   "outputs": [
    {
     "data": {
      "text/plain": [
       "[0.04062659999999596,\n",
       " 0.05218539999987115,\n",
       " 0.09011680000003253,\n",
       " 0.21234420000018872,\n",
       " 0.4066814999998769]"
      ]
     },
     "execution_count": 38,
     "metadata": {},
     "output_type": "execute_result"
    }
   ],
   "source": [
    "SSearchTime"
   ]
  },
  {
   "cell_type": "markdown",
   "metadata": {},
   "source": [
    "#### 剩餘時間估計\n"
   ]
  },
  {
   "cell_type": "code",
   "execution_count": 39,
   "metadata": {},
   "outputs": [],
   "source": [
    "t = len(SSearchTime)\n",
    "for i in range(0,21):\n",
    "    if(i>=t):\n",
    "        SSearchTime.append(SSearchTime[i-2]/SSearchTime[i-3]*SSearchTime[i-1])"
   ]
  },
  {
   "cell_type": "code",
   "execution_count": 40,
   "metadata": {},
   "outputs": [
    {
     "data": {
      "text/plain": [
       "Text(0, 0.5, '時間')"
      ]
     },
     "execution_count": 40,
     "metadata": {},
     "output_type": "execute_result"
    },
    {
     "data": {
      "image/png": "[encoded data removed]",
      "text/plain": [
       "<Figure size 432x288 with 1 Axes>"
      ]
     },
     "metadata": {
      "needs_background": "light"
     },
     "output_type": "display_data"
    }
   ],
   "source": [
    "plt.plot(range(10,31),SInsertTime)\n",
    "plt.plot(range(10,31),SSearchTime)\n",
    "plt.xlabel(\"次數\",fontproperties='SimSun')\n",
    "plt.ylabel(\"時間\",fontproperties='SimSun')"
   ]
  },
  {
   "cell_type": "code",
   "execution_count": null,
   "metadata": {},
   "outputs": [],
   "source": []
  }
 ],
 "metadata": {
  "kernelspec": {
   "display_name": "Python 3",
   "language": "python",
   "name": "python3"
  },
  "language_info": {
   "codemirror_mode": {
    "name": "ipython",
    "version": 3
   },
   "file_extension": ".py",
   "mimetype": "text/x-python",
   "name": "python",
   "nbconvert_exporter": "python",
   "pygments_lexer": "ipython3",
   "version": "3.7.3"
  }
 },
 "nbformat": 4,
 "nbformat_minor": 2
}
