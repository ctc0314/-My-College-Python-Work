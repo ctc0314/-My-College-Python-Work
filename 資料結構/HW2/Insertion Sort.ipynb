{
 "cells": [
  {
   "cell_type": "code",
   "execution_count": 4,
   "metadata": {},
   "outputs": [],
   "source": [
    "%matplotlib inline\n",
    "\n",
    "import numpy as np\n",
    "import matplotlib.pyplot as plt\n",
    "import time\n",
    "import random"
   ]
  },
  {
   "cell_type": "markdown",
   "metadata": {},
   "source": [
    "## Insertion Sort"
   ]
  },
  {
   "cell_type": "code",
   "execution_count": 5,
   "metadata": {},
   "outputs": [],
   "source": [
    "def insertion_sort(list): #in-place\n",
    "    for i in range(1, len(list)): #第一個元素固定，從第二個開始\n",
    "        tmp = list[i]\n",
    "        j = i - 1 #固定元素的前一個數字\n",
    "        while j >= 0 and tmp < list[j]:\n",
    "            list[j + 1] = list[j] #值向右\n",
    "            j = j - 1\n",
    "        list[ j + 1 ] = tmp"
   ]
  },
  {
   "cell_type": "markdown",
   "metadata": {},
   "source": [
    "## Uniformly Randomly:"
   ]
  },
  {
   "cell_type": "code",
   "execution_count": 11,
   "metadata": {
    "scrolled": true
   },
   "outputs": [
    {
     "name": "stderr",
     "output_type": "stream",
     "text": [
      "C:\\Anaconda3\\lib\\site-packages\\ipykernel_launcher.py:9: DeprecationWarning: time.clock has been deprecated in Python 3.3 and will be removed from Python 3.8: use time.perf_counter or time.process_time instead\n",
      "  if __name__ == '__main__':\n",
      "C:\\Anaconda3\\lib\\site-packages\\ipykernel_launcher.py:11: DeprecationWarning: time.clock has been deprecated in Python 3.3 and will be removed from Python 3.8: use time.perf_counter or time.process_time instead\n",
      "  # This is added back by InteractiveShellApp.init_path()\n"
     ]
    },
    {
     "name": "stdout",
     "output_type": "stream",
     "text": [
      "[0.03190832000036607, 0.15302843000008579, 0.5769173799997589, 2.3703547200000683, 9.962843669999893]\n"
     ]
    },
    {
     "data": {
      "text/plain": [
       "Text(0, 0.5, '時間')"
      ]
     },
     "execution_count": 11,
     "metadata": {},
     "output_type": "execute_result"
    },
    {
     "data": {
      "image/png": "[encoded data removed]",
      "text/plain": [
       "<Figure size 432x288 with 1 Axes>"
      ]
     },
     "metadata": {
      "needs_background": "light"
     },
     "output_type": "display_data"
    }
   ],
   "source": [
    "t = 15\n",
    "L = list()\n",
    "\n",
    "for k in range(10,t):\n",
    "    M = list()\n",
    "    \n",
    "    for i in range(10):\n",
    "        arr = list(np.random.randint(1,1001,size=2**k))\n",
    "        starttime = time.clock()\n",
    "        insertion_sort(arr)\n",
    "        endtime = time.clock()\n",
    "        M.append(endtime - starttime)\n",
    "    L.append(np.mean(M))\n",
    "print(L)\n",
    "plt.plot(range(1,t-9),L)\n",
    "plt.xlabel(\"次數\",fontproperties='SimSun')\n",
    "plt.ylabel(\"時間\",fontproperties='SimSun')"
   ]
  },
  {
   "cell_type": "markdown",
   "metadata": {},
   "source": [
    "### 估計時間\n",
    "根據圖估計，執行時間隨數字越大呈倍數上升"
   ]
  },
  {
   "cell_type": "code",
   "execution_count": 7,
   "metadata": {
    "scrolled": true
   },
   "outputs": [
    {
     "name": "stdout",
     "output_type": "stream",
     "text": [
      "2的10次方個數排序所花的時間平均為0.1155464199999983\n",
      "2的11次方個數排序所花的時間平均為0.45696307000000613\n",
      "2的12次方個數排序所花的時間平均為1.762474979999979\n",
      "2的13次方個數排序所花的時間平均為6.999362900000006\n",
      "2的14次方個數排序所花的時間平均為30.51880322000003\n",
      "2的15次方個數排序所花的時間估計為121.20011996452368\n",
      "2的16次方個數排序所花的時間估計為266.13775090332393\n",
      "2的17次方個數排序所花的時間估計為244.15042576000025\n",
      "2的18次方個數排序所花的時間估計為488.3008515200005\n",
      "2的19次方個數排序所花的時間估計為976.601703040001\n",
      "2的20次方個數排序所花的時間估計為1953.203406080002\n",
      "2的21次方個數排序所花的時間估計為3906.406812160004\n",
      "2的22次方個數排序所花的時間估計為7812.813624320008\n",
      "2的23次方個數排序所花的時間估計為15625.627248640016\n",
      "2的24次方個數排序所花的時間估計為31251.25449728003\n",
      "2的25次方個數排序所花的時間估計為62502.50899456006\n",
      "2的26次方個數排序所花的時間估計為125005.01798912013\n",
      "2的27次方個數排序所花的時間估計為250010.03597824025\n",
      "2的28次方個數排序所花的時間估計為500020.0719564805\n",
      "2的29次方個數排序所花的時間估計為1000040.143912961\n",
      "2的30次方個數排序所花的時間估計為2000080.287825922\n"
     ]
    }
   ],
   "source": [
    "t = len(L)\n",
    "for i in range(0,21):\n",
    "    if(i<t):\n",
    "        print(f\"2的{i+10}次方個數排序所花的時間平均為{L[i]}\")\n",
    "    else:\n",
    "        print(f\"2的{i+10}次方個數排序所花的時間估計為{L[i-2]/L[i-3]*L[i-1]}\")\n",
    "        L.append(2*L[i-1])"
   ]
  },
  {
   "cell_type": "code",
   "execution_count": null,
   "metadata": {},
   "outputs": [],
   "source": []
  },
  {
   "cell_type": "markdown",
   "metadata": {},
   "source": [
    "## Almost Sorted:"
   ]
  },
  {
   "cell_type": "code",
   "execution_count": 8,
   "metadata": {},
   "outputs": [
    {
     "name": "stderr",
     "output_type": "stream",
     "text": [
      "C:\\Anaconda3\\lib\\site-packages\\ipykernel_launcher.py:10: DeprecationWarning: time.clock has been deprecated in Python 3.3 and will be removed from Python 3.8: use time.perf_counter or time.process_time instead\n",
      "  # Remove the CWD from sys.path while we load stuff.\n",
      "C:\\Anaconda3\\lib\\site-packages\\ipykernel_launcher.py:12: DeprecationWarning: time.clock has been deprecated in Python 3.3 and will be removed from Python 3.8: use time.perf_counter or time.process_time instead\n",
      "  if sys.path[0] == '':\n"
     ]
    },
    {
     "name": "stdout",
     "output_type": "stream",
     "text": [
      "[0.0011054370000056224, 0.0021956739999995987, 0.004023545999991711, 0.007771492999995644, 0.01605589800001553]\n"
     ]
    },
    {
     "data": {
      "text/plain": [
       "Text(0, 0.5, '時間')"
      ]
     },
     "execution_count": 8,
     "metadata": {},
     "output_type": "execute_result"
    },
    {
     "data": {
      "image/png": "[encoded data removed]",
      "text/plain": [
       "<Figure size 432x288 with 1 Axes>"
      ]
     },
     "metadata": {
      "needs_background": "light"
     },
     "output_type": "display_data"
    }
   ],
   "source": [
    "t = 10\n",
    "L = list()\n",
    "\n",
    "for k in range(10,t):\n",
    "    M = list()\n",
    "    for i in range(10):\n",
    "        arr = list(np.arange(1,2**k+1))\n",
    "        r = random.sample(arr,100)\n",
    "        for i in range(len(r)):\n",
    "            arr[arr.index(r[i])] = random.randint(1,1001) \n",
    "            \n",
    "        starttime = time.clock()\n",
    "        insertion_sort(arr)\n",
    "        endtime = time.clock()\n",
    "        M.append(endtime - starttime)\n",
    "    L.append(np.mean(M))\n",
    "print(L)\n",
    "plt.plot(range(1,t-9),L)\n",
    "plt.xlabel(\"次數\",fontproperties='SimSun')\n",
    "plt.ylabel(\"時間\",fontproperties='SimSun')"
   ]
  },
  {
   "cell_type": "markdown",
   "metadata": {},
   "source": [
    "### 估計時間\n",
    "根據圖估計，執行時間隨數字越大呈倍數上升"
   ]
  },
  {
   "cell_type": "code",
   "execution_count": 9,
   "metadata": {},
   "outputs": [
    {
     "name": "stdout",
     "output_type": "stream",
     "text": [
      "2的10次方個數排序所花的時間平均為0.0011054370000056224\n",
      "2的11次方個數排序所花的時間平均為0.0021956739999995987\n",
      "2的12次方個數排序所花的時間平均為0.004023545999991711\n",
      "2的13次方個數排序所花的時間平均為0.007771492999995644\n",
      "2的14次方個數排序所花的時間平均為0.01605589800001553\n",
      "2的15次方個數排序所花的時間估計為0.03101202245880172\n",
      "2的16次方個數排序所花的時間估計為0.06634294352116055\n",
      "2的17次方個數排序所花的時間估計為0.12844718400012425\n",
      "2的18次方個數排序所花的時間估計為0.2568943680002485\n",
      "2的19次方個數排序所花的時間估計為0.513788736000497\n",
      "2的20次方個數排序所花的時間估計為1.027577472000994\n",
      "2的21次方個數排序所花的時間估計為2.055154944001988\n",
      "2的22次方個數排序所花的時間估計為4.110309888003976\n",
      "2的23次方個數排序所花的時間估計為8.220619776007952\n",
      "2的24次方個數排序所花的時間估計為16.441239552015904\n",
      "2的25次方個數排序所花的時間估計為32.88247910403181\n",
      "2的26次方個數排序所花的時間估計為65.76495820806362\n",
      "2的27次方個數排序所花的時間估計為131.52991641612724\n",
      "2的28次方個數排序所花的時間估計為263.0598328322545\n",
      "2的29次方個數排序所花的時間估計為526.119665664509\n",
      "2的30次方個數排序所花的時間估計為1052.239331329018\n"
     ]
    }
   ],
   "source": [
    "t = len(L)\n",
    "for i in range(0,21):\n",
    "    if(i<t):\n",
    "        print(f\"2的{i+10}次方個數排序所花的時間平均為{L[i]}\")\n",
    "    else:\n",
    "        print(f\"2的{i+10}次方個數排序所花的時間估計為{L[i-2]/L[i-3]*L[i-1]}\")\n",
    "        L.append(2*L[i-1])"
   ]
  },
  {
   "cell_type": "code",
   "execution_count": null,
   "metadata": {},
   "outputs": [],
   "source": []
  },
  {
   "cell_type": "code",
   "execution_count": 10,
   "metadata": {},
   "outputs": [],
   "source": [
    "## 參考資料：\n",
    "## https://jialin128.pixnet.net/blog/post/141019829-%5B-%E8%B3%87%E6%96%99%E7%B5%90%E6%A7%8B-%5D-%E6%8F%92%E5%85%A5%E6%8E%92%E5%BA%8F%E6%B3%95%EF%BC%88insertion-sort%EF%BC%89in-pytho"
   ]
  },
  {
   "cell_type": "code",
   "execution_count": null,
   "metadata": {},
   "outputs": [],
   "source": []
  }
 ],
 "metadata": {
  "kernelspec": {
   "display_name": "Python 3",
   "language": "python",
   "name": "python3"
  },
  "language_info": {
   "codemirror_mode": {
    "name": "ipython",
    "version": 3
   },
   "file_extension": ".py",
   "mimetype": "text/x-python",
   "name": "python",
   "nbconvert_exporter": "python",
   "pygments_lexer": "ipython3",
   "version": "3.7.3"
  }
 },
 "nbformat": 4,
 "nbformat_minor": 2
}
