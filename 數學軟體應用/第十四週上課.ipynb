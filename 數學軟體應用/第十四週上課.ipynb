{
 "cells": [
  {
   "cell_type": "code",
   "execution_count": 1,
   "metadata": {},
   "outputs": [
    {
     "name": "stderr",
     "output_type": "stream",
     "text": [
      "子目錄或檔案 又要開一個廢物資料夾 已經存在。\n"
     ]
    }
   ],
   "source": [
    "!mkdir 又要開一個廢物資料夾"
   ]
  },
  {
   "cell_type": "code",
   "execution_count": 2,
   "metadata": {},
   "outputs": [
    {
     "name": "stdout",
     "output_type": "stream",
     "text": [
      " 磁碟區 C 中的磁碟是 Windows\n",
      " 磁碟區序號:  E437-1148\n",
      "\n",
      " C:\\Users\\張承泰\\Desktop\\Anaconda\\數學軟體應用 的目錄\n",
      "\n",
      "2019/12/18  上午 10:33    <DIR>          .\n",
      "2019/12/18  上午 10:33    <DIR>          ..\n",
      "2019/12/18  上午 09:11    <DIR>          .ipynb_checkpoints\n",
      "2019/09/27  下午 03:26            12,446 LaTeX.ipynb\n",
      "2019/09/18  上午 10:15            34,066 markdown.ipynb\n",
      "2019/09/18  上午 10:10            12,181 minions.jpg\n",
      "2019/09/18  上午 10:11            12,603 minionss.jpg\n",
      "2019/10/16  上午 10:24                38 mtdic.csv\n",
      "2019/10/16  上午 10:25                38 mydic.csv\n",
      "2019/10/16  上午 10:57                85 mydic.pickle\n",
      "2019/10/02  上午 09:59               546 poem.py\n",
      "2019/09/18  上午 09:47            79,094 python起手式.ipynb\n",
      "2019/10/16  上午 11:38                41 test.txt\n",
      "2019/12/18  上午 09:59    <DIR>          又要開一個廢物資料夾\n",
      "2019/09/27  下午 03:33             1,470 不知道做啥的程式.ipynb\n",
      "2019/09/20  上午 12:18             1,838 拍拍機器人.ipynb\n",
      "2019/09/27  下午 03:17             5,085 拍拍機器人_作業2.ipynb\n",
      "2019/10/26  下午 11:23             3,004 音樂選播.ipynb\n",
      "2019/09/18  下午 12:00             2,452 迴圈.ipynb\n",
      "2019/09/18  上午 11:54             4,386 條件判斷.ipynb\n",
      "2019/10/23  下午 12:01           192,483 第七周上課.ipynb\n",
      "2019/10/27  下午 12:34             2,323 第七周作業.ipynb\n",
      "2019/11/18  下午 10:39           248,772 第九周上課.ipynb\n",
      "2019/11/18  下午 11:28           113,720 第九周作業.ipynb\n",
      "2019/11/18  下午 10:41            36,546 第九周作業1.ipynb\n",
      "2019/10/30  上午 11:48           261,475 第八周上課.ipynb\n",
      "2019/11/12  下午 10:37            18,537 第八周作業.ipynb\n",
      "2019/11/03  下午 10:23            25,085 第八周作業1.ipynb\n",
      "2019/11/10  下午 09:57            56,733 第八周作業2.ipynb\n",
      "2019/11/12  下午 09:56            25,259 第八周作業3.ipynb\n",
      "2019/11/12  下午 09:56            25,259 第八周作業4.ipynb\n",
      "2019/11/27  上午 11:55           513,862 第十一周上課.ipynb\n",
      "2019/12/03  下午 02:19             8,044 第十一周作業.ipynb\n",
      "2019/12/04  上午 08:59               555 第十二週上課.ipynb\n",
      "2019/12/11  上午 11:35           423,834 第十三週上課.ipynb\n",
      "2019/12/18  上午 10:33             7,492 第十四週上課.ipynb\n",
      "2019/11/20  上午 11:53           269,689 第十周上課.ipynb\n",
      "2019/11/26  下午 09:12            31,839 第十周作業.ipynb\n",
      "2019/11/25  上午 11:09            34,138 第十周作業1.ipynb\n",
      "2019/10/16  上午 11:42            20,474 第三周上課.ipynb\n",
      "2019/10/13  下午 10:44            91,538 第五周上課.ipynb\n",
      "2019/10/14  上午 12:27             2,644 第五周作業.ipynb\n",
      "2019/10/16  下午 12:02            29,162 第六周上課.ipynb\n",
      "2019/10/20  下午 03:03             4,790 第六周作業.ipynb\n",
      "2019/10/02  上午 09:59             7,520 第四周.ipynb\n",
      "2019/10/05  下午 10:22             2,437 第四周作業.ipynb\n",
      "2019/10/14  上午 12:18             4,742 飲料店喝啥.ipynb\n",
      "2019/09/12  下午 02:04             1,854 逼逼啵啵逼逼.ipynb\n",
      "2019/09/27  下午 01:06             1,279 潤年判定.ipynb\n",
      "2019/10/23  上午 11:56            13,510 請輸入檢索詞WWW.ipynb\n",
      "2019/09/14  上午 11:43            65,108 魔術指令.ipynb\n",
      "              47 個檔案       2,710,076 位元組\n",
      "               4 個目錄  165,916,803,072 位元組可用\n"
     ]
    }
   ],
   "source": [
    "%ls"
   ]
  },
  {
   "cell_type": "code",
   "execution_count": 3,
   "metadata": {},
   "outputs": [
    {
     "name": "stdout",
     "output_type": "stream",
     "text": [
      "C:\\Users\\張承泰\\Desktop\\Anaconda\\數學軟體應用\\又要開一個廢物資料夾\n"
     ]
    }
   ],
   "source": [
    "%cd 又要開一個廢物資料夾"
   ]
  },
  {
   "cell_type": "code",
   "execution_count": 4,
   "metadata": {},
   "outputs": [],
   "source": [
    "import numpy as np"
   ]
  },
  {
   "cell_type": "code",
   "execution_count": 5,
   "metadata": {},
   "outputs": [
    {
     "name": "stdout",
     "output_type": "stream",
     "text": [
      "25, 66, 76, 71, 47, 46, 82, 65, 13, 58, 94, 88, 42, 30, 25, 37, 98, 12, 45, 89, 91, 41, 25, 15, 88, 20, 70, 4, 73, 14, 84, 81, 57, 58, 90, 98, 80, 27, 44, 50, 26, 9, 59, 59, 5, 14, 90, 17, 76, 83, 23, 8, 88, 39, 4, 83, 99, 12, 48, 39, 53, 24, 14, 11, 79, 53, 64, 36, 39, 20, 44, 26, 38, 73, 66, 96, 16, 39, 94, 99, 39, 53, 26, 94, 23, 72, 70, 31, 73, 70, 59, 66, 31, 3, 21, 78, 88, 17, 31, 95, "
     ]
    }
   ],
   "source": [
    "for i in range(100):\n",
    "    print(np.random.randint(1,100),end=', ')"
   ]
  },
  {
   "cell_type": "code",
   "execution_count": 6,
   "metadata": {},
   "outputs": [
    {
     "name": "stdout",
     "output_type": "stream",
     "text": [
      "你今天的幸運數字是 32!\n"
     ]
    }
   ],
   "source": [
    "n = np.random.randint(1,100)\n",
    "print(f\"你今天的幸運數字是 {n}!\")"
   ]
  },
  {
   "cell_type": "code",
   "execution_count": 7,
   "metadata": {},
   "outputs": [
    {
     "name": "stdout",
     "output_type": "stream",
     "text": [
      "File `廢物.py` exists. Overwrite (y/[N])?  N\n",
      "Operation cancelled.\n"
     ]
    }
   ],
   "source": [
    "%save 廢物.py 5 26"
   ]
  },
  {
   "cell_type": "code",
   "execution_count": 8,
   "metadata": {},
   "outputs": [
    {
     "name": "stdout",
     "output_type": "stream",
     "text": [
      "14\n",
      "你猜哪個數字14\n",
      "太神了\n"
     ]
    }
   ],
   "source": [
    "from random import randint\n",
    "n = randint(1,100)\n",
    "cont = True\n",
    "print(n)\n",
    "while cont:\n",
    "    guess = int(input(\"你猜哪個數字\"))\n",
    "    if guess > n:\n",
    "        print(\"太大了\")\n",
    "    elif guess < n:\n",
    "        print(\"太小了\")\n",
    "    else:\n",
    "        print(\"太神了\")\n",
    "        cont = False\n",
    "    "
   ]
  },
  {
   "cell_type": "markdown",
   "metadata": {},
   "source": [
    "Python網頁框架\n",
    "\n",
    "*Django(大型專案)\n",
    "\n",
    "*Flask(小巧)"
   ]
  },
  {
   "cell_type": "markdown",
   "metadata": {},
   "source": [
    "## Streamlit"
   ]
  },
  {
   "cell_type": "code",
   "execution_count": 10,
   "metadata": {
    "scrolled": true
   },
   "outputs": [
    {
     "name": "stdout",
     "output_type": "stream",
     "text": [
      "Collecting streamlit\n",
      "  Downloading https://files.pythonhosted.org/packages/37/e2/c92db0c7e99f33f2e06d7a7fbd5237dfbb3272ee4ecaedc8c064a6c305a8/streamlit-0.51.0-py2.py3-none-any.whl (6.3MB)\n",
      "Collecting blinker (from streamlit)\n",
      "  Downloading https://files.pythonhosted.org/packages/1b/51/e2a9f3b757eb802f61dc1f2b09c8c99f6eb01cf06416c0671253536517b6/blinker-1.4.tar.gz (111kB)\n",
      "Requirement already satisfied: requests in c:\\anaconda3\\lib\\site-packages (from streamlit) (2.22.0)\n",
      "Requirement already satisfied: click>=7.0 in c:\\anaconda3\\lib\\site-packages (from streamlit) (7.0)\n",
      "Collecting altair>=3.2.0 (from streamlit)\n",
      "  Downloading https://files.pythonhosted.org/packages/67/fe/2584ab143719f073abb4884049a1ef2e5daf277d9c5a3a47df03cd7ad4ab/altair-4.0.0-py2.py3-none-any.whl (709kB)\n",
      "Collecting base58 (from streamlit)\n",
      "  Downloading https://files.pythonhosted.org/packages/09/b2/21ac9591f055acc145afead895edeb73bbd69d95cf366fc5c2233f2434cb/base58-1.0.3-py3-none-any.whl\n",
      "Requirement already satisfied: numpy in c:\\anaconda3\\lib\\site-packages (from streamlit) (1.16.4)\n",
      "Requirement already satisfied: pandas>=0.21.0 in c:\\anaconda3\\lib\\site-packages (from streamlit) (0.24.2)\n",
      "Collecting validators (from streamlit)\n",
      "  Downloading https://files.pythonhosted.org/packages/72/8a/f99287daae8cfef938e6eec785f6e259bf6bad93269d5398bb546d5b1563/validators-0.14.1.tar.gz\n",
      "Collecting watchdog (from streamlit)\n",
      "  Downloading https://files.pythonhosted.org/packages/bb/e3/5a55d48a29300160779f0a0d2776d17c1b762a2039b36de528b093b87d5b/watchdog-0.9.0.tar.gz (85kB)\n",
      "Collecting enum-compat (from streamlit)\n",
      "  Downloading https://files.pythonhosted.org/packages/55/ae/467bc4509246283bb59746e21a1a2f5a8aecbef56b1fa6eaca78cd438c8b/enum_compat-0.0.3-py3-none-any.whl\n",
      "Collecting boto3 (from streamlit)\n",
      "  Downloading https://files.pythonhosted.org/packages/39/8b/250778bc5fd4b9a91d7916f8729b346931be419052130548617139247ba6/boto3-1.10.41-py2.py3-none-any.whl (128kB)\n",
      "Collecting astor (from streamlit)\n",
      "  Downloading https://files.pythonhosted.org/packages/c3/88/97eef84f48fa04fbd6750e62dcceafba6c63c81b7ac1420856c8dcc0a3f9/astor-0.8.1-py2.py3-none-any.whl\n",
      "Collecting pillow>=6.2.0 (from streamlit)\n",
      "  Downloading https://files.pythonhosted.org/packages/70/f4/9dd0b7b0fea09cf4e7a2822031f2157f40d41f0252a89558bdb583e24ef1/Pillow-6.2.1-cp37-cp37m-win_amd64.whl (2.0MB)\n",
      "Collecting tzlocal (from streamlit)\n",
      "  Downloading https://files.pythonhosted.org/packages/ef/99/53bd1ac9349262f59c1c421d8fcc2559ae8a5eeffed9202684756b648d33/tzlocal-2.0.0-py2.py3-none-any.whl\n",
      "Collecting botocore (from streamlit)\n",
      "  Downloading https://files.pythonhosted.org/packages/49/e0/a9a53656126a635120c0f7eaee3ff3b26a4a08596d10e7192fd91ce19e5c/botocore-1.13.41-py2.py3-none-any.whl (5.8MB)\n",
      "Collecting toml (from streamlit)\n",
      "  Downloading https://files.pythonhosted.org/packages/a2/12/ced7105d2de62fa7c8fb5fce92cc4ce66b57c95fb875e9318dba7f8c5db0/toml-0.10.0-py2.py3-none-any.whl\n",
      "Collecting tornado<6.0,>=5.0 (from streamlit)\n",
      "  Downloading https://files.pythonhosted.org/packages/d7/d5/99aff77c15da335e3dbf30254b304a526494dca8e51b4b47419772e35a4e/tornado-5.1.1-cp37-cp37m-win_amd64.whl (455kB)\n",
      "Collecting protobuf>=3.6.0 (from streamlit)\n",
      "  Downloading https://files.pythonhosted.org/packages/94/1d/82d9b8028f1e85bbe9beb74058b276db9cfb7e1afdb3174651a4828e5e9e/protobuf-3.11.1-cp37-cp37m-win_amd64.whl (1.0MB)\n",
      "Requirement already satisfied: future in c:\\anaconda3\\lib\\site-packages (from streamlit) (0.17.1)\n",
      "Requirement already satisfied: chardet<3.1.0,>=3.0.2 in c:\\anaconda3\\lib\\site-packages (from requests->streamlit) (3.0.4)\n",
      "Requirement already satisfied: urllib3!=1.25.0,!=1.25.1,<1.26,>=1.21.1 in c:\\anaconda3\\lib\\site-packages (from requests->streamlit) (1.24.2)\n",
      "Requirement already satisfied: certifi>=2017.4.17 in c:\\anaconda3\\lib\\site-packages (from requests->streamlit) (2019.6.16)\n",
      "Requirement already satisfied: idna<2.9,>=2.5 in c:\\anaconda3\\lib\\site-packages (from requests->streamlit) (2.8)\n",
      "Requirement already satisfied: jsonschema in c:\\anaconda3\\lib\\site-packages (from altair>=3.2.0->streamlit) (3.0.1)\n",
      "Requirement already satisfied: jinja2 in c:\\anaconda3\\lib\\site-packages (from altair>=3.2.0->streamlit) (2.10.1)\n",
      "Requirement already satisfied: toolz in c:\\anaconda3\\lib\\site-packages (from altair>=3.2.0->streamlit) (0.10.0)\n",
      "Requirement already satisfied: entrypoints in c:\\anaconda3\\lib\\site-packages (from altair>=3.2.0->streamlit) (0.3)\n",
      "Requirement already satisfied: python-dateutil>=2.5.0 in c:\\anaconda3\\lib\\site-packages (from pandas>=0.21.0->streamlit) (2.8.0)\n",
      "Requirement already satisfied: pytz>=2011k in c:\\anaconda3\\lib\\site-packages (from pandas>=0.21.0->streamlit) (2019.1)\n",
      "Requirement already satisfied: six>=1.4.0 in c:\\anaconda3\\lib\\site-packages (from validators->streamlit) (1.12.0)\n",
      "Requirement already satisfied: decorator>=3.4.0 in c:\\anaconda3\\lib\\site-packages (from validators->streamlit) (4.4.0)\n",
      "Requirement already satisfied: PyYAML>=3.10 in c:\\anaconda3\\lib\\site-packages (from watchdog->streamlit) (5.1.1)\n",
      "Collecting argh>=0.24.1 (from watchdog->streamlit)\n",
      "  Downloading https://files.pythonhosted.org/packages/06/1c/e667a7126f0b84aaa1c56844337bf0ac12445d1beb9c8a6199a7314944bf/argh-0.26.2-py2.py3-none-any.whl\n",
      "Collecting pathtools>=0.1.1 (from watchdog->streamlit)\n",
      "  Downloading https://files.pythonhosted.org/packages/e7/7f/470d6fcdf23f9f3518f6b0b76be9df16dcc8630ad409947f8be2eb0ed13a/pathtools-0.1.2.tar.gz\n",
      "Collecting jmespath<1.0.0,>=0.7.1 (from boto3->streamlit)\n",
      "  Downloading https://files.pythonhosted.org/packages/83/94/7179c3832a6d45b266ddb2aac329e101367fbdb11f425f13771d27f225bb/jmespath-0.9.4-py2.py3-none-any.whl\n",
      "Collecting s3transfer<0.3.0,>=0.2.0 (from boto3->streamlit)\n",
      "  Downloading https://files.pythonhosted.org/packages/16/8a/1fc3dba0c4923c2a76e1ff0d52b305c44606da63f718d14d3231e21c51b0/s3transfer-0.2.1-py2.py3-none-any.whl (70kB)\n",
      "Requirement already satisfied: docutils<0.16,>=0.10 in c:\\anaconda3\\lib\\site-packages (from botocore->streamlit) (0.14)\n",
      "Requirement already satisfied: setuptools in c:\\anaconda3\\lib\\site-packages (from protobuf>=3.6.0->streamlit) (41.0.1)\n",
      "Requirement already satisfied: attrs>=17.4.0 in c:\\anaconda3\\lib\\site-packages (from jsonschema->altair>=3.2.0->streamlit) (19.1.0)\n",
      "Requirement already satisfied: pyrsistent>=0.14.0 in c:\\anaconda3\\lib\\site-packages (from jsonschema->altair>=3.2.0->streamlit) (0.14.11)\n",
      "Requirement already satisfied: MarkupSafe>=0.23 in c:\\anaconda3\\lib\\site-packages (from jinja2->altair>=3.2.0->streamlit) (1.1.1)\n",
      "Building wheels for collected packages: blinker, validators, watchdog, pathtools\n",
      "  Building wheel for blinker (setup.py): started\n",
      "  Building wheel for blinker (setup.py): finished with status 'done'\n",
      "  Stored in directory: C:\\Users\\張承泰\\AppData\\Local\\pip\\Cache\\wheels\\92\\a0\\00\\8690a57883956a301d91cf4ec999cc0b258b01e3f548f86e89\n",
      "  Building wheel for validators (setup.py): started\n",
      "  Building wheel for validators (setup.py): finished with status 'done'\n",
      "  Stored in directory: C:\\Users\\張承泰\\AppData\\Local\\pip\\Cache\\wheels\\a1\\fb\\78\\272466691f4117974f8d5811e4060fc61e1179a1c00db6f9bb\n",
      "  Building wheel for watchdog (setup.py): started\n",
      "  Building wheel for watchdog (setup.py): finished with status 'done'\n",
      "  Stored in directory: C:\\Users\\張承泰\\AppData\\Local\\pip\\Cache\\wheels\\61\\1d\\d0\\04cfe495619be2095eb8d89a31c42adb4e42b76495bc8f784c\n",
      "  Building wheel for pathtools (setup.py): started\n",
      "  Building wheel for pathtools (setup.py): finished with status 'done'\n",
      "  Stored in directory: C:\\Users\\張承泰\\AppData\\Local\\pip\\Cache\\wheels\\0b\\04\\79\\c3b0c3a0266a3cb4376da31e5bfe8bba0c489246968a68e843\n",
      "Successfully built blinker validators watchdog pathtools\n",
      "Installing collected packages: blinker, altair, base58, validators, argh, pathtools, watchdog, enum-compat, jmespath, botocore, s3transfer, boto3, astor, pillow, tzlocal, toml, tornado, protobuf, streamlit\n",
      "  Found existing installation: Pillow 6.1.0\n",
      "    Uninstalling Pillow-6.1.0:\n",
      "      Successfully uninstalled Pillow-6.1.0\n",
      "  Found existing installation: tornado 6.0.3\n",
      "    Uninstalling tornado-6.0.3:\n",
      "      Successfully uninstalled tornado-6.0.3\n"
     ]
    },
    {
     "name": "stderr",
     "output_type": "stream",
     "text": [
      "ERROR: Could not install packages due to an EnvironmentError: [WinError 5] 存取被拒。: 'c:\\\\anaconda3\\\\lib\\\\site-packages\\\\~ornado\\\\speedups.cp37-win_amd64.pyd'\n",
      "Consider using the `--user` option or check the permissions.\n",
      "\n"
     ]
    }
   ],
   "source": [
    "!pip install streamlit"
   ]
  },
  {
   "cell_type": "code",
   "execution_count": 15,
   "metadata": {},
   "outputs": [
    {
     "name": "stdout",
     "output_type": "stream",
     "text": [
      "Writing web01.py\n"
     ]
    }
   ],
   "source": [
    "%%writefile web01.py\n",
    "import pandas as pd\n",
    "df = pd.DataFrame({\"A\":[33,99,88],\"B\":[94,87,1000]})\n",
    "df"
   ]
  },
  {
   "cell_type": "code",
   "execution_count": 16,
   "metadata": {},
   "outputs": [
    {
     "name": "stderr",
     "output_type": "stream",
     "text": [
      "'cp950' codec can't encode character '\\U0001f44b' in position 4: illegal multibyte sequence\n"
     ]
    }
   ],
   "source": [
    "!streamlit run web01.py"
   ]
  },
  {
   "cell_type": "code",
   "execution_count": null,
   "metadata": {},
   "outputs": [],
   "source": []
  }
 ],
 "metadata": {
  "kernelspec": {
   "display_name": "Python 3",
   "language": "python",
   "name": "python3"
  },
  "language_info": {
   "codemirror_mode": {
    "name": "ipython",
    "version": 3
   },
   "file_extension": ".py",
   "mimetype": "text/x-python",
   "name": "python",
   "nbconvert_exporter": "python",
   "pygments_lexer": "ipython3",
   "version": "3.7.3"
  }
 },
 "nbformat": 4,
 "nbformat_minor": 2
}
