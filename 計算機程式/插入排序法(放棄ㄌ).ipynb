{
 "cells": [
  {
   "cell_type": "code",
   "execution_count": 124,
   "metadata": {},
   "outputs": [],
   "source": [
    "L = list(range(1,5))"
   ]
  },
  {
   "cell_type": "code",
   "execution_count": 125,
   "metadata": {
    "scrolled": true
   },
   "outputs": [
    {
     "data": {
      "text/plain": [
       "[1, 2, 3, 4]"
      ]
     },
     "execution_count": 125,
     "metadata": {},
     "output_type": "execute_result"
    }
   ],
   "source": [
    "L"
   ]
  },
  {
   "cell_type": "code",
   "execution_count": 129,
   "metadata": {
    "scrolled": true
   },
   "outputs": [],
   "source": [
    "for i in range(len(L)-1,0):\n",
    "    temp = L[i]\n",
    "    print(f\"temp = {temp}\")\n",
    "    for j in range(0,len(L)):\n",
    "        if(L[j]>temp):\n",
    "            L[j-1] = L[j]\n",
    "            print(f\"L[j-1 = {j-1}] = {L[j-1]}\")\n",
    "    L[j] = temp\n",
    "    print(f\"L[j = {j}] = {L[j]}\")"
   ]
  },
  {
   "cell_type": "code",
   "execution_count": 127,
   "metadata": {},
   "outputs": [
    {
     "data": {
      "text/plain": [
       "[1, 2, 3, 4]"
      ]
     },
     "execution_count": 127,
     "metadata": {},
     "output_type": "execute_result"
    }
   ],
   "source": [
    "L"
   ]
  },
  {
   "cell_type": "code",
   "execution_count": 81,
   "metadata": {},
   "outputs": [
    {
     "name": "stdout",
     "output_type": "stream",
     "text": [
      "pass 1 :  [1, 2, 3, 4]\n",
      "pass 2 :  [1, 2, 3, 4]\n",
      "pass 3 :  [1, 2, 3, 4]\n"
     ]
    }
   ],
   "source": [
    "for i in range(1, len(L)): #第一個元素固定，從第二個開始\n",
    "        tmp = L[i]\n",
    "        j = i - 1 #固定元素的前一個數字\n",
    "        while j >= 0 and tmp < L[j]:\n",
    "            L[j + 1] = L[j] #值向右\n",
    "            j = j - 1\n",
    "        L[ j + 1 ] = tmp\n",
    "        print(\"pass\", i, \": \", L)"
   ]
  },
  {
   "cell_type": "code",
   "execution_count": 111,
   "metadata": {},
   "outputs": [],
   "source": [
    "t = [1,4,53,6,37,8,64,9,53,46,8,9]"
   ]
  },
  {
   "cell_type": "code",
   "execution_count": 77,
   "metadata": {},
   "outputs": [
    {
     "data": {
      "text/plain": [
       "[1, 4, 6, 8, 8, 9, 9, 37, 46, 53, 53, 64]"
      ]
     },
     "execution_count": 77,
     "metadata": {},
     "output_type": "execute_result"
    }
   ],
   "source": [
    "t.sort()\n",
    "t"
   ]
  },
  {
   "cell_type": "code",
   "execution_count": 112,
   "metadata": {},
   "outputs": [
    {
     "name": "stdout",
     "output_type": "stream",
     "text": [
      "L[i = 0] = 1\n",
      "t[j = 11] = 1\n",
      "L[i = 1] = 4\n",
      "t[j-1 = 10] = 1\n",
      "t[j = 11] = 4\n",
      "L[i = 2] = 53\n",
      "t[j-1 = 2] = 6\n",
      "t[j-1 = 3] = 37\n",
      "t[j-1 = 4] = 8\n",
      "t[j-1 = 6] = 9\n",
      "t[j-1 = 8] = 46\n",
      "t[j-1 = 9] = 1\n",
      "t[j-1 = 10] = 4\n",
      "t[j = 11] = 53\n",
      "L[i = 3] = 37\n",
      "t[j-1 = 3] = 8\n",
      "t[j-1 = 4] = 8\n",
      "t[j-1 = 5] = 9\n",
      "t[j-1 = 6] = 9\n",
      "t[j-1 = 8] = 1\n",
      "t[j-1 = 9] = 4\n",
      "t[j = 11] = 37\n",
      "L[i = 4] = 8\n",
      "t[j-1 = 7] = 1\n",
      "t[j-1 = 8] = 4\n",
      "t[j-1 = 9] = 4\n",
      "t[j = 11] = 8\n",
      "L[i = 5] = 9\n",
      "t[j-1 = 6] = 1\n",
      "t[j-1 = 7] = 4\n",
      "t[j-1 = 8] = 4\n",
      "t[j-1 = 9] = 4\n",
      "t[j-1 = 10] = 8\n",
      "t[j = 11] = 9\n",
      "L[i = 6] = 1\n",
      "t[j = 11] = 1\n",
      "L[i = 7] = 4\n",
      "t[j-1 = 10] = 1\n",
      "t[j = 11] = 4\n",
      "L[i = 8] = 4\n",
      "t[j-1 = 9] = 1\n",
      "t[j = 11] = 4\n",
      "L[i = 9] = 1\n",
      "t[j = 11] = 1\n",
      "L[i = 10] = 1\n",
      "t[j = 11] = 1\n",
      "L[i = 11] = 1\n",
      "t[j = 11] = 1\n"
     ]
    }
   ],
   "source": [
    "for i in range(0,len(t)):\n",
    "    temp = t[i]\n",
    "    print(f\"L[i = {i}] = {t[i]}\")\n",
    "    for j in range(0,len(t)):\n",
    "        if(t[j]<temp):\n",
    "            t[j-1] = t[j]\n",
    "            print(f\"t[j-1 = {j-1}] = {t[j-1]}\")\n",
    "    t[j] = temp\n",
    "    print(f\"t[j = {j}] = {t[j]}\")"
   ]
  },
  {
   "cell_type": "code",
   "execution_count": 113,
   "metadata": {},
   "outputs": [
    {
     "data": {
      "text/plain": [
       "[1, 4, 6, 8, 8, 9, 1, 4, 4, 1, 1, 1]"
      ]
     },
     "execution_count": 113,
     "metadata": {},
     "output_type": "execute_result"
    }
   ],
   "source": [
    "t"
   ]
  },
  {
   "cell_type": "code",
   "execution_count": null,
   "metadata": {},
   "outputs": [],
   "source": []
  }
 ],
 "metadata": {
  "kernelspec": {
   "display_name": "Python 3",
   "language": "python",
   "name": "python3"
  },
  "language_info": {
   "codemirror_mode": {
    "name": "ipython",
    "version": 3
   },
   "file_extension": ".py",
   "mimetype": "text/x-python",
   "name": "python",
   "nbconvert_exporter": "python",
   "pygments_lexer": "ipython3",
   "version": "3.7.3"
  }
 },
 "nbformat": 4,
 "nbformat_minor": 2
}
