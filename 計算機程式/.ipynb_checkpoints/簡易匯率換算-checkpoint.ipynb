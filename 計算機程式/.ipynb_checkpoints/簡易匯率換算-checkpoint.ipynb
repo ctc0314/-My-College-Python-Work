{
 "cells": [
  {
   "cell_type": "code",
   "execution_count": 1,
   "metadata": {},
   "outputs": [],
   "source": [
    "import twder"
   ]
  },
  {
   "cell_type": "code",
   "execution_count": 3,
   "metadata": {},
   "outputs": [
    {
     "data": {
      "text/plain": [
       "['USD',\n",
       " 'HKD',\n",
       " 'GBP',\n",
       " 'AUD',\n",
       " 'CAD',\n",
       " 'SGD',\n",
       " 'CHF',\n",
       " 'JPY',\n",
       " 'ZAR',\n",
       " 'SEK',\n",
       " 'NZD',\n",
       " 'THB',\n",
       " 'PHP',\n",
       " 'IDR',\n",
       " 'EUR',\n",
       " 'KRW',\n",
       " 'VND',\n",
       " 'MYR',\n",
       " 'CNY']"
      ]
     },
     "execution_count": 3,
     "metadata": {},
     "output_type": "execute_result"
    }
   ],
   "source": [
    "twder.currencies()"
   ]
  },
  {
   "cell_type": "code",
   "execution_count": 5,
   "metadata": {},
   "outputs": [
    {
     "data": {
      "text/plain": [
       "{'USD': ('2020/03/03 16:00', '29.63', '30.3', '29.98', '30.08'),\n",
       " 'HKD': ('2020/03/03 16:00', '3.703', '3.907', '3.829', '3.889'),\n",
       " 'GBP': ('2020/03/03 16:00', '37.25', '39.37', '38.25', '38.67'),\n",
       " 'AUD': ('2020/03/03 16:00', '19.29', '20.07', '19.56', '19.79'),\n",
       " 'CAD': ('2020/03/03 16:00', '21.98', '22.89', '22.37', '22.59'),\n",
       " 'SGD': ('2020/03/03 16:00', '20.98', '21.89', '21.47', '21.65'),\n",
       " 'CHF': ('2020/03/03 16:00', '30.51', '31.71', '31.17', '31.46'),\n",
       " 'JPY': ('2020/03/03 16:00', '0.2687', '0.2815', '0.276', '0.28'),\n",
       " 'ZAR': ('2020/03/03 16:00', '-', '-', '1.898', '1.978'),\n",
       " 'SEK': ('2020/03/03 16:00', '2.77', '3.29', '3.11', '3.21'),\n",
       " 'NZD': ('2020/03/03 16:00', '18.34', '19.19', '18.72', '18.92'),\n",
       " 'THB': ('2020/03/03 16:00', '0.8229', '1.0129', '0.9353', '0.9753'),\n",
       " 'PHP': ('2020/03/03 16:00', '0.5183', '0.6513', '-', '-'),\n",
       " 'IDR': ('2020/03/03 16:00', '0.00178', '0.00248', '-', '-'),\n",
       " 'EUR': ('2020/03/03 16:00', '32.58', '33.92', '33.2', '33.6'),\n",
       " 'KRW': ('2020/03/03 16:00', '0.02343', '0.02733', '-', '-'),\n",
       " 'VND': ('2020/03/03 16:00', '0.00092', '0.00142', '-', '-'),\n",
       " 'MYR': ('2020/03/03 16:00', '6.026', '7.651', '-', '-'),\n",
       " 'CNY': ('2020/03/03 16:00', '4.204', '4.366', '4.276', '4.326')}"
      ]
     },
     "execution_count": 5,
     "metadata": {},
     "output_type": "execute_result"
    }
   ],
   "source": [
    "twder.now_all()"
   ]
  },
  {
   "cell_type": "code",
   "execution_count": null,
   "metadata": {},
   "outputs": [],
   "source": []
  },
  {
   "cell_type": "code",
   "execution_count": null,
   "metadata": {},
   "outputs": [],
   "source": []
  },
  {
   "cell_type": "code",
   "execution_count": null,
   "metadata": {},
   "outputs": [],
   "source": []
  },
  {
   "cell_type": "markdown",
   "metadata": {},
   "source": [
    "#### 資料來源\n",
    "//https://medium.com/marketingdatascience/%E7%84%A1%E9%A0%88%E5%AF%AB%E7%88%AC%E8%9F%B2-%E9%A6%AC%E4%B8%8A%E5%B9%AB%E6%82%MA8%E7%88%AC%E5%8F%96%E5%8C%AF%E7%8E%87-%E6%8E%8C%E6%8E%A7%E6%9C%80%E6%96%B0%E8%B2%BF%E6%98%93%E5%8C%AF%E6%90%8D-%E9%99%84%E4%B8%8Apython-%E7%A8%8B%E5%BC%8F%E7%A2%BC-d3da7a8209f0"
   ]
  },
  {
   "cell_type": "markdown",
   "metadata": {},
   "source": [
    "#### 需先安裝爬匯率套件\n",
    "##### 「twder 」\n",
    "指令：\n",
    "pip install twder"
   ]
  },
  {
   "cell_type": "code",
   "execution_count": null,
   "metadata": {},
   "outputs": [],
   "source": []
  }
 ],
 "metadata": {
  "kernelspec": {
   "display_name": "Python 3",
   "language": "python",
   "name": "python3"
  },
  "language_info": {
   "codemirror_mode": {
    "name": "ipython",
    "version": 3
   },
   "file_extension": ".py",
   "mimetype": "text/x-python",
   "name": "python",
   "nbconvert_exporter": "python",
   "pygments_lexer": "ipython3",
   "version": "3.7.3"
  }
 },
 "nbformat": 4,
 "nbformat_minor": 2
}
