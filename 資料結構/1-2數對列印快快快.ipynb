{
 "cells": [
  {
   "cell_type": "code",
   "execution_count": 1,
   "metadata": {},
   "outputs": [],
   "source": [
    "import time\n",
    "import numpy as np\n",
    "import matplotlib.pylab as plt\n",
    "%matplotlib inline"
   ]
  },
  {
   "cell_type": "code",
   "execution_count": 14,
   "metadata": {},
   "outputs": [],
   "source": [
    "n = 10\n",
    "L = np.array([])\n",
    "N = list()\n",
    "for k in range (1,n+1): \n",
    "    starttime = time.clock()\n",
    "    for i in range (1,100*k+1):\n",
    "        for j in range (1,100*k+1):\n",
    "            L = np.append(L,i)\n",
    "            L = np.append(L,j)\n",
    "    L = L.reshape(2,-1)\n",
    "    endtime = time.clock()\n",
    "    N.append(endtime - starttime)\n",
    "print(N)\n",
    "plt.plot(range(1,n+1),L)\n",
    "plt.xlabel(\"次數\")\n",
    "plt.ylabel(\"時間\")"
   ]
  },
  {
   "cell_type": "code",
   "execution_count": 2,
   "metadata": {},
   "outputs": [
    {
     "ename": "NameError",
     "evalue": "name 'L' is not defined",
     "output_type": "error",
     "traceback": [
      "\u001b[1;31m---------------------------------------------------------------------------\u001b[0m",
      "\u001b[1;31mNameError\u001b[0m                                 Traceback (most recent call last)",
      "\u001b[1;32m<ipython-input-2-630a3e35248d>\u001b[0m in \u001b[0;36m<module>\u001b[1;34m\u001b[0m\n\u001b[1;32m----> 1\u001b[1;33m \u001b[0mL\u001b[0m \u001b[1;33m=\u001b[0m \u001b[0mnp\u001b[0m\u001b[1;33m.\u001b[0m\u001b[0mappend\u001b[0m\u001b[1;33m(\u001b[0m\u001b[0mL\u001b[0m\u001b[1;33m,\u001b[0m\u001b[1;36m2\u001b[0m\u001b[1;33m)\u001b[0m\u001b[1;33m\u001b[0m\u001b[1;33m\u001b[0m\u001b[0m\n\u001b[0m",
      "\u001b[1;31mNameError\u001b[0m: name 'L' is not defined"
     ]
    }
   ],
   "source": [
    "L = np.append(L,2)"
   ]
  },
  {
   "cell_type": "code",
   "execution_count": 22,
   "metadata": {},
   "outputs": [],
   "source": [
    "L = np.append(L,5)"
   ]
  },
  {
   "cell_type": "code",
   "execution_count": 23,
   "metadata": {},
   "outputs": [
    {
     "data": {
      "text/plain": [
       "array([2., 3., 5.])"
      ]
     },
     "execution_count": 23,
     "metadata": {},
     "output_type": "execute_result"
    }
   ],
   "source": [
    "L"
   ]
  },
  {
   "cell_type": "code",
   "execution_count": 3,
   "metadata": {},
   "outputs": [
    {
     "ename": "NameError",
     "evalue": "name 'n' is not defined",
     "output_type": "error",
     "traceback": [
      "\u001b[1;31m---------------------------------------------------------------------------\u001b[0m",
      "\u001b[1;31mNameError\u001b[0m                                 Traceback (most recent call last)",
      "\u001b[1;32m<ipython-input-3-5bac0aef56be>\u001b[0m in \u001b[0;36m<module>\u001b[1;34m\u001b[0m\n\u001b[1;32m----> 1\u001b[1;33m \u001b[1;32mfor\u001b[0m \u001b[0mi\u001b[0m \u001b[1;32min\u001b[0m \u001b[0mrange\u001b[0m\u001b[1;33m(\u001b[0m\u001b[1;36m1\u001b[0m\u001b[1;33m,\u001b[0m\u001b[0mn\u001b[0m\u001b[1;33m+\u001b[0m\u001b[1;36m1\u001b[0m\u001b[1;33m)\u001b[0m\u001b[1;33m:\u001b[0m\u001b[1;33m\u001b[0m\u001b[1;33m\u001b[0m\u001b[0m\n\u001b[0m\u001b[0;32m      2\u001b[0m     \u001b[0mstarttime\u001b[0m \u001b[1;33m=\u001b[0m \u001b[0mtime\u001b[0m\u001b[1;33m.\u001b[0m\u001b[0mclock\u001b[0m\u001b[1;33m(\u001b[0m\u001b[1;33m)\u001b[0m\u001b[1;33m\u001b[0m\u001b[1;33m\u001b[0m\u001b[0m\n\u001b[0;32m      3\u001b[0m     \u001b[1;32mfor\u001b[0m \u001b[0mi\u001b[0m \u001b[1;32min\u001b[0m \u001b[0mrange\u001b[0m \u001b[1;33m(\u001b[0m\u001b[1;36m1\u001b[0m\u001b[1;33m,\u001b[0m\u001b[1;36m100\u001b[0m\u001b[1;33m*\u001b[0m\u001b[0mk\u001b[0m\u001b[1;33m+\u001b[0m\u001b[1;36m1\u001b[0m\u001b[1;33m)\u001b[0m\u001b[1;33m:\u001b[0m\u001b[1;33m\u001b[0m\u001b[1;33m\u001b[0m\u001b[0m\n\u001b[0;32m      4\u001b[0m         \u001b[1;32mfor\u001b[0m \u001b[0mj\u001b[0m \u001b[1;32min\u001b[0m \u001b[0mrange\u001b[0m \u001b[1;33m(\u001b[0m\u001b[1;36m1\u001b[0m\u001b[1;33m,\u001b[0m\u001b[1;36m100\u001b[0m\u001b[1;33m*\u001b[0m\u001b[0mk\u001b[0m\u001b[1;33m+\u001b[0m\u001b[1;36m1\u001b[0m\u001b[1;33m)\u001b[0m\u001b[1;33m:\u001b[0m\u001b[1;33m\u001b[0m\u001b[1;33m\u001b[0m\u001b[0m\n\u001b[0;32m      5\u001b[0m             \u001b[0mL\u001b[0m\u001b[1;33m.\u001b[0m\u001b[0mappend\u001b[0m\u001b[1;33m(\u001b[0m\u001b[1;33m[\u001b[0m\u001b[0mi\u001b[0m\u001b[1;33m]\u001b[0m\u001b[1;33m)\u001b[0m\u001b[1;33m\u001b[0m\u001b[1;33m\u001b[0m\u001b[0m\n",
      "\u001b[1;31mNameError\u001b[0m: name 'n' is not defined"
     ]
    }
   ],
   "source": [
    "for i in range(1,n+1):\n",
    "    starttime = time.clock()\n",
    "    for i in range (1,100*k+1):\n",
    "        for j in range (1,100*k+1):\n",
    "            L.append([i])\n",
    "    print(end=\"\\n\")\n",
    "    endtime = time.clock()\n",
    "    L.append(endtime - starttime)"
   ]
  },
  {
   "cell_type": "code",
   "execution_count": 8,
   "metadata": {},
   "outputs": [
    {
     "ename": "AttributeError",
     "evalue": "'numpy.ndarray' object has no attribute 'append'",
     "output_type": "error",
     "traceback": [
      "\u001b[1;31m---------------------------------------------------------------------------\u001b[0m",
      "\u001b[1;31mAttributeError\u001b[0m                            Traceback (most recent call last)",
      "\u001b[1;32m<ipython-input-8-df61a8d713ca>\u001b[0m in \u001b[0;36m<module>\u001b[1;34m\u001b[0m\n\u001b[1;32m----> 1\u001b[1;33m \u001b[0mL\u001b[0m\u001b[1;33m.\u001b[0m\u001b[0mappend\u001b[0m\u001b[1;33m(\u001b[0m\u001b[1;36m1\u001b[0m\u001b[1;33m)\u001b[0m\u001b[1;33m\u001b[0m\u001b[1;33m\u001b[0m\u001b[0m\n\u001b[0m",
      "\u001b[1;31mAttributeError\u001b[0m: 'numpy.ndarray' object has no attribute 'append'"
     ]
    }
   ],
   "source": [
    "L.append(1)"
   ]
  },
  {
   "cell_type": "code",
   "execution_count": null,
   "metadata": {},
   "outputs": [],
   "source": [
    "n = 1\n",
    "L = list()\n",
    "for k in range (1,n+1): \n",
    "    starttime = time.clock()\n",
    "    for i in range (1,100*k+1):\n",
    "        for j in range (1,100*k+1):\n",
    "            print(f\"({i},{j}) \", end=' ')\n",
    "    print(end=\"\\n\")\n",
    "    endtime = time.clock()\n",
    "    L.append(endtime - starttime)\n",
    "print(L)\n",
    "plt.plot(range(1,n+1),L)\n",
    "plt.xlabel(\"次數\")\n",
    "plt.ylabel(\"時間\")"
   ]
  },
  {
   "cell_type": "code",
   "execution_count": 12,
   "metadata": {},
   "outputs": [
    {
     "name": "stderr",
     "output_type": "stream",
     "text": [
      "C:\\Anaconda3\\lib\\site-packages\\ipykernel_launcher.py:5: DeprecationWarning: time.clock has been deprecated in Python 3.3 and will be removed from Python 3.8: use time.perf_counter or time.process_time instead\n",
      "  \"\"\"\n"
     ]
    },
    {
     "name": "stdout",
     "output_type": "stream",
     "text": [
      "[[  1.   1.]\n",
      " [  1.   2.]\n",
      " [  1.   3.]\n",
      " ...\n",
      " [100.  98.]\n",
      " [100.  99.]\n",
      " [100. 100.]]\n"
     ]
    },
    {
     "name": "stderr",
     "output_type": "stream",
     "text": [
      "C:\\Anaconda3\\lib\\site-packages\\ipykernel_launcher.py:12: DeprecationWarning: time.clock has been deprecated in Python 3.3 and will be removed from Python 3.8: use time.perf_counter or time.process_time instead\n",
      "  if sys.path[0] == '':\n"
     ]
    },
    {
     "name": "stdout",
     "output_type": "stream",
     "text": [
      "[[  1.   1.]\n",
      " [  1.   2.]\n",
      " [  1.   3.]\n",
      " ...\n",
      " [200. 198.]\n",
      " [200. 199.]\n",
      " [200. 200.]]\n",
      "[[  1.   1.]\n",
      " [  1.   2.]\n",
      " [  1.   3.]\n",
      " ...\n",
      " [300. 298.]\n",
      " [300. 299.]\n",
      " [300. 300.]]\n",
      "[0.5299357999999756, 5.497058600000003, 288.88126750000004]\n"
     ]
    }
   ],
   "source": [
    "n = 3\n",
    "L = np.array([])\n",
    "N = list()\n",
    "for k in range (1,n+1): \n",
    "    starttime = time.clock()\n",
    "    for i in range (1,100*k+1):\n",
    "        for j in range (1,100*k+1):\n",
    "            L = np.append(L,i)\n",
    "            L = np.append(L,j)\n",
    "    L = L.reshape(-1,2)\n",
    "    print(L)\n",
    "    endtime = time.clock()\n",
    "    N.append(endtime - starttime)\n",
    "print(N)"
   ]
  },
  {
   "cell_type": "code",
   "execution_count": 9,
   "metadata": {},
   "outputs": [
    {
     "name": "stdout",
     "output_type": "stream",
     "text": [
      "[[  1.   1.]\n",
      " [  1.   2.]\n",
      " [  1.   3.]\n",
      " ...\n",
      " [100.  98.]\n",
      " [100.  99.]\n",
      " [100. 100.]]\n"
     ]
    }
   ],
   "source": [
    "print(L)"
   ]
  },
  {
   "cell_type": "code",
   "execution_count": 7,
   "metadata": {},
   "outputs": [
    {
     "name": "stdout",
     "output_type": "stream",
     "text": [
      "[[  1   1]\n",
      " [  1   2]\n",
      " [  1   3]\n",
      " ...\n",
      " [100  98]\n",
      " [100  99]\n",
      " [100 100]]\n",
      "[[  1   1]\n",
      " [  1   2]\n",
      " [  1   3]\n",
      " ...\n",
      " [200 198]\n",
      " [200 199]\n",
      " [200 200]]\n",
      "[[  1   1]\n",
      " [  1   2]\n",
      " [  1   3]\n",
      " ...\n",
      " [300 298]\n",
      " [300 299]\n",
      " [300 300]]\n",
      "[[  1   1]\n",
      " [  1   2]\n",
      " [  1   3]\n",
      " ...\n",
      " [400 398]\n",
      " [400 399]\n",
      " [400 400]]\n",
      "[[  1   1]\n",
      " [  1   2]\n",
      " [  1   3]\n",
      " ...\n",
      " [500 498]\n",
      " [500 499]\n",
      " [500 500]]\n",
      "[[  1   1]\n",
      " [  1   2]\n",
      " [  1   3]\n",
      " ...\n",
      " [600 598]\n",
      " [600 599]\n",
      " [600 600]]\n",
      "[[  1   1]\n",
      " [  1   2]\n",
      " [  1   3]\n",
      " ...\n",
      " [700 698]\n",
      " [700 699]\n",
      " [700 700]]\n",
      "[[  1   1]\n",
      " [  1   2]\n",
      " [  1   3]\n",
      " ...\n",
      " [800 798]\n",
      " [800 799]\n",
      " [800 800]]\n",
      "[[  1   1]\n",
      " [  1   2]\n",
      " [  1   3]\n",
      " ...\n",
      " [900 898]\n",
      " [900 899]\n",
      " [900 900]]\n",
      "[[   1    1]\n",
      " [   1    2]\n",
      " [   1    3]\n",
      " ...\n",
      " [1000  998]\n",
      " [1000  999]\n",
      " [1000 1000]]\n"
     ]
    }
   ],
   "source": [
    "L = []\n",
    "for t in range(100, 1001, 100):\n",
    "    Time_start = time.time()\n",
    "    x = np.arange(1, t+1).reshape(t, 1)\n",
    "    y = np.arange(1, t+1)\n",
    "    print(np.c_[np.repeat(x, t),np.tile(y, (1,t)).reshape(t*t,1 )])\n",
    "    Time_end = time.time()\n",
    "    L.append(Time_end - Time_start)"
   ]
  },
  {
   "cell_type": "code",
   "execution_count": null,
   "metadata": {},
   "outputs": [],
   "source": []
  }
 ],
 "metadata": {
  "kernelspec": {
   "display_name": "Python 3",
   "language": "python",
   "name": "python3"
  },
  "language_info": {
   "codemirror_mode": {
    "name": "ipython",
    "version": 3
   },
   "file_extension": ".py",
   "mimetype": "text/x-python",
   "name": "python",
   "nbconvert_exporter": "python",
   "pygments_lexer": "ipython3",
   "version": "3.7.3"
  }
 },
 "nbformat": 4,
 "nbformat_minor": 2
}
