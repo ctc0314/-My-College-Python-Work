{
 "cells": [
  {
   "cell_type": "markdown",
   "metadata": {},
   "source": [
    "### 第一題猜數字遊戲"
   ]
  },
  {
   "cell_type": "code",
   "execution_count": 2,
   "metadata": {},
   "outputs": [
    {
     "name": "stdout",
     "output_type": "stream",
     "text": [
      "Populating the interactive namespace from numpy and matplotlib\n",
      "猜數字(0~100)\n",
      "50\n",
      "猜太小了\n",
      "在猜一次(50~100)\n",
      "75\n",
      "猜太大了\n",
      "在猜一次(50~75)\n",
      "64\n",
      "你猜到了拉！\n",
      "64\n"
     ]
    }
   ],
   "source": [
    "%pylab inline\n",
    "ans=randint(0,101)\n",
    "m=input(\"猜數字(0~100)\\n\")\n",
    "min=0\n",
    "max=100\n",
    "m=int(m)\n",
    "while m!=ans:\n",
    "    if(m>ans):\n",
    "        max=m\n",
    "        print(\"猜太大了\")\n",
    "        m=input(\"在猜一次({}~{})\\n\".format(min,max))\n",
    "        m=int(m)\n",
    "    elif(m<ans):\n",
    "        min=m\n",
    "        print(\"猜太小了\")\n",
    "        m=input(\"在猜一次({}~{})\\n\".format(min,max))\n",
    "        m=int(m)\n",
    "print(\"你猜到了拉！\\n{}\".format(m))"
   ]
  },
  {
   "cell_type": "markdown",
   "metadata": {},
   "source": [
    "# 第二題感恩讚嘆機器人"
   ]
  },
  {
   "cell_type": "code",
   "execution_count": 17,
   "metadata": {},
   "outputs": [
    {
     "name": "stdout",
     "output_type": "stream",
     "text": [
      "請輸入人名：好漢坡\n",
      "感恩讚嘆機器人:)\n",
      "政大減肥之路！\n",
      "感恩好漢坡讚嘆好漢坡\n",
      "感恩讚嘆機器人:)\n",
      "bye\n"
     ]
    }
   ],
   "source": [
    "name=input(\"請輸入人名：\")\n",
    "msg=input(\"感恩讚嘆機器人:)\\n\")\n",
    "while msg!=\"bye\":\n",
    "    print(\"感恩{}讚嘆{}\".format(name,name))\n",
    "    msg=input(\"感恩讚嘆機器人:)\\n\")"
   ]
  },
  {
   "cell_type": "markdown",
   "metadata": {},
   "source": [
    "# 挑戰題二我有一棵樹"
   ]
  },
  {
   "cell_type": "code",
   "execution_count": 8,
   "metadata": {},
   "outputs": [],
   "source": [
    "def tree(x):\n",
    "    i=x\n",
    "    n=1\n",
    "    while i>=0:\n",
    "        while n<=x*2:\n",
    "            print(\" \"*i+\"*\"*n)\n",
    "            n=n+2\n",
    "            i=i-1\n",
    "        i=i-1"
   ]
  },
  {
   "cell_type": "code",
   "execution_count": 9,
   "metadata": {},
   "outputs": [
    {
     "name": "stdout",
     "output_type": "stream",
     "text": [
      "請輸入數字：6\n",
      "      *\n",
      "     ***\n",
      "    *****\n",
      "   *******\n",
      "  *********\n",
      " ***********\n"
     ]
    }
   ],
   "source": [
    "a=input(\"請輸入數字：\")\n",
    "a=int(a)\n",
    "tree(a)"
   ]
  },
  {
   "cell_type": "markdown",
   "metadata": {},
   "source": [
    "# 第三題寫個函數讓字串倒過來排"
   ]
  },
  {
   "cell_type": "code",
   "execution_count": 43,
   "metadata": {},
   "outputs": [],
   "source": [
    "def reverse(L):\n",
    "    for i in range(len(L)):\n",
    "        print(L[-(i+1)])"
   ]
  },
  {
   "cell_type": "code",
   "execution_count": 44,
   "metadata": {},
   "outputs": [
    {
     "name": "stdout",
     "output_type": "stream",
     "text": [
      "o\n",
      "l\n",
      "l\n",
      "e\n",
      "H\n"
     ]
    }
   ],
   "source": [
    "L=list(\"Hello\")\n",
    "reverse(L)"
   ]
  },
  {
   "cell_type": "code",
   "execution_count": null,
   "metadata": {},
   "outputs": [],
   "source": []
  }
 ],
 "metadata": {
  "kernelspec": {
   "display_name": "Python 3",
   "language": "python",
   "name": "python3"
  },
  "language_info": {
   "codemirror_mode": {
    "name": "ipython",
    "version": 3
   },
   "file_extension": ".py",
   "mimetype": "text/x-python",
   "name": "python",
   "nbconvert_exporter": "python",
   "pygments_lexer": "ipython3",
   "version": "3.7.3"
  }
 },
 "nbformat": 4,
 "nbformat_minor": 2
}
