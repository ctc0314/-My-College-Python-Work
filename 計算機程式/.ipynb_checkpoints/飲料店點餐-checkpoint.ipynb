{
 "cells": [
  {
   "cell_type": "code",
   "execution_count": 1,
   "metadata": {},
   "outputs": [],
   "source": [
    "import numpy as np\n",
    "from ipywidgets import interact"
   ]
  },
  {
   "cell_type": "code",
   "execution_count": 2,
   "metadata": {},
   "outputs": [],
   "source": [
    "tea = list([\"紅茶\",\"綠茶\",\"烏龍茶\",\"鐵觀音\",\"普洱茶\"])\n",
    "milk = list([\"奶茶\",\"奶綠\",\"木瓜牛奶\",\"西瓜牛奶\",\"烏龍奶茶\"])\n",
    "juice = list([\"檸檬汁\",\"柳橙汁\",\"西瓜汁\",\"金桔檸檬\",\"葡萄柚汁\"])\n",
    "ingredient = list([\"珍珠\",\"椰果\",\"布丁\",\"咖啡凍\",\"寒天\"])"
   ]
  },
  {
   "cell_type": "code",
   "execution_count": 3,
   "metadata": {},
   "outputs": [],
   "source": [
    "def f(飲料種類):\n",
    "    print(飲料種類)"
   ]
  },
  {
   "cell_type": "code",
   "execution_count": 4,
   "metadata": {},
   "outputs": [
    {
     "data": {
      "application/vnd.jupyter.widget-view+json": {
       "model_id": "d8c85c4169be4ee1aac653ac66e23793",
       "version_major": 2,
       "version_minor": 0
      },
      "text/plain": [
       "interactive(children=(Dropdown(description='飲料種類', options={'茶類': '紅茶', '奶類': '木瓜牛奶', '果汁類': '檸檬汁', '健康飲品': '喝…"
      ]
     },
     "metadata": {},
     "output_type": "display_data"
    }
   ],
   "source": [
    "interact(f,飲料種類={\"茶類\":tea[np.random.randint(0,4)],\n",
    "                 \"奶類\":milk[np.random.randint(0,3)],\n",
    "                 \"果汁類\":juice[np.random.randint(0,2)],\n",
    "                \"健康飲品\":\"喝水吧你！\"});"
   ]
  },
  {
   "cell_type": "code",
   "execution_count": 5,
   "metadata": {},
   "outputs": [],
   "source": [
    "def g(配料種類):\n",
    "    print(配料種類)"
   ]
  },
  {
   "cell_type": "code",
   "execution_count": 6,
   "metadata": {},
   "outputs": [
    {
     "data": {
      "application/vnd.jupyter.widget-view+json": {
       "model_id": "83ff0d5e8ea34a7a837ef26d0aaeda58",
       "version_major": 2,
       "version_minor": 0
      },
      "text/plain": [
       "interactive(children=(Dropdown(description='配料種類', options={'不加配料': '與健康為伍！', '加一種配料': '布丁'}, value='與健康為伍！'),…"
      ]
     },
     "metadata": {},
     "output_type": "display_data"
    }
   ],
   "source": [
    "interact(g,配料種類={\"不加配料\":\"與健康為伍！\",\n",
    "                 \"加一種配料\":ingredient[np.random.randint(0,3)],});"
   ]
  },
  {
   "cell_type": "code",
   "execution_count": null,
   "metadata": {},
   "outputs": [],
   "source": []
  }
 ],
 "metadata": {
  "kernelspec": {
   "display_name": "Python 3",
   "language": "python",
   "name": "python3"
  },
  "language_info": {
   "codemirror_mode": {
    "name": "ipython",
    "version": 3
   },
   "file_extension": ".py",
   "mimetype": "text/x-python",
   "name": "python",
   "nbconvert_exporter": "python",
   "pygments_lexer": "ipython3",
   "version": "3.7.3"
  }
 },
 "nbformat": 4,
 "nbformat_minor": 2
}
