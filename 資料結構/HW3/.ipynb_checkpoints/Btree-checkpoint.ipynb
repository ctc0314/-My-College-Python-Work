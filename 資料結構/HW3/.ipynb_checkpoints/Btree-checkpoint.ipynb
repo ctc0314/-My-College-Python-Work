{
 "cells": [
  {
   "cell_type": "code",
   "execution_count": 25,
   "metadata": {},
   "outputs": [],
   "source": [
    "import numpy as np"
   ]
  },
  {
   "cell_type": "markdown",
   "metadata": {},
   "source": [
    "#### 下面程式碼的網址\n",
    "(Search尚未完成)\n",
    "https://www.programiz.com/dsa/insertion-into-a-b-tree"
   ]
  },
  {
   "cell_type": "code",
   "execution_count": 30,
   "metadata": {},
   "outputs": [],
   "source": [
    "# Inserting a key on a B-tree in Python\n",
    "\n",
    "\n",
    "# Create a node\n",
    "class BTreeNode:\n",
    "    def __init__(self, leaf=False):\n",
    "        self.leaf = leaf\n",
    "        self.keys = []\n",
    "        self.child = []\n",
    "\n",
    "\n",
    "# Tree\n",
    "class BTree:\n",
    "    def __init__(self, t):\n",
    "        self.root = BTreeNode(True)\n",
    "        self.t = t\n",
    "\n",
    "    # Search\n",
    "#    def search(self, k):\n",
    "#        addr = self.root\n",
    "#        if(addr.key)\n",
    "\n",
    "    \n",
    "    # Insert node\n",
    "    def insert(self, k):\n",
    "        root = self.root\n",
    "        if len(root.keys) == (2 * self.t) - 1:\n",
    "            temp = BTreeNode()\n",
    "            self.root = temp\n",
    "            temp.child.insert(0, root)\n",
    "            self.split_child(temp, 0)\n",
    "            self.insert_non_full(temp, k)\n",
    "        else:\n",
    "            self.insert_non_full(root, k)\n",
    "\n",
    "    # Insert nonfull\n",
    "    def insert_non_full(self, x, k):\n",
    "        i = len(x.keys) - 1\n",
    "        if x.leaf:\n",
    "            x.keys.append((None, None))\n",
    "            while i >= 0 and k[0] < x.keys[i][0]:\n",
    "                x.keys[i + 1] = x.keys[i]\n",
    "                i -= 1\n",
    "            x.keys[i + 1] = k\n",
    "        else:\n",
    "            while i >= 0 and k[0] < x.keys[i][0]:\n",
    "                i -= 1\n",
    "            i += 1\n",
    "            if len(x.child[i].keys) == (2 * self.t) - 1:\n",
    "                self.split_child(x, i)\n",
    "                if k[0] > x.keys[i][0]:\n",
    "                    i += 1\n",
    "            self.insert_non_full(x.child[i], k)\n",
    "\n",
    "    # Split the child\n",
    "    def split_child(self, x, i):\n",
    "        t = self.t\n",
    "        y = x.child[i]\n",
    "        z = BTreeNode(y.leaf)\n",
    "        x.child.insert(i + 1, z)\n",
    "        x.keys.insert(i, y.keys[t - 1])\n",
    "        z.keys = y.keys[t: (2 * t) - 1]\n",
    "        y.keys = y.keys[0: t - 1]\n",
    "        if not y.leaf:\n",
    "            z.child = y.child[t: 2 * t]\n",
    "            y.child = y.child[0: t - 1]\n",
    "\n",
    "    # Print the tree\n",
    "    def print_tree(self, x, l=0):\n",
    "        print(\"Level \", l, \" \", len(x.keys), end=\":\")\n",
    "        for i in x.keys:\n",
    "            print(i, end=\" \")\n",
    "        print()\n",
    "        l += 1\n",
    "        if len(x.child) > 0:\n",
    "            for i in x.child:\n",
    "                self.print_tree(i, l)\n"
   ]
  },
  {
   "cell_type": "code",
   "execution_count": 27,
   "metadata": {},
   "outputs": [
    {
     "data": {
      "text/plain": [
       "4266073"
      ]
     },
     "execution_count": 27,
     "metadata": {},
     "output_type": "execute_result"
    }
   ],
   "source": [
    "np.random.randint(1,(2**30)+1)"
   ]
  },
  {
   "cell_type": "markdown",
   "metadata": {},
   "source": [
    "time = 15\n",
    "\n",
    "B = BTree(3)\n",
    "\n",
    "Btime = list()\n",
    "\n",
    "for n in range (10,time):\n",
    "    \n",
    "\n",
    "\n",
    "    for i in range(1,2**n+1):\n",
    "        B.insert((np.random.randint(1,(2**30)+1),))\n",
    "\n",
    "    B.print_tree(B.root)\n",
    "\n",
    "1111111\n",
    "\n",
    "    starttime = time.clock()\n",
    "    \n",
    "    insertion_sort(arr)\n",
    "    \n",
    "    endtime = time.clock()\n",
    "    \n",
    "    M.append(endtime - starttime)\n",
    "    \n",
    "InsertionSort.append(np.mean(M))\n"
   ]
  },
  {
   "cell_type": "code",
   "execution_count": 23,
   "metadata": {},
   "outputs": [
    {
     "name": "stdout",
     "output_type": "stream",
     "text": [
      "Level  0   2:(3,) (6,) \n",
      "Level  1   2:(1,) (2,) \n",
      "Level  1   2:(4,) (5,) \n",
      "Level  1   5:(7,) (8,) (9,) (10,) (11,) \n"
     ]
    }
   ],
   "source": [
    "B = BTree(3)\n",
    "for i in range(1,12):\n",
    "    B.insert((i, ))\n",
    "\n",
    "B.print_tree(B.root)"
   ]
  },
  {
   "cell_type": "code",
   "execution_count": 12,
   "metadata": {},
   "outputs": [],
   "source": [
    "B = BTree(3)"
   ]
  },
  {
   "cell_type": "code",
   "execution_count": 13,
   "metadata": {},
   "outputs": [
    {
     "name": "stdout",
     "output_type": "stream",
     "text": [
      "Level  0   1:(1, 2) \n"
     ]
    }
   ],
   "source": [
    "i=1\n",
    "B.insert((i, 2 * i))\n",
    "B.print_tree(B.root)"
   ]
  },
  {
   "cell_type": "code",
   "execution_count": 14,
   "metadata": {},
   "outputs": [
    {
     "name": "stdout",
     "output_type": "stream",
     "text": [
      "Level  0   2:(1, 2) (2, 4) \n"
     ]
    }
   ],
   "source": [
    "i=2\n",
    "B.insert((i, 2 * i))\n",
    "B.print_tree(B.root)"
   ]
  },
  {
   "cell_type": "code",
   "execution_count": 15,
   "metadata": {},
   "outputs": [
    {
     "name": "stdout",
     "output_type": "stream",
     "text": [
      "Level  0   3:(1, 2) (2, 4) (3, 6) \n"
     ]
    }
   ],
   "source": [
    "i=3\n",
    "B.insert((i, 2 * i))\n",
    "B.print_tree(B.root)"
   ]
  },
  {
   "cell_type": "code",
   "execution_count": 16,
   "metadata": {},
   "outputs": [
    {
     "name": "stdout",
     "output_type": "stream",
     "text": [
      "Level  0   1:(3, 6) \n",
      "Level  1   2:(1, 2) (2, 4) \n",
      "Level  1   1:(4, 8) \n"
     ]
    }
   ],
   "source": [
    "i=4\n",
    "B.insert((i, 2 * i))\n",
    "B.print_tree(B.root)"
   ]
  },
  {
   "cell_type": "code",
   "execution_count": 17,
   "metadata": {},
   "outputs": [
    {
     "name": "stdout",
     "output_type": "stream",
     "text": [
      "Level  0   1:(3, 6) \n",
      "Level  1   2:(1, 2) (2, 4) \n",
      "Level  1   2:(4, 8) (5, 10) \n"
     ]
    }
   ],
   "source": [
    "i=5\n",
    "B.insert((i, 2 * i))\n",
    "B.print_tree(B.root)"
   ]
  },
  {
   "cell_type": "code",
   "execution_count": 18,
   "metadata": {},
   "outputs": [
    {
     "name": "stdout",
     "output_type": "stream",
     "text": [
      "Level  0   1:(3, 6) \n",
      "Level  1   2:(1, 2) (2, 4) \n",
      "Level  1   3:(4, 8) (5, 10) (6, 12) \n"
     ]
    }
   ],
   "source": [
    "i=6\n",
    "B.insert((i, 2 * i))\n",
    "B.print_tree(B.root)"
   ]
  },
  {
   "cell_type": "code",
   "execution_count": 19,
   "metadata": {},
   "outputs": [
    {
     "name": "stdout",
     "output_type": "stream",
     "text": [
      "Level  0   1:(3, 6) \n",
      "Level  1   2:(1, 2) (2, 4) \n",
      "Level  1   4:(4, 8) (5, 10) (6, 12) (7, 14) \n"
     ]
    }
   ],
   "source": [
    "i=7\n",
    "B.insert((i, 2 * i))\n",
    "B.print_tree(B.root)"
   ]
  },
  {
   "cell_type": "code",
   "execution_count": 20,
   "metadata": {},
   "outputs": [
    {
     "name": "stdout",
     "output_type": "stream",
     "text": [
      "Level  0   1:(3, 6) \n",
      "Level  1   2:(1, 2) (2, 4) \n",
      "Level  1   5:(4, 8) (5, 10) (6, 12) (7, 14) (8, 16) \n"
     ]
    }
   ],
   "source": [
    "i=8\n",
    "B.insert((i, 2 * i))\n",
    "B.print_tree(B.root)"
   ]
  },
  {
   "cell_type": "code",
   "execution_count": 21,
   "metadata": {},
   "outputs": [
    {
     "name": "stdout",
     "output_type": "stream",
     "text": [
      "Level  0   2:(3, 6) (6, 12) \n",
      "Level  1   2:(1, 2) (2, 4) \n",
      "Level  1   2:(4, 8) (5, 10) \n",
      "Level  1   3:(7, 14) (8, 16) (9, 18) \n"
     ]
    }
   ],
   "source": [
    "i=9\n",
    "B.insert((i, 2 * i))\n",
    "B.print_tree(B.root)"
   ]
  },
  {
   "cell_type": "code",
   "execution_count": null,
   "metadata": {},
   "outputs": [],
   "source": []
  },
  {
   "cell_type": "code",
   "execution_count": null,
   "metadata": {},
   "outputs": [],
   "source": []
  },
  {
   "cell_type": "code",
   "execution_count": null,
   "metadata": {},
   "outputs": [],
   "source": []
  },
  {
   "cell_type": "code",
   "execution_count": null,
   "metadata": {},
   "outputs": [],
   "source": []
  },
  {
   "cell_type": "code",
   "execution_count": null,
   "metadata": {},
   "outputs": [],
   "source": []
  },
  {
   "cell_type": "code",
   "execution_count": null,
   "metadata": {},
   "outputs": [],
   "source": []
  },
  {
   "cell_type": "code",
   "execution_count": null,
   "metadata": {},
   "outputs": [],
   "source": []
  },
  {
   "cell_type": "code",
   "execution_count": null,
   "metadata": {},
   "outputs": [],
   "source": []
  },
  {
   "cell_type": "code",
   "execution_count": null,
   "metadata": {},
   "outputs": [],
   "source": []
  },
  {
   "cell_type": "code",
   "execution_count": null,
   "metadata": {},
   "outputs": [],
   "source": []
  },
  {
   "cell_type": "code",
   "execution_count": null,
   "metadata": {},
   "outputs": [],
   "source": []
  },
  {
   "cell_type": "code",
   "execution_count": null,
   "metadata": {},
   "outputs": [],
   "source": []
  },
  {
   "cell_type": "code",
   "execution_count": null,
   "metadata": {},
   "outputs": [],
   "source": []
  },
  {
   "cell_type": "code",
   "execution_count": null,
   "metadata": {},
   "outputs": [],
   "source": []
  },
  {
   "cell_type": "code",
   "execution_count": null,
   "metadata": {},
   "outputs": [],
   "source": []
  },
  {
   "cell_type": "code",
   "execution_count": null,
   "metadata": {},
   "outputs": [],
   "source": []
  },
  {
   "cell_type": "code",
   "execution_count": null,
   "metadata": {},
   "outputs": [],
   "source": []
  },
  {
   "cell_type": "code",
   "execution_count": null,
   "metadata": {},
   "outputs": [],
   "source": []
  },
  {
   "cell_type": "code",
   "execution_count": null,
   "metadata": {},
   "outputs": [],
   "source": []
  },
  {
   "cell_type": "code",
   "execution_count": null,
   "metadata": {},
   "outputs": [],
   "source": []
  },
  {
   "cell_type": "code",
   "execution_count": null,
   "metadata": {},
   "outputs": [],
   "source": []
  },
  {
   "cell_type": "code",
   "execution_count": null,
   "metadata": {},
   "outputs": [],
   "source": []
  },
  {
   "cell_type": "code",
   "execution_count": null,
   "metadata": {},
   "outputs": [],
   "source": []
  },
  {
   "cell_type": "code",
   "execution_count": null,
   "metadata": {},
   "outputs": [],
   "source": []
  },
  {
   "cell_type": "code",
   "execution_count": null,
   "metadata": {},
   "outputs": [],
   "source": []
  },
  {
   "cell_type": "code",
   "execution_count": null,
   "metadata": {},
   "outputs": [],
   "source": []
  },
  {
   "cell_type": "code",
   "execution_count": null,
   "metadata": {},
   "outputs": [],
   "source": []
  },
  {
   "cell_type": "code",
   "execution_count": null,
   "metadata": {},
   "outputs": [],
   "source": []
  },
  {
   "cell_type": "code",
   "execution_count": null,
   "metadata": {},
   "outputs": [],
   "source": []
  },
  {
   "cell_type": "code",
   "execution_count": null,
   "metadata": {},
   "outputs": [],
   "source": []
  },
  {
   "cell_type": "code",
   "execution_count": null,
   "metadata": {},
   "outputs": [],
   "source": []
  },
  {
   "cell_type": "code",
   "execution_count": null,
   "metadata": {},
   "outputs": [],
   "source": []
  },
  {
   "cell_type": "code",
   "execution_count": null,
   "metadata": {},
   "outputs": [],
   "source": []
  },
  {
   "cell_type": "code",
   "execution_count": null,
   "metadata": {},
   "outputs": [],
   "source": []
  },
  {
   "cell_type": "code",
   "execution_count": null,
   "metadata": {},
   "outputs": [],
   "source": []
  },
  {
   "cell_type": "code",
   "execution_count": null,
   "metadata": {},
   "outputs": [],
   "source": []
  },
  {
   "cell_type": "code",
   "execution_count": null,
   "metadata": {},
   "outputs": [],
   "source": []
  },
  {
   "cell_type": "code",
   "execution_count": null,
   "metadata": {},
   "outputs": [],
   "source": []
  },
  {
   "cell_type": "code",
   "execution_count": null,
   "metadata": {},
   "outputs": [],
   "source": []
  },
  {
   "cell_type": "code",
   "execution_count": null,
   "metadata": {},
   "outputs": [],
   "source": []
  },
  {
   "cell_type": "code",
   "execution_count": null,
   "metadata": {},
   "outputs": [],
   "source": []
  },
  {
   "cell_type": "code",
   "execution_count": null,
   "metadata": {},
   "outputs": [],
   "source": []
  },
  {
   "cell_type": "code",
   "execution_count": null,
   "metadata": {},
   "outputs": [],
   "source": []
  },
  {
   "cell_type": "code",
   "execution_count": null,
   "metadata": {},
   "outputs": [],
   "source": []
  },
  {
   "cell_type": "code",
   "execution_count": null,
   "metadata": {},
   "outputs": [],
   "source": []
  },
  {
   "cell_type": "code",
   "execution_count": null,
   "metadata": {},
   "outputs": [],
   "source": []
  },
  {
   "cell_type": "code",
   "execution_count": null,
   "metadata": {},
   "outputs": [],
   "source": []
  },
  {
   "cell_type": "code",
   "execution_count": null,
   "metadata": {},
   "outputs": [],
   "source": []
  },
  {
   "cell_type": "code",
   "execution_count": null,
   "metadata": {},
   "outputs": [],
   "source": []
  },
  {
   "cell_type": "code",
   "execution_count": null,
   "metadata": {},
   "outputs": [],
   "source": []
  },
  {
   "cell_type": "code",
   "execution_count": null,
   "metadata": {},
   "outputs": [],
   "source": []
  },
  {
   "cell_type": "code",
   "execution_count": null,
   "metadata": {},
   "outputs": [],
   "source": []
  },
  {
   "cell_type": "code",
   "execution_count": null,
   "metadata": {},
   "outputs": [],
   "source": []
  },
  {
   "cell_type": "code",
   "execution_count": null,
   "metadata": {},
   "outputs": [],
   "source": []
  },
  {
   "cell_type": "code",
   "execution_count": null,
   "metadata": {},
   "outputs": [],
   "source": []
  },
  {
   "cell_type": "code",
   "execution_count": null,
   "metadata": {},
   "outputs": [],
   "source": []
  },
  {
   "cell_type": "code",
   "execution_count": null,
   "metadata": {},
   "outputs": [],
   "source": []
  },
  {
   "cell_type": "code",
   "execution_count": null,
   "metadata": {},
   "outputs": [],
   "source": []
  },
  {
   "cell_type": "code",
   "execution_count": null,
   "metadata": {},
   "outputs": [],
   "source": []
  },
  {
   "cell_type": "code",
   "execution_count": null,
   "metadata": {},
   "outputs": [],
   "source": []
  },
  {
   "cell_type": "code",
   "execution_count": 58,
   "metadata": {},
   "outputs": [
    {
     "name": "stdout",
     "output_type": "stream",
     "text": [
      "Level  0   5:(1, 2) (2, 4) (3, 6) (4, 8) (5, 10) \n"
     ]
    }
   ],
   "source": [
    "i=5\n",
    "B.insert((i, 2 * i))\n",
    "B.print_tree(B.root)"
   ]
  },
  {
   "cell_type": "code",
   "execution_count": 59,
   "metadata": {},
   "outputs": [
    {
     "name": "stdout",
     "output_type": "stream",
     "text": [
      "Level  0   1:(3, 6) \n",
      "Level  1   2:(1, 2) (2, 4) \n",
      "Level  1   3:(4, 8) (5, 10) (6, 12) \n"
     ]
    }
   ],
   "source": [
    "i=6\n",
    "B.insert((i, 2 * i))\n",
    "B.print_tree(B.root)"
   ]
  },
  {
   "cell_type": "code",
   "execution_count": 60,
   "metadata": {},
   "outputs": [
    {
     "name": "stdout",
     "output_type": "stream",
     "text": [
      "Level  0   1:(3, 6) \n",
      "Level  1   2:(1, 2) (2, 4) \n",
      "Level  1   4:(4, 8) (5, 10) (6, 12) (7, 14) \n"
     ]
    }
   ],
   "source": [
    "i=7\n",
    "B.insert((i, 2 * i))\n",
    "B.print_tree(B.root)"
   ]
  },
  {
   "cell_type": "code",
   "execution_count": 61,
   "metadata": {},
   "outputs": [
    {
     "name": "stdout",
     "output_type": "stream",
     "text": [
      "Level  0   1:(3, 6) \n",
      "Level  1   2:(1, 2) (2, 4) \n",
      "Level  1   5:(4, 8) (5, 10) (6, 12) (7, 14) (8, 16) \n"
     ]
    }
   ],
   "source": [
    "i=8\n",
    "B.insert((i, 2 * i))\n",
    "B.print_tree(B.root)"
   ]
  },
  {
   "cell_type": "code",
   "execution_count": 62,
   "metadata": {},
   "outputs": [
    {
     "name": "stdout",
     "output_type": "stream",
     "text": [
      "Level  0   2:(3, 6) (6, 12) \n",
      "Level  1   2:(1, 2) (2, 4) \n",
      "Level  1   2:(4, 8) (5, 10) \n",
      "Level  1   3:(7, 14) (8, 16) (9, 18) \n"
     ]
    }
   ],
   "source": [
    "i=9\n",
    "B.insert((i, 2 * i))\n",
    "B.print_tree(B.root)"
   ]
  },
  {
   "cell_type": "code",
   "execution_count": null,
   "metadata": {},
   "outputs": [],
   "source": []
  }
 ],
 "metadata": {
  "kernelspec": {
   "display_name": "Python 3",
   "language": "python",
   "name": "python3"
  },
  "language_info": {
   "codemirror_mode": {
    "name": "ipython",
    "version": 3
   },
   "file_extension": ".py",
   "mimetype": "text/x-python",
   "name": "python",
   "nbconvert_exporter": "python",
   "pygments_lexer": "ipython3",
   "version": "3.7.3"
  }
 },
 "nbformat": 4,
 "nbformat_minor": 2
}
