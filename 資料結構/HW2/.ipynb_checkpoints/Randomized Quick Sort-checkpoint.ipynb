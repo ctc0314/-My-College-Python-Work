{
 "cells": [
  {
   "cell_type": "code",
   "execution_count": 1,
   "metadata": {},
   "outputs": [],
   "source": [
    "%matplotlib inline\n",
    "\n",
    "import numpy as np\n",
    "import matplotlib.pyplot as plt\n",
    "import time\n",
    "import random"
   ]
  },
  {
   "cell_type": "markdown",
   "metadata": {},
   "source": [
    "## Randomized Quick Sort"
   ]
  },
  {
   "cell_type": "code",
   "execution_count": 2,
   "metadata": {},
   "outputs": [],
   "source": [
    "'''\n",
    "The function which implements randomised QuickSort, \n",
    "using Haore's partition scheme. \n",
    "arr :- array to be sorted. \n",
    "start :- starting index of the array. \n",
    "stop :- ending index of the array. \n",
    "'''\n",
    "def quicksort(arr, start, stop): \n",
    "    if(start < stop):  \n",
    "        # pivotindex is the index where \n",
    "        # the pivot lies in the array \n",
    "        pivotindex = partitionrand(arr, start, stop)   \n",
    "        # At this stage the array is partially sorted  \n",
    "        # around the pivot. separately sorting the  \n",
    "        # left half of the array and the right half of the array. \n",
    "        quicksort(arr , start , pivotindex) \n",
    "        quicksort(arr, pivotindex + 1, stop) \n",
    "# This function generates random pivot, swaps the first \n",
    "# element with the pivot and calls the partition function. \n",
    "def partitionrand(arr , start, stop): \n",
    "# Generating a random number between  \n",
    "    # the starting index of the array and  \n",
    "    # the ending index of the array. \n",
    "    randpivot = random.randrange(start, stop) \n",
    "# Swapping the starting element of  \n",
    "    # the array and the pivot \n",
    "    arr[start], arr[randpivot] = arr[randpivot], arr[start] \n",
    "    return partition(arr, start, stop) \n",
    "''' \n",
    "This function takes the first element as pivot,  \n",
    "places the pivot element at the correct position  \n",
    "in the sorted array. All the elements are re-arranged  \n",
    "according to the pivot, the elements smaller than  \n",
    "the pivot is places on the left and the elements \n",
    "greater than the pivot is placed to the right of pivot. \n",
    "'''\n",
    "def partition(arr,start,stop): \n",
    "    pivot = start # pivot \n",
    "    i = start - 1\n",
    "    j = stop + 1\n",
    "    while True: \n",
    "        while True: \n",
    "            i = i + 1\n",
    "            if arr[i] >= arr[pivot]: \n",
    "                break\n",
    "        while True: \n",
    "            j = j - 1\n",
    "            if arr[j] <= arr[pivot]: \n",
    "                break\n",
    "        if i >= j: \n",
    "            return j \n",
    "        arr[i] , arr[j] = arr[j] , arr[i] "
   ]
  },
  {
   "cell_type": "markdown",
   "metadata": {},
   "source": [
    "## Uniformly Randomly:"
   ]
  },
  {
   "cell_type": "code",
   "execution_count": 3,
   "metadata": {},
   "outputs": [
    {
     "name": "stderr",
     "output_type": "stream",
     "text": [
      "C:\\Anaconda3\\lib\\site-packages\\ipykernel_launcher.py:8: DeprecationWarning: time.clock has been deprecated in Python 3.3 and will be removed from Python 3.8: use time.perf_counter or time.process_time instead\n",
      "  \n",
      "C:\\Anaconda3\\lib\\site-packages\\ipykernel_launcher.py:11: DeprecationWarning: time.clock has been deprecated in Python 3.3 and will be removed from Python 3.8: use time.perf_counter or time.process_time instead\n",
      "  # This is added back by InteractiveShellApp.init_path()\n"
     ]
    },
    {
     "name": "stdout",
     "output_type": "stream",
     "text": [
      "[0.004913009999999218, 0.011865219999999965, 0.01774283999999966]\n"
     ]
    },
    {
     "data": {
      "text/plain": [
       "Text(0, 0.5, '時間')"
      ]
     },
     "execution_count": 3,
     "metadata": {},
     "output_type": "execute_result"
    },
    {
     "data": {
      "image/png": "[encoded data removed]",
      "text/plain": [
       "<Figure size 432x288 with 1 Axes>"
      ]
     },
     "metadata": {
      "needs_background": "light"
     },
     "output_type": "display_data"
    }
   ],
   "source": [
    "t = 13\n",
    "L = list()\n",
    "\n",
    "for k in range(10,t):\n",
    "    M = list()\n",
    "    for i in range(10):\n",
    "        arr = list(np.random.randint(1,1001,size=2**k))\n",
    "        starttime = time.clock()\n",
    "        n = len(arr) \n",
    "        quicksort(arr, 0, len(arr) - 1) \n",
    "        endtime = time.clock()\n",
    "        M.append(endtime - starttime)\n",
    "    L.append(np.mean(M))\n",
    "print(L)\n",
    "plt.plot(range(1,t-9),L)\n",
    "plt.xlabel(\"次數\",fontproperties='SimSun')\n",
    "plt.ylabel(\"時間\",fontproperties='SimSun')\n"
   ]
  },
  {
   "cell_type": "markdown",
   "metadata": {},
   "source": [
    "### 估計時間\n",
    "根據圖估計，執行時間隨數字越大呈倍數上升"
   ]
  },
  {
   "cell_type": "code",
   "execution_count": 4,
   "metadata": {},
   "outputs": [
    {
     "name": "stdout",
     "output_type": "stream",
     "text": [
      "2的10次方個數排序所花的時間平均為0.004913009999999218\n",
      "2的11次方個數排序所花的時間平均為0.011865219999999965\n",
      "2的12次方個數排序所花的時間平均為0.01774283999999966\n",
      "2的13次方個數排序所花的時間估計為0.0428500450894317\n",
      "2的14次方個數排序所花的時間估計為0.05306405970822098\n",
      "2的15次方個數排序所花的時間估計為0.14194271999999727\n",
      "2的16次方個數排序所花的時間估計為0.28388543999999455\n",
      "2的17次方個數排序所花的時間估計為0.5677708799999891\n",
      "2的18次方個數排序所花的時間估計為1.1355417599999782\n",
      "2的19次方個數排序所花的時間估計為2.2710835199999564\n",
      "2的20次方個數排序所花的時間估計為4.542167039999913\n",
      "2的21次方個數排序所花的時間估計為9.084334079999826\n",
      "2的22次方個數排序所花的時間估計為18.16866815999965\n",
      "2的23次方個數排序所花的時間估計為36.3373363199993\n",
      "2的24次方個數排序所花的時間估計為72.6746726399986\n",
      "2的25次方個數排序所花的時間估計為145.3493452799972\n",
      "2的26次方個數排序所花的時間估計為290.6986905599944\n",
      "2的27次方個數排序所花的時間估計為581.3973811199888\n",
      "2的28次方個數排序所花的時間估計為1162.7947622399777\n",
      "2的29次方個數排序所花的時間估計為2325.5895244799553\n",
      "2的30次方個數排序所花的時間估計為4651.179048959911\n"
     ]
    }
   ],
   "source": [
    "t = len(L)\n",
    "for i in range(0,21):\n",
    "    if(i<t):\n",
    "        print(f\"2的{i+10}次方個數排序所花的時間平均為{L[i]}\")\n",
    "    else:\n",
    "        print(f\"2的{i+10}次方個數排序所花的時間估計為{L[i-2]/L[i-3]*L[i-1]}\")\n",
    "        L.append(2*L[i-1])"
   ]
  },
  {
   "cell_type": "markdown",
   "metadata": {},
   "source": [
    "## Almost Sorted:"
   ]
  },
  {
   "cell_type": "code",
   "execution_count": 20,
   "metadata": {},
   "outputs": [
    {
     "name": "stderr",
     "output_type": "stream",
     "text": [
      "C:\\Anaconda3\\lib\\site-packages\\ipykernel_launcher.py:11: DeprecationWarning: time.clock has been deprecated in Python 3.3 and will be removed from Python 3.8: use time.perf_counter or time.process_time instead\n",
      "  # This is added back by InteractiveShellApp.init_path()\n",
      "C:\\Anaconda3\\lib\\site-packages\\ipykernel_launcher.py:13: DeprecationWarning: time.clock has been deprecated in Python 3.3 and will be removed from Python 3.8: use time.perf_counter or time.process_time instead\n",
      "  del sys.path[0]\n"
     ]
    },
    {
     "name": "stdout",
     "output_type": "stream",
     "text": [
      "[0.003917460000013762, 0.006986280000000988, 0.014437280000004193, 0.03057423000000199, 0.06487912000000051, 0.14156442999999969, 0.3043140199999982]\n"
     ]
    },
    {
     "data": {
      "text/plain": [
       "Text(0, 0.5, '時間')"
      ]
     },
     "execution_count": 20,
     "metadata": {},
     "output_type": "execute_result"
    },
    {
     "data": {
      "image/png": "[encoded data removed]",
      "text/plain": [
       "<Figure size 432x288 with 1 Axes>"
      ]
     },
     "metadata": {
      "needs_background": "light"
     },
     "output_type": "display_data"
    }
   ],
   "source": [
    "t = 17\n",
    "L = list()\n",
    "\n",
    "for k in range(10,t):\n",
    "    M = list()\n",
    "    for i in range(10):\n",
    "        arr = list(np.arange(1,2**k+1))\n",
    "        r = random.sample(arr,100)\n",
    "        for i in range(len(r)):\n",
    "            arr[arr.index(r[i])] = random.randint(1,1001) \n",
    "        starttime = time.clock()\n",
    "        quicksort(arr, 0, len(arr) - 1) \n",
    "        endtime = time.clock()\n",
    "        M.append(endtime - starttime)\n",
    "    L.append(np.mean(M))\n",
    "print(L)\n",
    "plt.plot(range(1,t-9),L)\n",
    "plt.xlabel(\"次數\",fontproperties='SimSun')\n",
    "plt.ylabel(\"時間\",fontproperties='SimSun')"
   ]
  },
  {
   "cell_type": "markdown",
   "metadata": {},
   "source": [
    "### 估計時間\n",
    "根據圖估計，執行時間隨數字越大呈倍數上升"
   ]
  },
  {
   "cell_type": "code",
   "execution_count": 21,
   "metadata": {},
   "outputs": [
    {
     "name": "stdout",
     "output_type": "stream",
     "text": [
      "2的10次方個數排序所花的時間平均為0.003917460000013762\n",
      "2的11次方個數排序所花的時間平均為0.006986280000000988\n",
      "2的12次方個數排序所花的時間平均為0.014437280000004193\n",
      "2的13次方個數排序所花的時間平均為0.03057423000000199\n",
      "2的14次方個數排序所花的時間平均為0.06487912000000051\n",
      "2的15次方個數排序所花的時間平均為0.14156442999999969\n",
      "2的16次方個數排序所花的時間平均為0.3043140199999982\n",
      "2的17次方個數排序所花的時間估計為0.6640047026270995\n",
      "2的18次方個數排序所花的時間估計為1.3083374512730281\n",
      "2的19次方個數排序所花的時間估計為2.4345121599999855\n",
      "2的20次方個數排序所花的時間估計為4.869024319999971\n",
      "2的21次方個數排序所花的時間估計為9.738048639999942\n",
      "2的22次方個數排序所花的時間估計為19.476097279999884\n",
      "2的23次方個數排序所花的時間估計為38.95219455999977\n",
      "2的24次方個數排序所花的時間估計為77.90438911999954\n",
      "2的25次方個數排序所花的時間估計為155.80877823999907\n",
      "2的26次方個數排序所花的時間估計為311.61755647999814\n",
      "2的27次方個數排序所花的時間估計為623.2351129599963\n",
      "2的28次方個數排序所花的時間估計為1246.4702259199926\n",
      "2的29次方個數排序所花的時間估計為2492.940451839985\n",
      "2的30次方個數排序所花的時間估計為4985.88090367997\n"
     ]
    }
   ],
   "source": [
    "t = len(L)\n",
    "for i in range(0,21):\n",
    "    if(i<t):\n",
    "        print(f\"2的{i+10}次方個數排序所花的時間平均為{L[i]}\")\n",
    "    else:\n",
    "        print(f\"2的{i+10}次方個數排序所花的時間估計為{L[i-2]/L[i-3]*L[i-1]}\")\n",
    "        L.append(2*L[i-1])"
   ]
  },
  {
   "cell_type": "code",
   "execution_count": null,
   "metadata": {},
   "outputs": [],
   "source": [
    "##參考資料\n",
    "##https://www.geeksforgeeks.org/python-program-for-quicksort/"
   ]
  },
  {
   "cell_type": "code",
   "execution_count": null,
   "metadata": {},
   "outputs": [],
   "source": []
  },
  {
   "cell_type": "code",
   "execution_count": null,
   "metadata": {},
   "outputs": [],
   "source": []
  }
 ],
 "metadata": {
  "kernelspec": {
   "display_name": "Python 3",
   "language": "python",
   "name": "python3"
  },
  "language_info": {
   "codemirror_mode": {
    "name": "ipython",
    "version": 3
   },
   "file_extension": ".py",
   "mimetype": "text/x-python",
   "name": "python",
   "nbconvert_exporter": "python",
   "pygments_lexer": "ipython3",
   "version": "3.7.3"
  }
 },
 "nbformat": 4,
 "nbformat_minor": 2
}
