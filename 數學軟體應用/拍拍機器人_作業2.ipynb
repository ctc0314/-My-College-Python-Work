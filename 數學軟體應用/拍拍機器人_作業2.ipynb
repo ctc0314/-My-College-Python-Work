{
 "cells": [
  {
   "cell_type": "code",
   "execution_count": 1,
   "metadata": {},
   "outputs": [],
   "source": [
    "%matplotlib inline\n",
    "import numpy as np\n",
    "import matplotlib.pyplot as plt\n",
    "import pandas as pd"
   ]
  },
  {
   "cell_type": "code",
   "execution_count": 53,
   "metadata": {},
   "outputs": [],
   "source": [
    "from ipywidgets import interact"
   ]
  },
  {
   "cell_type": "code",
   "execution_count": 62,
   "metadata": {},
   "outputs": [],
   "source": [
    "def f(拍拍模式=\"我很好只是來玩玩\"):\n",
    "    print(拍拍模式)\n"
   ]
  },
  {
   "cell_type": "code",
   "execution_count": 68,
   "metadata": {
    "scrolled": true
   },
   "outputs": [
    {
     "data": {
      "application/vnd.jupyter.widget-view+json": {
       "model_id": "4d5d372366a84487a7ae410e0c233647",
       "version_major": 2,
       "version_minor": 0
      },
      "text/plain": [
       "interactive(children=(Dropdown(description='拍拍模式', options={'我很好只是來玩玩': '給你個尷尬又不失禮貌地微笑:)', '我想訴苦討拍': '我做不出來可以輸…"
      ]
     },
     "metadata": {},
     "output_type": "display_data"
    }
   ],
   "source": [
    "interact(f,拍拍模式={\"我很好只是來玩玩\":\"給你個尷尬又不失禮貌地微笑:)\",\n",
    "                 \"我想訴苦討拍\":\"我做不出來可以輸入的，我也很難過，所以之後再讓你訴苦QAQ\",\n",
    "                 \"我難過到不想說話\":\"那我先幫你拍拍\"});\n"
   ]
  },
  {
   "cell_type": "code",
   "execution_count": null,
   "metadata": {},
   "outputs": [],
   "source": []
  },
  {
   "cell_type": "code",
   "execution_count": null,
   "metadata": {},
   "outputs": [],
   "source": []
  },
  {
   "cell_type": "code",
   "execution_count": 16,
   "metadata": {},
   "outputs": [
    {
     "name": "stdout",
     "output_type": "stream",
     "text": [
      ">> \n",
      "拍拍\n",
      ">> bye\n",
      "BYE\n"
     ]
    }
   ],
   "source": [
    "msg =\"歡迎光臨 飲料第二件七折喔\"\n",
    "while (msg !=\"bye\"):\n",
    "    msg = input(\">> \")\n",
    "    if msg!=(\"bye\"):\n",
    "        print(\"拍拍\")\n",
    "    else:\n",
    "        print(\"BYE\")"
   ]
  },
  {
   "cell_type": "code",
   "execution_count": null,
   "metadata": {},
   "outputs": [],
   "source": []
  },
  {
   "cell_type": "code",
   "execution_count": 1,
   "metadata": {},
   "outputs": [],
   "source": [
    "%matplotlib inline\n",
    "import numpy as np\n",
    "import matplotlib.pyplot as plt\n",
    "import pandas as pd"
   ]
  },
  {
   "cell_type": "code",
   "execution_count": 2,
   "metadata": {},
   "outputs": [],
   "source": [
    "def 拍拍機器人():\n",
    "    msg =\"歡迎光臨 飲料第二件七折喔\"\n",
    "    while (msg !=\"bye\"):\n",
    "        msg = input(\">> \")\n",
    "        if msg!=(\"bye\"):\n",
    "            print(\"拍拍\")\n",
    "        else:\n",
    "            print(\"BYE\")"
   ]
  },
  {
   "cell_type": "code",
   "execution_count": 3,
   "metadata": {},
   "outputs": [],
   "source": [
    "from ipywidgets import interact"
   ]
  },
  {
   "cell_type": "code",
   "execution_count": 4,
   "metadata": {},
   "outputs": [],
   "source": [
    "def f(拍拍模式=\"我很好只是來玩玩\"):\n",
    "    return 拍拍模式\n",
    "    if(拍拍模式==我想訴苦討拍):\n",
    "        拍拍機器人()\n",
    "    else:\n",
    "        print(拍拍模式)\n"
   ]
  },
  {
   "cell_type": "code",
   "execution_count": 5,
   "metadata": {
    "scrolled": true
   },
   "outputs": [
    {
     "data": {
      "application/vnd.jupyter.widget-view+json": {
       "model_id": "89900f59dd454055bd8631f7b08df8ff",
       "version_major": 2,
       "version_minor": 0
      },
      "text/plain": [
       "interactive(children=(Dropdown(description='拍拍模式', options={'我很好只是來玩玩': '給你個尷尬又不失禮貌地微笑:)', '我想訴苦討拍': '我做不出來可以輸…"
      ]
     },
     "metadata": {},
     "output_type": "display_data"
    }
   ],
   "source": [
    "interact(f,拍拍模式={\"我很好只是來玩玩\":\"給你個尷尬又不失禮貌地微笑:)\",\n",
    "                 \"我想訴苦討拍\":\"我做不出來可以輸入的，我也很難過，所以之後再讓你訴苦QAQ\",\n",
    "                 \"我難過到不想說話\":\"那我先幫你拍拍\"});\n"
   ]
  },
  {
   "cell_type": "code",
   "execution_count": null,
   "metadata": {},
   "outputs": [],
   "source": []
  }
 ],
 "metadata": {
  "kernelspec": {
   "display_name": "Python 3",
   "language": "python",
   "name": "python3"
  },
  "language_info": {
   "codemirror_mode": {
    "name": "ipython",
    "version": 3
   },
   "file_extension": ".py",
   "mimetype": "text/x-python",
   "name": "python",
   "nbconvert_exporter": "python",
   "pygments_lexer": "ipython3",
   "version": "3.7.3"
  }
 },
 "nbformat": 4,
 "nbformat_minor": 2
}
