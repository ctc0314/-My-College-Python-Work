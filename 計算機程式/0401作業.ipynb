{
 "cells": [
  {
   "cell_type": "code",
   "execution_count": 1,
   "metadata": {},
   "outputs": [],
   "source": [
    "%matplotlib inline\n",
    "\n",
    "import numpy as np\n",
    "import pandas as pd \n",
    "import matplotlib.pyplot as plt\n",
    "import tensorflow as tf"
   ]
  },
  {
   "cell_type": "code",
   "execution_count": 2,
   "metadata": {},
   "outputs": [],
   "source": [
    "from tensorflow.keras.datasets import fashion_mnist"
   ]
  },
  {
   "cell_type": "code",
   "execution_count": 3,
   "metadata": {},
   "outputs": [],
   "source": [
    "(x_train, y_train), (x_test, y_test) = fashion_mnist.load_data()"
   ]
  },
  {
   "cell_type": "code",
   "execution_count": 4,
   "metadata": {},
   "outputs": [],
   "source": [
    "class_names = ['T-shirt/top', 'Trouser', 'Pullover', 'Dress', 'Coat',\n",
    "               'Sandal', 'Shirt', 'Sneaker', 'Bag', 'Ankle boot']"
   ]
  },
  {
   "cell_type": "code",
   "execution_count": 5,
   "metadata": {},
   "outputs": [],
   "source": [
    "x_train = x_train/255\n",
    "x_test = x_test/255"
   ]
  },
  {
   "cell_type": "code",
   "execution_count": 6,
   "metadata": {},
   "outputs": [],
   "source": [
    "x_train = x_train.reshape(60000, 28, 28, 1)"
   ]
  },
  {
   "cell_type": "code",
   "execution_count": 7,
   "metadata": {},
   "outputs": [],
   "source": [
    "x_test = x_test.reshape(10000, 28, 28, 1)"
   ]
  },
  {
   "cell_type": "code",
   "execution_count": 8,
   "metadata": {},
   "outputs": [],
   "source": [
    "from tensorflow.keras.utils import to_categorical"
   ]
  },
  {
   "cell_type": "code",
   "execution_count": 9,
   "metadata": {},
   "outputs": [],
   "source": [
    "y_train = to_categorical(y_train, 10)"
   ]
  },
  {
   "cell_type": "code",
   "execution_count": 10,
   "metadata": {},
   "outputs": [],
   "source": [
    "y_test = to_categorical(y_test, 10)"
   ]
  },
  {
   "cell_type": "code",
   "execution_count": 11,
   "metadata": {},
   "outputs": [],
   "source": [
    "from tensorflow.keras.models import Sequential\n",
    "from tensorflow.keras.layers import Conv2D, MaxPooling2D\n",
    "from tensorflow.keras.layers import Dense, Flatten ##拉平\n",
    "from tensorflow.keras.optimizers import SGD"
   ]
  },
  {
   "cell_type": "code",
   "execution_count": 12,
   "metadata": {},
   "outputs": [],
   "source": [
    "model = Sequential()"
   ]
  },
  {
   "cell_type": "code",
   "execution_count": 13,
   "metadata": {},
   "outputs": [],
   "source": [
    "model.add(Conv2D(8,(3,3), padding='same',\n",
    "                input_shape=(28,28,1),\n",
    "                activation='sigmoid'))"
   ]
  },
  {
   "cell_type": "code",
   "execution_count": 14,
   "metadata": {},
   "outputs": [],
   "source": [
    "model.add(MaxPooling2D(pool_size=(2,2)))"
   ]
  },
  {
   "cell_type": "code",
   "execution_count": 15,
   "metadata": {},
   "outputs": [],
   "source": [
    "## 新增一層\n",
    "## 函數 relu ->sigmoid"
   ]
  },
  {
   "cell_type": "code",
   "execution_count": 16,
   "metadata": {},
   "outputs": [],
   "source": [
    "model.add(Conv2D(16,(3,3), padding='same',\n",
    "                activation='relu'))"
   ]
  },
  {
   "cell_type": "code",
   "execution_count": 17,
   "metadata": {},
   "outputs": [],
   "source": [
    "model.add(MaxPooling2D(pool_size=(2,2)))"
   ]
  },
  {
   "cell_type": "code",
   "execution_count": 18,
   "metadata": {},
   "outputs": [],
   "source": [
    "model.add(Conv2D(32,(3,3), padding='same',\n",
    "                activation='relu'))"
   ]
  },
  {
   "cell_type": "code",
   "execution_count": 19,
   "metadata": {},
   "outputs": [],
   "source": [
    "model.add(MaxPooling2D(pool_size=(2,2)))"
   ]
  },
  {
   "cell_type": "code",
   "execution_count": 20,
   "metadata": {},
   "outputs": [],
   "source": [
    "model.add(Conv2D(64, (3,3), padding='same', \n",
    "                activation='relu'))"
   ]
  },
  {
   "cell_type": "code",
   "execution_count": 21,
   "metadata": {},
   "outputs": [],
   "source": [
    "model.add(MaxPooling2D(pool_size=(2,2)))"
   ]
  },
  {
   "cell_type": "code",
   "execution_count": 22,
   "metadata": {},
   "outputs": [],
   "source": [
    "model.add(Flatten())"
   ]
  },
  {
   "cell_type": "code",
   "execution_count": 23,
   "metadata": {},
   "outputs": [],
   "source": [
    "model.add(Dense(54,activation='relu'))"
   ]
  },
  {
   "cell_type": "code",
   "execution_count": 24,
   "metadata": {},
   "outputs": [],
   "source": [
    "model.add(Dense(10,activation='softmax'))"
   ]
  },
  {
   "cell_type": "code",
   "execution_count": 25,
   "metadata": {},
   "outputs": [],
   "source": [
    "model.compile(loss='categorical_crossentropy', optimizer='adam', metrics=['accuracy'])"
   ]
  },
  {
   "cell_type": "markdown",
   "metadata": {},
   "source": [
    "### 函式改用 Cross Entropy \n",
    "### optimizer 改用 Adam"
   ]
  },
  {
   "cell_type": "code",
   "execution_count": 26,
   "metadata": {},
   "outputs": [
    {
     "name": "stdout",
     "output_type": "stream",
     "text": [
      "Model: \"sequential\"\n",
      "_________________________________________________________________\n",
      "Layer (type)                 Output Shape              Param #   \n",
      "=================================================================\n",
      "conv2d (Conv2D)              (None, 28, 28, 8)         80        \n",
      "_________________________________________________________________\n",
      "max_pooling2d (MaxPooling2D) (None, 14, 14, 8)         0         \n",
      "_________________________________________________________________\n",
      "conv2d_1 (Conv2D)            (None, 14, 14, 16)        1168      \n",
      "_________________________________________________________________\n",
      "max_pooling2d_1 (MaxPooling2 (None, 7, 7, 16)          0         \n",
      "_________________________________________________________________\n",
      "conv2d_2 (Conv2D)            (None, 7, 7, 32)          4640      \n",
      "_________________________________________________________________\n",
      "max_pooling2d_2 (MaxPooling2 (None, 3, 3, 32)          0         \n",
      "_________________________________________________________________\n",
      "conv2d_3 (Conv2D)            (None, 3, 3, 64)          18496     \n",
      "_________________________________________________________________\n",
      "max_pooling2d_3 (MaxPooling2 (None, 1, 1, 64)          0         \n",
      "_________________________________________________________________\n",
      "flatten (Flatten)            (None, 64)                0         \n",
      "_________________________________________________________________\n",
      "dense (Dense)                (None, 54)                3510      \n",
      "_________________________________________________________________\n",
      "dense_1 (Dense)              (None, 10)                550       \n",
      "=================================================================\n",
      "Total params: 28,444\n",
      "Trainable params: 28,444\n",
      "Non-trainable params: 0\n",
      "_________________________________________________________________\n"
     ]
    }
   ],
   "source": [
    "model.summary()"
   ]
  },
  {
   "cell_type": "code",
   "execution_count": 32,
   "metadata": {},
   "outputs": [
    {
     "name": "stdout",
     "output_type": "stream",
     "text": [
      "Train on 50000 samples, validate on 10000 samples\n",
      "Epoch 1/20\n",
      "50000/50000 [==============================] - 26s 517us/sample - loss: 0.2592 - accuracy: 0.9033 - val_loss: 0.2642 - val_accuracy: 0.8999\n",
      "Epoch 2/20\n",
      "50000/50000 [==============================] - 28s 554us/sample - loss: 0.2557 - accuracy: 0.9045 - val_loss: 0.2583 - val_accuracy: 0.9057\n",
      "Epoch 3/20\n",
      "50000/50000 [==============================] - 26s 524us/sample - loss: 0.2469 - accuracy: 0.9080 - val_loss: 0.2931 - val_accuracy: 0.8940\n",
      "Epoch 4/20\n",
      "50000/50000 [==============================] - 27s 540us/sample - loss: 0.2453 - accuracy: 0.9083 - val_loss: 0.2715 - val_accuracy: 0.9007\n",
      "Epoch 5/20\n",
      "50000/50000 [==============================] - 27s 548us/sample - loss: 0.2382 - accuracy: 0.9112 - val_loss: 0.2626 - val_accuracy: 0.9041\n",
      "Epoch 6/20\n",
      "50000/50000 [==============================] - 27s 538us/sample - loss: 0.2354 - accuracy: 0.9115 - val_loss: 0.2641 - val_accuracy: 0.9021\n",
      "Epoch 7/20\n",
      "50000/50000 [==============================] - 27s 535us/sample - loss: 0.2324 - accuracy: 0.9135 - val_loss: 0.2517 - val_accuracy: 0.9064\n",
      "Epoch 8/20\n",
      "50000/50000 [==============================] - 28s 564us/sample - loss: 0.2271 - accuracy: 0.9150 - val_loss: 0.2746 - val_accuracy: 0.8966\n",
      "Epoch 9/20\n",
      "50000/50000 [==============================] - 29s 573us/sample - loss: 0.2254 - accuracy: 0.9158 - val_loss: 0.2582 - val_accuracy: 0.9050\n",
      "Epoch 10/20\n",
      "50000/50000 [==============================] - 28s 568us/sample - loss: 0.2201 - accuracy: 0.9173 - val_loss: 0.2610 - val_accuracy: 0.9029\n",
      "Epoch 11/20\n",
      "50000/50000 [==============================] - 28s 560us/sample - loss: 0.2179 - accuracy: 0.9182 - val_loss: 0.2496 - val_accuracy: 0.9065\n",
      "Epoch 12/20\n",
      "50000/50000 [==============================] - 27s 549us/sample - loss: 0.2134 - accuracy: 0.9199 - val_loss: 0.2634 - val_accuracy: 0.9055\n",
      "Epoch 13/20\n",
      "50000/50000 [==============================] - 28s 560us/sample - loss: 0.2121 - accuracy: 0.9207 - val_loss: 0.2638 - val_accuracy: 0.9030\n",
      "Epoch 14/20\n",
      "50000/50000 [==============================] - 28s 553us/sample - loss: 0.2064 - accuracy: 0.9235 - val_loss: 0.2600 - val_accuracy: 0.9051\n",
      "Epoch 15/20\n",
      "50000/50000 [==============================] - 28s 554us/sample - loss: 0.2036 - accuracy: 0.9240 - val_loss: 0.2673 - val_accuracy: 0.9030\n",
      "Epoch 16/20\n",
      "50000/50000 [==============================] - 28s 552us/sample - loss: 0.2043 - accuracy: 0.9235 - val_loss: 0.2745 - val_accuracy: 0.9018\n",
      "Epoch 17/20\n",
      "50000/50000 [==============================] - 28s 556us/sample - loss: 0.1979 - accuracy: 0.9250 - val_loss: 0.2880 - val_accuracy: 0.8981\n",
      "Epoch 18/20\n",
      "50000/50000 [==============================] - 27s 550us/sample - loss: 0.1946 - accuracy: 0.9269 - val_loss: 0.2621 - val_accuracy: 0.9058\n",
      "Epoch 19/20\n",
      "50000/50000 [==============================] - 27s 550us/sample - loss: 0.1905 - accuracy: 0.9287 - val_loss: 0.2748 - val_accuracy: 0.9023\n",
      "Epoch 20/20\n",
      "50000/50000 [==============================] - 27s 548us/sample - loss: 0.1903 - accuracy: 0.9285 - val_loss: 0.2527 - val_accuracy: 0.9080\n"
     ]
    },
    {
     "data": {
      "text/plain": [
       "<tensorflow.python.keras.callbacks.History at 0x1e76abc6dd8>"
      ]
     },
     "execution_count": 32,
     "metadata": {},
     "output_type": "execute_result"
    }
   ],
   "source": [
    "model.fit(x_train, y_train, batch_size=150, epochs=20, validation_split = 1/6)\n",
    "## 修改尺寸跟訓練次數-> 發現調整這裡的成效有限\n",
    "## 分割驗證資料(防止過度訓練)"
   ]
  },
  {
   "cell_type": "code",
   "execution_count": 33,
   "metadata": {},
   "outputs": [],
   "source": [
    "result = model.predict_classes(x_test)"
   ]
  },
  {
   "cell_type": "code",
   "execution_count": 35,
   "metadata": {},
   "outputs": [
    {
     "name": "stdout",
     "output_type": "stream",
     "text": [
      "神經網路預測這是 Sandal\n"
     ]
    },
    {
     "data": {
      "text/plain": [
       "<matplotlib.image.AxesImage at 0x1e77210fe48>"
      ]
     },
     "execution_count": 35,
     "metadata": {},
     "output_type": "execute_result"
    },
    {
     "data": {
      "image/png": "[encoded data removed]",
      "text/plain": [
       "<Figure size 432x288 with 1 Axes>"
      ]
     },
     "metadata": {
      "needs_background": "light"
     },
     "output_type": "display_data"
    }
   ],
   "source": [
    "n = 1987\n",
    "print(\"神經網路預測這是\",class_names[result[n]])\n",
    "plt.imshow(x_test[n].reshape(28,28), cmap='Greys')"
   ]
  },
  {
   "cell_type": "code",
   "execution_count": 36,
   "metadata": {},
   "outputs": [],
   "source": [
    "model.save('myCNNmodel_1.h5')"
   ]
  },
  {
   "cell_type": "markdown",
   "metadata": {},
   "source": [
    "### 參考資料\n",
    "https://medium.com/@syshen/%E6%94%B9%E5%96%84-cnn-%E8%BE%A8%E8%AD%98%E7%8E%87-dac9fce59b63"
   ]
  },
  {
   "cell_type": "code",
   "execution_count": null,
   "metadata": {},
   "outputs": [],
   "source": []
  }
 ],
 "metadata": {
  "kernelspec": {
   "display_name": "Python 3",
   "language": "python",
   "name": "python3"
  },
  "language_info": {
   "codemirror_mode": {
    "name": "ipython",
    "version": 3
   },
   "file_extension": ".py",
   "mimetype": "text/x-python",
   "name": "python",
   "nbconvert_exporter": "python",
   "pygments_lexer": "ipython3",
   "version": "3.7.3"
  }
 },
 "nbformat": 4,
 "nbformat_minor": 2
}
