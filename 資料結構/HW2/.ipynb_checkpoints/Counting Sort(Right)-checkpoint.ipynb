{
 "cells": [
  {
   "cell_type": "code",
   "execution_count": 1,
   "metadata": {},
   "outputs": [],
   "source": [
    "%matplotlib inline\n",
    "\n",
    "import numpy as np\n",
    "import matplotlib.pyplot as plt\n",
    "import time\n",
    "import random"
   ]
  },
  {
   "cell_type": "markdown",
   "metadata": {},
   "source": [
    "## Counting Sort"
   ]
  },
  {
   "cell_type": "code",
   "execution_count": 2,
   "metadata": {},
   "outputs": [],
   "source": [
    "def counting_sort(arr, max_val):\n",
    "    m = max_val + 1\n",
    "    count = [0] * m                \n",
    "    \n",
    "    for a in arr:\n",
    "    # count occurences\n",
    "        count[a] += 1             \n",
    "    i = 0\n",
    "    for a in range(m):            \n",
    "        for c in range(count[a]):  \n",
    "            arr[i] = a\n",
    "            i += 1\n",
    "    return arr"
   ]
  },
  {
   "cell_type": "markdown",
   "metadata": {},
   "source": [
    "## Uniformly Randomly:"
   ]
  },
  {
   "cell_type": "code",
   "execution_count": 4,
   "metadata": {},
   "outputs": [
    {
     "name": "stdout",
     "output_type": "stream",
     "text": [
      "[0.0012253799999982107, 0.0021810299999998504, 0.004543140000002666]\n"
     ]
    },
    {
     "name": "stderr",
     "output_type": "stream",
     "text": [
      "C:\\Anaconda3\\lib\\site-packages\\ipykernel_launcher.py:9: DeprecationWarning: time.clock has been deprecated in Python 3.3 and will be removed from Python 3.8: use time.perf_counter or time.process_time instead\n",
      "  if __name__ == '__main__':\n",
      "C:\\Anaconda3\\lib\\site-packages\\ipykernel_launcher.py:11: DeprecationWarning: time.clock has been deprecated in Python 3.3 and will be removed from Python 3.8: use time.perf_counter or time.process_time instead\n",
      "  # This is added back by InteractiveShellApp.init_path()\n"
     ]
    },
    {
     "data": {
      "text/plain": [
       "Text(0, 0.5, '時間')"
      ]
     },
     "execution_count": 4,
     "metadata": {},
     "output_type": "execute_result"
    },
    {
     "data": {
      "image/png": "[encoded data removed]",
      "text/plain": [
       "<Figure size 432x288 with 1 Axes>"
      ]
     },
     "metadata": {
      "needs_background": "light"
     },
     "output_type": "display_data"
    }
   ],
   "source": [
    "t = 13\n",
    "L = list()\n",
    "\n",
    "for k in range(10,t):\n",
    "    M = list()\n",
    "    \n",
    "    for i in range(10):\n",
    "        arr = list(np.random.randint(1,1001,size=2**k))\n",
    "        starttime = time.clock()\n",
    "        counting_sort(arr,max(arr))\n",
    "        endtime = time.clock()\n",
    "        M.append(endtime - starttime)\n",
    "    L.append(np.mean(M))\n",
    "print(L)\n",
    "plt.plot(range(1,t-9),L)\n",
    "plt.xlabel(\"次數\",fontproperties='SimSun')\n",
    "plt.ylabel(\"時間\",fontproperties='SimSun')\n"
   ]
  },
  {
   "cell_type": "markdown",
   "metadata": {},
   "source": [
    "### 估計時間\n",
    "根據圖估計，執行時間隨數字越大呈倍數上升"
   ]
  },
  {
   "cell_type": "code",
   "execution_count": 5,
   "metadata": {},
   "outputs": [
    {
     "name": "stdout",
     "output_type": "stream",
     "text": [
      "2的10次方個數排序所花的時間平均為0.0012253799999982107\n",
      "2的11次方個數排序所花的時間平均為0.0021810299999998504\n",
      "2的12次方個數排序所花的時間平均為0.004543140000002666\n",
      "2的13次方個數排序所花的時間估計為0.008086246416800995\n",
      "2的14次方個數排序所花的時間估計為0.01892694833140822\n",
      "2的15次方個數排序所花的時間估計為0.036345120000021325\n",
      "2的16次方個數排序所花的時間估計為0.07269024000004265\n",
      "2的17次方個數排序所花的時間估計為0.1453804800000853\n",
      "2的18次方個數排序所花的時間估計為0.2907609600001706\n",
      "2的19次方個數排序所花的時間估計為0.5815219200003412\n",
      "2的20次方個數排序所花的時間估計為1.1630438400006824\n",
      "2的21次方個數排序所花的時間估計為2.326087680001365\n",
      "2的22次方個數排序所花的時間估計為4.65217536000273\n",
      "2的23次方個數排序所花的時間估計為9.30435072000546\n",
      "2的24次方個數排序所花的時間估計為18.60870144001092\n",
      "2的25次方個數排序所花的時間估計為37.21740288002184\n",
      "2的26次方個數排序所花的時間估計為74.43480576004367\n",
      "2的27次方個數排序所花的時間估計為148.86961152008735\n",
      "2的28次方個數排序所花的時間估計為297.7392230401747\n",
      "2的29次方個數排序所花的時間估計為595.4784460803494\n",
      "2的30次方個數排序所花的時間估計為1190.9568921606988\n"
     ]
    }
   ],
   "source": [
    "t = len(L)\n",
    "for i in range(0,21):\n",
    "    if(i<t):\n",
    "        print(f\"2的{i+10}次方個數排序所花的時間平均為{L[i]}\")\n",
    "    else:\n",
    "        print(f\"2的{i+10}次方個數排序所花的時間估計為{L[i-2]/L[i-3]*L[i-1]}\")\n",
    "        L.append(2*L[i-1])"
   ]
  },
  {
   "cell_type": "markdown",
   "metadata": {},
   "source": [
    "## Almost Sorted:"
   ]
  },
  {
   "cell_type": "code",
   "execution_count": 9,
   "metadata": {},
   "outputs": [
    {
     "name": "stdout",
     "output_type": "stream",
     "text": [
      "[0.0005270300003758166, 0.0008918199997424381, 0.001811989999259822]\n"
     ]
    },
    {
     "name": "stderr",
     "output_type": "stream",
     "text": [
      "C:\\Anaconda3\\lib\\site-packages\\ipykernel_launcher.py:10: DeprecationWarning: time.clock has been deprecated in Python 3.3 and will be removed from Python 3.8: use time.perf_counter or time.process_time instead\n",
      "  # Remove the CWD from sys.path while we load stuff.\n",
      "C:\\Anaconda3\\lib\\site-packages\\ipykernel_launcher.py:13: DeprecationWarning: time.clock has been deprecated in Python 3.3 and will be removed from Python 3.8: use time.perf_counter or time.process_time instead\n",
      "  del sys.path[0]\n"
     ]
    },
    {
     "data": {
      "text/plain": [
       "Text(0, 0.5, '時間')"
      ]
     },
     "execution_count": 9,
     "metadata": {},
     "output_type": "execute_result"
    },
    {
     "data": {
      "image/png": "[encoded data removed]",
      "text/plain": [
       "<Figure size 432x288 with 1 Axes>"
      ]
     },
     "metadata": {
      "needs_background": "light"
     },
     "output_type": "display_data"
    }
   ],
   "source": [
    "t = 13\n",
    "L = list()\n",
    "\n",
    "for k in range(10,t):\n",
    "    M = list()\n",
    "    for i in range(10):       \n",
    "        arr = list(np.arange(1,2**k+1))\n",
    "        r = random.sample(arr,100)\n",
    "        arr[arr.index(r[i])] = random.randint(1,1001) \n",
    "        starttime = time.clock()\n",
    "        n = len(arr) \n",
    "        counting_sort(arr,max(arr))\n",
    "        endtime = time.clock()\n",
    "        M.append(endtime - starttime)\n",
    "    L.append(np.mean(M))\n",
    "print(L)\n",
    "plt.plot(range(1,t-9),L)\n",
    "plt.xlabel(\"次數\",fontproperties='SimSun')\n",
    "plt.ylabel(\"時間\",fontproperties='SimSun')"
   ]
  },
  {
   "cell_type": "markdown",
   "metadata": {},
   "source": [
    "### 估計時間\n",
    "根據圖估計，執行時間隨數字越大呈倍數上升"
   ]
  },
  {
   "cell_type": "code",
   "execution_count": 7,
   "metadata": {},
   "outputs": [
    {
     "name": "stdout",
     "output_type": "stream",
     "text": [
      "2的10次方個數排序所花的時間平均為0.0010726359999978286\n",
      "2的11次方個數排序所花的時間平均為0.002465970000001221\n",
      "2的12次方個數排序所花的時間平均為0.004883426000000384\n",
      "2的13次方個數排序所花的時間平均為0.01004028800000043\n",
      "2的14次方個數排序所花的時間平均為0.022887886000000038\n",
      "2的15次方個數排序所花的時間平均為0.04439750799999984\n",
      "2的16次方個數排序所花的時間平均為0.08559505099999967\n",
      "2的17次方個數排序所花的時間平均為0.17697202600000053\n",
      "2的18次方個數排序所花的時間估計為0.34118873498583224\n",
      "2的19次方個數排序所花的時間估計為0.7317969350014168\n",
      "2的20次方個數排序所花的時間估計為1.4157762080000043\n",
      "2的21次方個數排序所花的時間估計為2.8315524160000085\n",
      "2的22次方個數排序所花的時間估計為5.663104832000017\n",
      "2的23次方個數排序所花的時間估計為11.326209664000034\n",
      "2的24次方個數排序所花的時間估計為22.652419328000068\n",
      "2的25次方個數排序所花的時間估計為45.304838656000136\n",
      "2的26次方個數排序所花的時間估計為90.60967731200027\n",
      "2的27次方個數排序所花的時間估計為181.21935462400054\n",
      "2的28次方個數排序所花的時間估計為362.4387092480011\n",
      "2的29次方個數排序所花的時間估計為724.8774184960022\n",
      "2的30次方個數排序所花的時間估計為1449.7548369920044\n"
     ]
    }
   ],
   "source": [
    "t = len(L)\n",
    "for i in range(0,21):\n",
    "    if(i<t):\n",
    "        print(f\"2的{i+10}次方個數排序所花的時間平均為{L[i]}\")\n",
    "    else:\n",
    "        print(f\"2的{i+10}次方個數排序所花的時間估計為{L[i-2]/L[i-3]*L[i-1]}\")\n",
    "        L.append(2*L[i-1])"
   ]
  },
  {
   "cell_type": "code",
   "execution_count": 8,
   "metadata": {},
   "outputs": [],
   "source": [
    "##參考資料\n",
    "##https://www.w3resource.com/python-exercises/data-structures-and-algorithms/python-search-and-sorting-exercise-10.php"
   ]
  },
  {
   "cell_type": "code",
   "execution_count": null,
   "metadata": {},
   "outputs": [],
   "source": []
  }
 ],
 "metadata": {
  "kernelspec": {
   "display_name": "Python 3",
   "language": "python",
   "name": "python3"
  },
  "language_info": {
   "codemirror_mode": {
    "name": "ipython",
    "version": 3
   },
   "file_extension": ".py",
   "mimetype": "text/x-python",
   "name": "python",
   "nbconvert_exporter": "python",
   "pygments_lexer": "ipython3",
   "version": "3.7.3"
  }
 },
 "nbformat": 4,
 "nbformat_minor": 2
}
