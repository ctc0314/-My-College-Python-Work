{
 "cells": [
  {
   "cell_type": "code",
   "execution_count": 6,
   "metadata": {},
   "outputs": [],
   "source": [
    "%matplotlib inline\n",
    "\n",
    "import numpy as np\n",
    "import matplotlib.pyplot as plt\n",
    "import time\n",
    "import random\n",
    "import math"
   ]
  },
  {
   "cell_type": "markdown",
   "metadata": {},
   "source": [
    "## Shell Sort"
   ]
  },
  {
   "cell_type": "code",
   "execution_count": 19,
   "metadata": {},
   "outputs": [],
   "source": [
    "def shellSort(array, n):\n",
    "\n",
    "    # Rearrange elements at each n/2, n/4, n/8, ... intervals\n",
    "    gap = n // 2\n",
    "    while gap > 0:\n",
    "        for i in range(gap, n):\n",
    "            temp = array[i]\n",
    "            j = i\n",
    "            while j >= gap and array[j - gap] > temp:\n",
    "                array[j] = array[j - gap]\n",
    "                j -= gap\n",
    "\n",
    "            array[j] = temp\n",
    "        gap //= 2\n"
   ]
  },
  {
   "cell_type": "markdown",
   "metadata": {},
   "source": [
    "## Uniformly Randomly:"
   ]
  },
  {
   "cell_type": "code",
   "execution_count": 21,
   "metadata": {},
   "outputs": [
    {
     "name": "stderr",
     "output_type": "stream",
     "text": [
      "C:\\Anaconda3\\lib\\site-packages\\ipykernel_launcher.py:9: DeprecationWarning: time.clock has been deprecated in Python 3.3 and will be removed from Python 3.8: use time.perf_counter or time.process_time instead\n",
      "  if __name__ == '__main__':\n",
      "C:\\Anaconda3\\lib\\site-packages\\ipykernel_launcher.py:12: DeprecationWarning: time.clock has been deprecated in Python 3.3 and will be removed from Python 3.8: use time.perf_counter or time.process_time instead\n",
      "  if sys.path[0] == '':\n"
     ]
    },
    {
     "name": "stdout",
     "output_type": "stream",
     "text": [
      "[0.003948359999958484, 0.010259129999940341, 0.03023308000010729, 0.07163808000004793, 0.1946875399997225, 0.5862068399996133, 1.607408000000214, 4.250266120000015]\n"
     ]
    },
    {
     "data": {
      "text/plain": [
       "Text(0, 0.5, '時間')"
      ]
     },
     "execution_count": 21,
     "metadata": {},
     "output_type": "execute_result"
    },
    {
     "data": {
      "image/png": "[encoded data removed]",
      "text/plain": [
       "<Figure size 432x288 with 1 Axes>"
      ]
     },
     "metadata": {
      "needs_background": "light"
     },
     "output_type": "display_data"
    }
   ],
   "source": [
    "t = 18\n",
    "L = list()\n",
    "\n",
    "for k in range(10,t):\n",
    "    M = list()\n",
    "    \n",
    "    for i in range(10):\n",
    "        arr = list(np.random.randint(1,1001,size=2**k))\n",
    "        starttime = time.clock()\n",
    "        n = len(arr)\n",
    "        shellSort(arr, n)\n",
    "        endtime = time.clock()\n",
    "        M.append(endtime - starttime)\n",
    "    L.append(np.mean(M))\n",
    "print(L)\n",
    "plt.plot(range(1,t-9),L)\n",
    "plt.xlabel(\"次數\",fontproperties='SimSun')\n",
    "plt.ylabel(\"時間\",fontproperties='SimSun')\n"
   ]
  },
  {
   "cell_type": "markdown",
   "metadata": {},
   "source": [
    "### 估計時間\n",
    "根據圖估計，執行時間隨數字越大呈倍數上升"
   ]
  },
  {
   "cell_type": "code",
   "execution_count": 22,
   "metadata": {},
   "outputs": [
    {
     "name": "stdout",
     "output_type": "stream",
     "text": [
      "2的10次方個數排序所花的時間平均為0.003948359999958484\n",
      "2的11次方個數排序所花的時間平均為0.010259129999940341\n",
      "2的12次方個數排序所花的時間平均為0.03023308000010729\n",
      "2的13次方個數排序所花的時間平均為0.07163808000004793\n",
      "2的14次方個數排序所花的時間平均為0.1946875399997225\n",
      "2的15次方個數排序所花的時間平均為0.5862068399996133\n",
      "2的16次方個數排序所花的時間平均為1.607408000000214\n",
      "2的17次方個數排序所花的時間平均為4.250266120000015\n",
      "2的18次方個數排序所花的時間估計為11.654438838384076\n",
      "2的19次方個數排序所花的時間估計為22.476884637649654\n",
      "2的20次方個數排序所花的時間估計為34.00212896000012\n",
      "2的21次方個數排序所花的時間估計為68.00425792000024\n",
      "2的22次方個數排序所花的時間估計為136.00851584000048\n",
      "2的23次方個數排序所花的時間估計為272.01703168000097\n",
      "2的24次方個數排序所花的時間估計為544.0340633600019\n",
      "2的25次方個數排序所花的時間估計為1088.0681267200039\n",
      "2的26次方個數排序所花的時間估計為2176.1362534400077\n",
      "2的27次方個數排序所花的時間估計為4352.2725068800155\n",
      "2的28次方個數排序所花的時間估計為8704.545013760031\n",
      "2的29次方個數排序所花的時間估計為17409.090027520062\n",
      "2的30次方個數排序所花的時間估計為34818.180055040124\n"
     ]
    }
   ],
   "source": [
    "t = len(L)\n",
    "for i in range(0,21):\n",
    "    if(i<t):\n",
    "        print(f\"2的{i+10}次方個數排序所花的時間平均為{L[i]}\")\n",
    "    else:\n",
    "        print(f\"2的{i+10}次方個數排序所花的時間估計為{L[i-2]/L[i-3]*L[i-1]}\")\n",
    "        L.append(2*L[i-1])"
   ]
  },
  {
   "cell_type": "markdown",
   "metadata": {},
   "source": [
    "## Almost Sorted:"
   ]
  },
  {
   "cell_type": "code",
   "execution_count": 23,
   "metadata": {},
   "outputs": [
    {
     "name": "stderr",
     "output_type": "stream",
     "text": [
      "C:\\Anaconda3\\lib\\site-packages\\ipykernel_launcher.py:10: DeprecationWarning: time.clock has been deprecated in Python 3.3 and will be removed from Python 3.8: use time.perf_counter or time.process_time instead\n",
      "  # Remove the CWD from sys.path while we load stuff.\n",
      "C:\\Anaconda3\\lib\\site-packages\\ipykernel_launcher.py:13: DeprecationWarning: time.clock has been deprecated in Python 3.3 and will be removed from Python 3.8: use time.perf_counter or time.process_time instead\n",
      "  del sys.path[0]\n"
     ]
    },
    {
     "name": "stdout",
     "output_type": "stream",
     "text": [
      "[0.00157945999997537, 0.0029647270000350543, 0.006430679000059172, 0.014067462999955751, 0.03215653700011899, 0.08076298499998302, 0.16881113000008555, 0.33634536699983075]\n"
     ]
    },
    {
     "data": {
      "text/plain": [
       "Text(0, 0.5, '時間')"
      ]
     },
     "execution_count": 23,
     "metadata": {},
     "output_type": "execute_result"
    },
    {
     "data": {
      "image/png": "[encoded data removed]",
      "text/plain": [
       "<Figure size 432x288 with 1 Axes>"
      ]
     },
     "metadata": {
      "needs_background": "light"
     },
     "output_type": "display_data"
    }
   ],
   "source": [
    "t = 18\n",
    "L = list()\n",
    "\n",
    "for k in range(10,t):\n",
    "    M = list()\n",
    "    arr = list(np.arange(1,2**k+1))\n",
    "    r = random.sample(arr,100)\n",
    "    for i in range(len(r)):\n",
    "        arr[arr.index(r[i])] = random.randint(1,1001) \n",
    "        starttime = time.clock()\n",
    "        n = len(arr)\n",
    "        shellSort(arr, n)\n",
    "        endtime = time.clock()\n",
    "        M.append(endtime - starttime)\n",
    "    L.append(np.mean(M))\n",
    "print(L)\n",
    "plt.plot(range(1,t-9),L)\n",
    "plt.xlabel(\"次數\",fontproperties='SimSun')\n",
    "plt.ylabel(\"時間\",fontproperties='SimSun')"
   ]
  },
  {
   "cell_type": "markdown",
   "metadata": {},
   "source": [
    "### 估計時間\n",
    "根據圖估計，執行時間隨數字越大呈倍數上升"
   ]
  },
  {
   "cell_type": "code",
   "execution_count": 24,
   "metadata": {},
   "outputs": [
    {
     "name": "stdout",
     "output_type": "stream",
     "text": [
      "2的10次方個數排序所花的時間平均為0.00157945999997537\n",
      "2的11次方個數排序所花的時間平均為0.0029647270000350543\n",
      "2的12次方個數排序所花的時間平均為0.006430679000059172\n",
      "2的13次方個數排序所花的時間平均為0.014067462999955751\n",
      "2的14次方個數排序所花的時間平均為0.03215653700011899\n",
      "2的15次方個數排序所花的時間平均為0.08076298499998302\n",
      "2的16次方個數排序所花的時間平均為0.16881113000008555\n",
      "2的17次方個數排序所花的時間平均為0.33634536699983075\n",
      "2的18次方個數排序所花的時間估計為0.7030304968736215\n",
      "2的19次方個數排序所花的時間估計為1.340293212920185\n",
      "2的20次方個數排序所花的時間估計為2.690762935998646\n",
      "2的21次方個數排序所花的時間估計為5.381525871997292\n",
      "2的22次方個數排序所花的時間估計為10.763051743994584\n",
      "2的23次方個數排序所花的時間估計為21.526103487989168\n",
      "2的24次方個數排序所花的時間估計為43.052206975978336\n",
      "2的25次方個數排序所花的時間估計為86.10441395195667\n",
      "2的26次方個數排序所花的時間估計為172.20882790391335\n",
      "2的27次方個數排序所花的時間估計為344.4176558078267\n",
      "2的28次方個數排序所花的時間估計為688.8353116156534\n",
      "2的29次方個數排序所花的時間估計為1377.6706232313068\n",
      "2的30次方個數排序所花的時間估計為2755.3412464626135\n"
     ]
    }
   ],
   "source": [
    "t = len(L)\n",
    "for i in range(0,21):\n",
    "    if(i<t):\n",
    "        print(f\"2的{i+10}次方個數排序所花的時間平均為{L[i]}\")\n",
    "    else:\n",
    "        print(f\"2的{i+10}次方個數排序所花的時間估計為{L[i-2]/L[i-3]*L[i-1]}\")\n",
    "        L.append(2*L[i-1])"
   ]
  },
  {
   "cell_type": "code",
   "execution_count": 25,
   "metadata": {},
   "outputs": [],
   "source": [
    "##參考資料\n",
    "##https://www.itread01.com/content/1545908120.html\n",
    "##https://kopu.chat/2017/06/20/%E5%B8%8C%E7%88%BE%E6%8E%92%E5%BA%8F-shell-sort/\n",
    "##https://www.programiz.com/dsa/shell-sort"
   ]
  },
  {
   "cell_type": "code",
   "execution_count": null,
   "metadata": {},
   "outputs": [],
   "source": []
  },
  {
   "cell_type": "code",
   "execution_count": null,
   "metadata": {},
   "outputs": [],
   "source": []
  }
 ],
 "metadata": {
  "kernelspec": {
   "display_name": "Python 3",
   "language": "python",
   "name": "python3"
  },
  "language_info": {
   "codemirror_mode": {
    "name": "ipython",
    "version": 3
   },
   "file_extension": ".py",
   "mimetype": "text/x-python",
   "name": "python",
   "nbconvert_exporter": "python",
   "pygments_lexer": "ipython3",
   "version": "3.7.3"
  }
 },
 "nbformat": 4,
 "nbformat_minor": 2
}
