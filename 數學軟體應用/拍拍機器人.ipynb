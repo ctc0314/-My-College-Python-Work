{
 "cells": [
  {
   "cell_type": "code",
   "execution_count": 1,
   "metadata": {},
   "outputs": [],
   "source": [
    "%matplotlib inline\n",
    "import numpy as np\n",
    "import matplotlib.pyplot as plt\n",
    "import pandas as pd"
   ]
  },
  {
   "cell_type": "code",
   "execution_count": 2,
   "metadata": {},
   "outputs": [
    {
     "name": "stdout",
     "output_type": "stream",
     "text": [
      "請讓我幫你拍拍\n",
      "貼心小提醒：輸入bye得以喘息\n",
      "拍拍\n",
      ">> 作業好多寫不完喔\n",
      "拍拍\n",
      ">> 掰\n",
      "就跟你說要輸入bye\n",
      ">> BYE\n",
      "就跟你說要輸入bye\n",
      ">> bye\n",
      "BYE\n"
     ]
    }
   ],
   "source": [
    "msg =\"歡迎光臨 飲料第二件七折喔\"\n",
    "print(\"請讓我幫你拍拍\")\n",
    "print(\"貼心小提醒：輸入bye得以喘息\")\n",
    "print(\"拍拍\")\n",
    "while (msg !=\"bye\"):\n",
    "    msg = input(\">> \")\n",
    "    if msg==(\"掰\"):\n",
    "        print(\"就跟你說要輸入bye\")\n",
    "    elif msg==(\"BYE\"):\n",
    "        print(\"就跟你說要輸入bye\")\n",
    "    elif msg!=(\"bye\"):\n",
    "        print(\"拍拍\")\n",
    "    else:\n",
    "        print(\"BYE\")"
   ]
  },
  {
   "cell_type": "code",
   "execution_count": null,
   "metadata": {},
   "outputs": [],
   "source": []
  }
 ],
 "metadata": {
  "kernelspec": {
   "display_name": "Python 3",
   "language": "python",
   "name": "python3"
  },
  "language_info": {
   "codemirror_mode": {
    "name": "ipython",
    "version": 3
   },
   "file_extension": ".py",
   "mimetype": "text/x-python",
   "name": "python",
   "nbconvert_exporter": "python",
   "pygments_lexer": "ipython3",
   "version": "3.7.3"
  }
 },
 "nbformat": 4,
 "nbformat_minor": 2
}
