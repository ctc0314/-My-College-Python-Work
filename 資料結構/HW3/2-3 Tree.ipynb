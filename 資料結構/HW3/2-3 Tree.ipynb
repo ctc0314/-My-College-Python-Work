{
 "cells": [
  {
   "cell_type": "code",
   "execution_count": 3,
   "metadata": {},
   "outputs": [],
   "source": [
    "%matplotlib inline\n",
    "\n",
    "import numpy as np\n",
    "import matplotlib.pyplot as plt\n",
    "import time\n",
    "import random\n",
    "import math"
   ]
  },
  {
   "cell_type": "markdown",
   "metadata": {},
   "source": [
    "#### Two Three Tree 程式碼的網址\n",
    "https://codereview.stackexchange.com/questions/188305/2-3-tree-in-python"
   ]
  },
  {
   "cell_type": "code",
   "execution_count": 4,
   "metadata": {},
   "outputs": [],
   "source": [
    "class Node:\n",
    "    def __init__(self, data, parent=None):\n",
    "        self.nodeType = 2\n",
    "        self.d1, self.d2, self.d3 = data, None, None\n",
    "        self.c1, self.c2, self.c3, self.c4 = None, None, None, None\n",
    "        self.parent = parent\n",
    "    def push(self, data):\n",
    "        if self.nodeType == 2:\n",
    "            self.nodeType = 3\n",
    "            self.d1, self.d2 = sorted([self.d1, data])\n",
    "        elif self.nodeType == 3:\n",
    "            self.nodeType = 4\n",
    "            self.d1, self.d2, self.d3 = sorted([self.d1, self.d2, data])\n",
    "    def split(self):\n",
    "        # Case O, if there is nothing to do\n",
    "        if self.nodeType < 4:\n",
    "            return\n",
    "        # Case I, splitting when there is no parent\n",
    "        if self.parent == None:\n",
    "            leftChild = Node(self.d1, self)\n",
    "            rightChild = Node(self.d3, self)\n",
    "            leftChild.c1, leftChild.c2 = self.c1, self.c2\n",
    "            rightChild.c1, rightChild.c2 = self.c3, self.c4\n",
    "            self.nodeType = 2\n",
    "            self.d1, self.d2, self.d3 = self.d2, None, None\n",
    "            self.c1, self.c2, self.c3, self.c4 = leftChild, rightChild, None, None\n",
    "        # Case II, when parent is a 2-node\n",
    "        elif self.parent.nodeType == 2:\n",
    "            # subcase a: when the current node is the left child of the parent node\n",
    "            if self == self.parent.c1:\n",
    "                midChild = Node(self.d3, self.parent)\n",
    "                midChild.c1, midChild.c2 = self.c3, self.c4\n",
    "                self.parent.push(self.d2)\n",
    "                self.parent.c1, self.parent.c2, self.parent.c3 = self.parent.c1, midChild, self.parent.c2\n",
    "                self.nodeType = 2\n",
    "                self.c1, self.c2, self.c3, self.c4 = self.c1, self.c2, None, None\n",
    "                self.d1, self.d2, self.d3 = self.d1, None, None\n",
    "            # subcase b: when the current node is the right child of the parent node\n",
    "            elif self == self.parent.c2:\n",
    "                midChild = Node(self.d1, self.parent)\n",
    "                midChild.c1, midChild.c2 = self.c1, self.c2\n",
    "                self.parent.push(self.d2)\n",
    "                self.parent.c1, self.parent.c2, self.parent.c3 = self.parent.c1, midChild, self.parent.c2\n",
    "                self.nodeType = 2\n",
    "                self.c1, self.c2, self.c3, self.c4 = self.c3, self.c4, None, None\n",
    "                self.d1, self.d2, self.d3 = self.d3, None, None\n",
    "        # Case III, when parent is a 3-node\n",
    "        elif self.parent.nodeType == 3:\n",
    "            # subcase a: when the current node is the left child of the parent node\n",
    "            if self == self.parent.c1:\n",
    "                newNode = Node(self.d3, self.parent)\n",
    "                newNode.c1, newNode.c2 = self.c3, self.c4\n",
    "                self.parent.push(self.d2)\n",
    "                self.parent.c1, self.parent.c2, self.parent.c3, self.parent.c4 = self.parent.c1, newNode, self.parent.c2, self.parent.c3\n",
    "                self.nodeType = 2\n",
    "                self.c1, self.c2, self.c3, self.c4 = self.c1, self.c2, None, None\n",
    "                self.d1, self.d2, self.d3 = self.d1, None, None\n",
    "            # subcase b: when the current node is the middle child of the parent node\n",
    "            elif self == self.parent.c2:\n",
    "                newNode = Node(self.d3, self.parent)\n",
    "                newNode.c1, newNode.c2 = self.c3, self.c4\n",
    "                self.parent.push(self.d2)\n",
    "                self.parent.c1, self.parent.c2, self.parent.c3, self.parent.c4 = self.parent.c1, self.parent.c2, newNode, self.parent.c3\n",
    "                self.nodeType = 2\n",
    "                self.c1, self.c2, self.c3, self.c4 = self.c1, self.c2, None, None\n",
    "                self.d1, self.d2, self.d3 = self.d1, None, None\n",
    "            # subcase c: when the current node is the right node of the parent node\n",
    "            elif self == self.parent.c3:\n",
    "                newNode = Node(self.d1, self.parent)\n",
    "                newNode.c1, newNode.c2 = self.c1, self.c2\n",
    "                self.parent.push(self.d2)\n",
    "                self.parent.c1, self.parent.c2, self.parent.c3, self.parent.c4 = self.parent.c1, self.parent.c2, newNode, self.parent.c3\n",
    "                self.nodeType = 2\n",
    "                self.c1, self.c2, self.c3, self.c4 = self.c3, self.c4, None, None\n",
    "                self.d1, self.d2, self.d3 = self.d3, None, None\n",
    "            # now recursively split the parent\n",
    "            self.parent.split()\n",
    "    def insert(self, data):\n",
    "        # if this node is a leaf\n",
    "        if self.c1 == None:\n",
    "            self.push(data)\n",
    "            self.split()\n",
    "        # if this node is not a leaf, and a 2-node\n",
    "        elif self.nodeType == 2:\n",
    "            if data < self.d1:\n",
    "                self.c1.insert(data)\n",
    "            else:\n",
    "                self.c2.insert(data)\n",
    "        # if this node is a 3-node\n",
    "        elif self.nodeType == 3:\n",
    "            if data < self.d1:\n",
    "                self.c1.insert(data)\n",
    "            elif data > self.d3:\n",
    "                self.c3.insert(data)\n",
    "            else:\n",
    "                self.c2.insert(data)\n",
    "    def find(self, data):\n",
    "        # if this node is a leaf\n",
    "        if self.c1 == None:\n",
    "            if data in [self.d1, self.d2, self.d3]:\n",
    "                return True\n",
    "            else:\n",
    "                return False\n",
    "        # if this node is not a leaf, and a 2-node\n",
    "        elif self.nodeType == 2:\n",
    "            if data < self.d1:\n",
    "                self.c1.find(data)\n",
    "            else:\n",
    "                self.c2.find(data)\n",
    "        # if this node is a 3-node\n",
    "        elif self.nodeType == 3:\n",
    "            if data < self.d1:\n",
    "                self.c1.find(data)\n",
    "            elif data > self.d3:\n",
    "                self.c3.find(data)\n",
    "            else:\n",
    "                self.c2.find(data)\n",
    "\n",
    "class TwoThreeTree:\n",
    "    def __init__(self):\n",
    "        self.isEmpty = True\n",
    "        self.root = None\n",
    "    def insert(self, data):\n",
    "        if self.isEmpty:\n",
    "            self.isEmpty = False\n",
    "            self.root = Node(data)\n",
    "        else:\n",
    "            self.root.insert(data)\n",
    "    def find(self, data):\n",
    "        if self.isEmpty:\n",
    "            return False\n",
    "        else:\n",
    "            self.root.find(data)"
   ]
  },
  {
   "cell_type": "code",
   "execution_count": 5,
   "metadata": {},
   "outputs": [],
   "source": [
    "T = TwoThreeTree()"
   ]
  },
  {
   "cell_type": "code",
   "execution_count": 6,
   "metadata": {},
   "outputs": [],
   "source": [
    "T.insert(3)"
   ]
  },
  {
   "cell_type": "code",
   "execution_count": 11,
   "metadata": {},
   "outputs": [],
   "source": [
    "T.find(3)"
   ]
  },
  {
   "cell_type": "code",
   "execution_count": null,
   "metadata": {},
   "outputs": [],
   "source": []
  },
  {
   "cell_type": "markdown",
   "metadata": {},
   "source": [
    "#### Two Three Tree Tree Insertion\n",
    "##### Insertion Time Complexity: O(log n)"
   ]
  },
  {
   "cell_type": "code",
   "execution_count": 13,
   "metadata": {},
   "outputs": [
    {
     "name": "stderr",
     "output_type": "stream",
     "text": [
      "C:\\Anaconda3\\lib\\site-packages\\ipykernel_launcher.py:7: DeprecationWarning: time.clock has been deprecated in Python 3.3 and will be removed from Python 3.8: use time.perf_counter or time.process_time instead\n",
      "  import sys\n",
      "C:\\Anaconda3\\lib\\site-packages\\ipykernel_launcher.py:10: DeprecationWarning: time.clock has been deprecated in Python 3.3 and will be removed from Python 3.8: use time.perf_counter or time.process_time instead\n",
      "  # Remove the CWD from sys.path while we load stuff.\n"
     ]
    }
   ],
   "source": [
    "t = 20\n",
    "T = TwoThreeTree()\n",
    "\n",
    "TInsertTime = list()\n",
    "\n",
    "for n in range (10,t):\n",
    "    starttime = time.clock()\n",
    "    for i in range(1,2**n+1):\n",
    "        T.insert((np.random.randint(1,(2**30)+1)))\n",
    "    endtime = time.clock()\n",
    "    TInsertTime.append(endtime - starttime)\n"
   ]
  },
  {
   "cell_type": "code",
   "execution_count": 14,
   "metadata": {},
   "outputs": [
    {
     "data": {
      "text/plain": [
       "[0.01134639999997944,\n",
       " 0.0224158999999986,\n",
       " 0.047468700000024455,\n",
       " 0.09095300000001316,\n",
       " 0.19669509999999946,\n",
       " 0.3201495999999793,\n",
       " 0.5880334000000289,\n",
       " 1.0420197000000258,\n",
       " 1.9492824000000155,\n",
       " 4.174208999999962]"
      ]
     },
     "execution_count": 14,
     "metadata": {},
     "output_type": "execute_result"
    }
   ],
   "source": [
    "TInsertTime"
   ]
  },
  {
   "cell_type": "markdown",
   "metadata": {},
   "source": [
    "#### 剩餘時間估計\n"
   ]
  },
  {
   "cell_type": "code",
   "execution_count": 15,
   "metadata": {},
   "outputs": [],
   "source": [
    "t = len(TInsertTime)\n",
    "for i in range(0,21):\n",
    "    if(i>=t):\n",
    "        TInsertTime.append(TInsertTime[i-2]/TInsertTime[i-3]*TInsertTime[i-1])"
   ]
  },
  {
   "cell_type": "markdown",
   "metadata": {},
   "source": [
    "#### Two Three Tree Search\n",
    "##### Search Time Complexity: O(log n)"
   ]
  },
  {
   "cell_type": "code",
   "execution_count": 17,
   "metadata": {},
   "outputs": [
    {
     "name": "stderr",
     "output_type": "stream",
     "text": [
      "C:\\Anaconda3\\lib\\site-packages\\ipykernel_launcher.py:6: DeprecationWarning: time.clock has been deprecated in Python 3.3 and will be removed from Python 3.8: use time.perf_counter or time.process_time instead\n",
      "  \n",
      "C:\\Anaconda3\\lib\\site-packages\\ipykernel_launcher.py:9: DeprecationWarning: time.clock has been deprecated in Python 3.3 and will be removed from Python 3.8: use time.perf_counter or time.process_time instead\n",
      "  if __name__ == '__main__':\n"
     ]
    }
   ],
   "source": [
    "t = 15\n",
    "\n",
    "TSearchTime = list()\n",
    "\n",
    "for n in range (10,t):\n",
    "    starttime = time.clock()\n",
    "    for i in range(1,2**n+1):\n",
    "        T.find((np.random.randint(1,(2**30)+1)))\n",
    "    endtime = time.clock()\n",
    "    TSearchTime.append(endtime - starttime)\n"
   ]
  },
  {
   "cell_type": "code",
   "execution_count": 18,
   "metadata": {},
   "outputs": [
    {
     "data": {
      "text/plain": [
       "[0.007218100000045524,\n",
       " 0.022626400000035574,\n",
       " 0.03203039999993962,\n",
       " 0.05926130000000285,\n",
       " 0.1035685999999032]"
      ]
     },
     "execution_count": 18,
     "metadata": {},
     "output_type": "execute_result"
    }
   ],
   "source": [
    "TSearchTime"
   ]
  },
  {
   "cell_type": "markdown",
   "metadata": {},
   "source": [
    "#### 剩餘時間估計\n"
   ]
  },
  {
   "cell_type": "code",
   "execution_count": 19,
   "metadata": {},
   "outputs": [],
   "source": [
    "t = len(TSearchTime)\n",
    "for i in range(0,21):\n",
    "    if(i>=t):\n",
    "        TSearchTime.append(TSearchTime[i-2]/TSearchTime[i-3]*TSearchTime[i-1])"
   ]
  },
  {
   "cell_type": "code",
   "execution_count": 20,
   "metadata": {},
   "outputs": [
    {
     "data": {
      "text/plain": [
       "Text(0, 0.5, '時間')"
      ]
     },
     "execution_count": 20,
     "metadata": {},
     "output_type": "execute_result"
    },
    {
     "data": {
      "image/png": "[encoded data removed]",
      "text/plain": [
       "<Figure size 432x288 with 1 Axes>"
      ]
     },
     "metadata": {
      "needs_background": "light"
     },
     "output_type": "display_data"
    }
   ],
   "source": [
    "plt.plot(range(10,31),TInsertTime)\n",
    "plt.plot(range(10,31),TSearchTime)\n",
    "plt.xlabel(\"次數\",fontproperties='SimSun')\n",
    "plt.ylabel(\"時間\",fontproperties='SimSun')"
   ]
  },
  {
   "cell_type": "code",
   "execution_count": null,
   "metadata": {},
   "outputs": [],
   "source": []
  },
  {
   "cell_type": "code",
   "execution_count": null,
   "metadata": {},
   "outputs": [],
   "source": []
  }
 ],
 "metadata": {
  "kernelspec": {
   "display_name": "Python 3",
   "language": "python",
   "name": "python3"
  },
  "language_info": {
   "codemirror_mode": {
    "name": "ipython",
    "version": 3
   },
   "file_extension": ".py",
   "mimetype": "text/x-python",
   "name": "python",
   "nbconvert_exporter": "python",
   "pygments_lexer": "ipython3",
   "version": "3.7.3"
  }
 },
 "nbformat": 4,
 "nbformat_minor": 2
}
