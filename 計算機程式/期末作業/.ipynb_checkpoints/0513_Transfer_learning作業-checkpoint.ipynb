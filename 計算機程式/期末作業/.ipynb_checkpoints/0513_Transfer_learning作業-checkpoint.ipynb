{
 "cells": [
  {
   "cell_type": "code",
   "execution_count": 2,
   "metadata": {},
   "outputs": [],
   "source": [
    "%matplotlib inline\n",
    "import numpy as np\n",
    "import pandas as pd\n",
    "import sympy as sp\n",
    "import matplotlib.pyplot as plt\n",
    "import tensorflow as tf\n",
    "from sklearn.model_selection import train_test_split"
   ]
  },
  {
   "cell_type": "markdown",
   "metadata": {},
   "source": [
    "## 讀入MNSIT 數據集"
   ]
  },
  {
   "cell_type": "code",
   "execution_count": 3,
   "metadata": {},
   "outputs": [],
   "source": [
    "import tensorflow as tf\n",
    "from tensorflow.keras.datasets import mnist\n",
    "(X_train, Y_train),(x_test, y_test)=mnist.load_data()"
   ]
  },
  {
   "cell_type": "markdown",
   "metadata": {},
   "source": [
    "##### 用train,test split 分割訓練資料變成兩筆，一筆用作第一次訓練，另一筆用作遷移學習\n",
    "(原來的x_test, y_test 用作第二次訓練時的驗證資料)"
   ]
  },
  {
   "cell_type": "code",
   "execution_count": 4,
   "metadata": {},
   "outputs": [],
   "source": [
    "x_train, x, y_train, y = train_test_split(X_train, Y_train, test_size = 0.3, random_state=42)"
   ]
  },
  {
   "cell_type": "markdown",
   "metadata": {},
   "source": [
    "### 數據集內容"
   ]
  },
  {
   "cell_type": "code",
   "execution_count": 5,
   "metadata": {},
   "outputs": [],
   "source": [
    "n = 37"
   ]
  },
  {
   "cell_type": "code",
   "execution_count": 6,
   "metadata": {},
   "outputs": [
    {
     "name": "stdout",
     "output_type": "stream",
     "text": [
      "正確答案 0\n"
     ]
    },
    {
     "data": {
      "image/png": "[encoded data removed]",
      "text/plain": [
       "<Figure size 432x288 with 1 Axes>"
      ]
     },
     "metadata": {
      "needs_background": "light"
     },
     "output_type": "display_data"
    }
   ],
   "source": [
    "plt.imshow(x_train[n],)\n",
    "plt.imshow(x_train[n], cmap= 'Greys')\n",
    "print('正確答案', y_train[n])"
   ]
  },
  {
   "cell_type": "markdown",
   "metadata": {},
   "source": [
    "## 資料整理"
   ]
  },
  {
   "cell_type": "code",
   "execution_count": 7,
   "metadata": {},
   "outputs": [],
   "source": [
    "x_train = x_train/255\n",
    "x_test = x_test/255\n",
    "x = x/255"
   ]
  },
  {
   "cell_type": "code",
   "execution_count": 8,
   "metadata": {},
   "outputs": [],
   "source": [
    "x_train = x_train.reshape(42000, 28, 28, 1)\n",
    "x_test = x_test.reshape(10000, 28, 28, 1)\n",
    "x = x.reshape(18000, 28, 28, 1)"
   ]
  },
  {
   "cell_type": "code",
   "execution_count": 9,
   "metadata": {},
   "outputs": [],
   "source": [
    "from tensorflow.keras.utils import to_categorical\n",
    "y_train = to_categorical(y_train, 10)\n",
    "y_test = to_categorical(y_test, 10)\n",
    "y = to_categorical(y, 10)"
   ]
  },
  {
   "cell_type": "code",
   "execution_count": 10,
   "metadata": {},
   "outputs": [],
   "source": [
    "# Layers for FNN\n",
    "from tensorflow.keras.models import Sequential\n",
    "from tensorflow.keras.layers import Dense\n",
    "from tensorflow.keras.layers import Flatten\n",
    "\n",
    "# Layers for CNN\n",
    "from tensorflow.keras.layers import Conv2D, MaxPooling2D, GlobalAveragePooling2D\n",
    "\n",
    "from tensorflow.keras.optimizers import SGD, Adam"
   ]
  },
  {
   "cell_type": "code",
   "execution_count": 12,
   "metadata": {},
   "outputs": [],
   "source": [
    "CNN_layers = [Conv2D(16,(3,3), padding='same', input_shape=(28,28,1), activation='relu'),\n",
    "             MaxPooling2D(pool_size=(2,2)),\n",
    "             Conv2D(32,(3,3), padding='same', activation='relu'),\n",
    "             MaxPooling2D(pool_size=(2,2)),\n",
    "             Conv2D(64, (3,3), padding='same', activation='relu'),\n",
    "             MaxPooling2D(pool_size=(2,2)),\n",
    "             Conv2D(128, (3,3), padding='same', activation='relu'), ##新增一層Conv2D,Maxpooling2D\n",
    "             MaxPooling2D(pool_size=(2,2)),\n",
    "             Flatten()]"
   ]
  },
  {
   "cell_type": "code",
   "execution_count": 13,
   "metadata": {},
   "outputs": [],
   "source": [
    "FC_layers = [Dense(54,activation='relu'),\n",
    "            Dense(10,activation='softmax')]"
   ]
  },
  {
   "cell_type": "code",
   "execution_count": 14,
   "metadata": {},
   "outputs": [
    {
     "name": "stdout",
     "output_type": "stream",
     "text": [
      "Model: \"sequential\"\n",
      "_________________________________________________________________\n",
      "Layer (type)                 Output Shape              Param #   \n",
      "=================================================================\n",
      "conv2d_3 (Conv2D)            (None, 28, 28, 16)        160       \n",
      "_________________________________________________________________\n",
      "max_pooling2d_3 (MaxPooling2 (None, 14, 14, 16)        0         \n",
      "_________________________________________________________________\n",
      "conv2d_4 (Conv2D)            (None, 14, 14, 32)        4640      \n",
      "_________________________________________________________________\n",
      "max_pooling2d_4 (MaxPooling2 (None, 7, 7, 32)          0         \n",
      "_________________________________________________________________\n",
      "conv2d_5 (Conv2D)            (None, 7, 7, 64)          18496     \n",
      "_________________________________________________________________\n",
      "max_pooling2d_5 (MaxPooling2 (None, 3, 3, 64)          0         \n",
      "_________________________________________________________________\n",
      "conv2d_6 (Conv2D)            (None, 3, 3, 128)         73856     \n",
      "_________________________________________________________________\n",
      "max_pooling2d_6 (MaxPooling2 (None, 1, 1, 128)         0         \n",
      "_________________________________________________________________\n",
      "flatten_1 (Flatten)          (None, 128)               0         \n",
      "_________________________________________________________________\n",
      "dense (Dense)                (None, 54)                6966      \n",
      "_________________________________________________________________\n",
      "dense_1 (Dense)              (None, 10)                550       \n",
      "=================================================================\n",
      "Total params: 104,668\n",
      "Trainable params: 104,668\n",
      "Non-trainable params: 0\n",
      "_________________________________________________________________\n"
     ]
    }
   ],
   "source": [
    "model = Sequential(CNN_layers+FC_layers)\n",
    "model.summary()"
   ]
  },
  {
   "cell_type": "code",
   "execution_count": 15,
   "metadata": {},
   "outputs": [],
   "source": [
    "model.compile(loss=\"binary_crossentropy\", optimizer=SGD(lr=0.087),metrics=[\"accuracy\"])"
   ]
  },
  {
   "cell_type": "code",
   "execution_count": 17,
   "metadata": {},
   "outputs": [
    {
     "name": "stdout",
     "output_type": "stream",
     "text": [
      "Train on 42000 samples\n",
      "Epoch 1/8\n",
      "42000/42000 [==============================] - 35s 830us/sample - loss: 0.0325 - accuracy: 0.9887\n",
      "Epoch 2/8\n",
      "42000/42000 [==============================] - 37s 881us/sample - loss: 0.0263 - accuracy: 0.9909\n",
      "Epoch 3/8\n",
      "42000/42000 [==============================] - 38s 914us/sample - loss: 0.0218 - accuracy: 0.9925\n",
      "Epoch 4/8\n",
      "42000/42000 [==============================] - 33s 796us/sample - loss: 0.0193 - accuracy: 0.9934\n",
      "Epoch 5/8\n",
      "42000/42000 [==============================] - 29s 682us/sample - loss: 0.0185 - accuracy: 0.9937\n",
      "Epoch 6/8\n",
      "42000/42000 [==============================] - 31s 742us/sample - loss: 0.0156 - accuracy: 0.9947\n",
      "Epoch 7/8\n",
      "42000/42000 [==============================] - 34s 801us/sample - loss: 0.0144 - accuracy: 0.9951\n",
      "Epoch 8/8\n",
      "42000/42000 [==============================] - 40s 953us/sample - loss: 0.0135 - accuracy: 0.9953\n"
     ]
    },
    {
     "data": {
      "text/plain": [
       "<tensorflow.python.keras.callbacks.History at 0x16e7c1f8908>"
      ]
     },
     "execution_count": 17,
     "metadata": {},
     "output_type": "execute_result"
    }
   ],
   "source": [
    "model.fit(x_train, y_train, batch_size=128, epochs=8)"
   ]
  },
  {
   "cell_type": "code",
   "execution_count": 18,
   "metadata": {},
   "outputs": [
    {
     "name": "stdout",
     "output_type": "stream",
     "text": [
      "42000/42000 [==============================] - 11s 254us/sample - loss: 0.0111 - accuracy: 0.9963\n"
     ]
    },
    {
     "data": {
      "text/plain": [
       "[0.011148587329490554, 0.99625224]"
      ]
     },
     "execution_count": 18,
     "metadata": {},
     "output_type": "execute_result"
    }
   ],
   "source": [
    "model.evaluate(x_train, y_train, batch_size=1024)"
   ]
  },
  {
   "cell_type": "code",
   "execution_count": 19,
   "metadata": {},
   "outputs": [],
   "source": [
    "model.save('0513_transfer_learning.h5')"
   ]
  },
  {
   "cell_type": "code",
   "execution_count": 20,
   "metadata": {},
   "outputs": [],
   "source": [
    "for layer in CNN_layers:\n",
    "    layer.trainable = False"
   ]
  },
  {
   "cell_type": "code",
   "execution_count": 21,
   "metadata": {},
   "outputs": [],
   "source": [
    "FC_layers2 = [Dense(54,activation='sigmoid'),  ##定義新的 FC_layers \n",
    "              Dense(37,activation='relu'),\n",
    "              Dense(10,activation='softmax')]"
   ]
  },
  {
   "cell_type": "code",
   "execution_count": 22,
   "metadata": {},
   "outputs": [
    {
     "name": "stdout",
     "output_type": "stream",
     "text": [
      "Model: \"sequential_1\"\n",
      "_________________________________________________________________\n",
      "Layer (type)                 Output Shape              Param #   \n",
      "=================================================================\n",
      "conv2d_3 (Conv2D)            (None, 28, 28, 16)        160       \n",
      "_________________________________________________________________\n",
      "max_pooling2d_3 (MaxPooling2 (None, 14, 14, 16)        0         \n",
      "_________________________________________________________________\n",
      "conv2d_4 (Conv2D)            (None, 14, 14, 32)        4640      \n",
      "_________________________________________________________________\n",
      "max_pooling2d_4 (MaxPooling2 (None, 7, 7, 32)          0         \n",
      "_________________________________________________________________\n",
      "conv2d_5 (Conv2D)            (None, 7, 7, 64)          18496     \n",
      "_________________________________________________________________\n",
      "max_pooling2d_5 (MaxPooling2 (None, 3, 3, 64)          0         \n",
      "_________________________________________________________________\n",
      "conv2d_6 (Conv2D)            (None, 3, 3, 128)         73856     \n",
      "_________________________________________________________________\n",
      "max_pooling2d_6 (MaxPooling2 (None, 1, 1, 128)         0         \n",
      "_________________________________________________________________\n",
      "flatten_1 (Flatten)          (None, 128)               0         \n",
      "_________________________________________________________________\n",
      "dense_2 (Dense)              (None, 54)                6966      \n",
      "_________________________________________________________________\n",
      "dense_3 (Dense)              (None, 37)                2035      \n",
      "_________________________________________________________________\n",
      "dense_4 (Dense)              (None, 10)                380       \n",
      "=================================================================\n",
      "Total params: 106,533\n",
      "Trainable params: 9,381\n",
      "Non-trainable params: 97,152\n",
      "_________________________________________________________________\n"
     ]
    }
   ],
   "source": [
    "model2 = Sequential(CNN_layers+FC_layers2) ##用舊的 CNN_layer 加上新的 FC_layers\n",
    "model2.summary()"
   ]
  },
  {
   "cell_type": "code",
   "execution_count": 26,
   "metadata": {},
   "outputs": [],
   "source": [
    "model2.compile(loss='binary_crossentropy', optimizer='adam', metrics=['accuracy'])"
   ]
  },
  {
   "cell_type": "code",
   "execution_count": 28,
   "metadata": {},
   "outputs": [
    {
     "name": "stdout",
     "output_type": "stream",
     "text": [
      "Train on 18000 samples, validate on 10000 samples\n",
      "Epoch 1/10\n",
      "18000/18000 [==============================] - 11s 609us/sample - loss: 0.1817 - accuracy: 0.9354 - val_loss: 0.0599 - val_accuracy: 0.9885\n",
      "Epoch 2/10\n",
      "18000/18000 [==============================] - 9s 519us/sample - loss: 0.0364 - accuracy: 0.9915 - val_loss: 0.0229 - val_accuracy: 0.9939\n",
      "Epoch 3/10\n",
      "18000/18000 [==============================] - 9s 490us/sample - loss: 0.0213 - accuracy: 0.9937 - val_loss: 0.0169 - val_accuracy: 0.9949\n",
      "Epoch 4/10\n",
      "18000/18000 [==============================] - 9s 515us/sample - loss: 0.0176 - accuracy: 0.9945 - val_loss: 0.0152 - val_accuracy: 0.9952\n",
      "Epoch 5/10\n",
      "18000/18000 [==============================] - 9s 478us/sample - loss: 0.0160 - accuracy: 0.9948 - val_loss: 0.0150 - val_accuracy: 0.9953\n",
      "Epoch 6/10\n",
      "18000/18000 [==============================] - 9s 494us/sample - loss: 0.0149 - accuracy: 0.9950 - val_loss: 0.0134 - val_accuracy: 0.9956\n",
      "Epoch 7/10\n",
      "18000/18000 [==============================] - 8s 465us/sample - loss: 0.0139 - accuracy: 0.9955 - val_loss: 0.0135 - val_accuracy: 0.9952\n",
      "Epoch 8/10\n",
      "18000/18000 [==============================] - 8s 457us/sample - loss: 0.0133 - accuracy: 0.9957 - val_loss: 0.0137 - val_accuracy: 0.9954\n",
      "Epoch 9/10\n",
      "18000/18000 [==============================] - 9s 506us/sample - loss: 0.0127 - accuracy: 0.9957 - val_loss: 0.0126 - val_accuracy: 0.9954\n",
      "Epoch 10/10\n",
      "18000/18000 [==============================] - 9s 497us/sample - loss: 0.0124 - accuracy: 0.9959 - val_loss: 0.0127 - val_accuracy: 0.9953\n"
     ]
    },
    {
     "data": {
      "text/plain": [
       "<tensorflow.python.keras.callbacks.History at 0x16e7d8b6518>"
      ]
     },
     "execution_count": 28,
     "metadata": {},
     "output_type": "execute_result"
    }
   ],
   "source": [
    "model2.fit(x, y, batch_size=150, epochs=10, validation_data=(x_test, y_test))"
   ]
  },
  {
   "cell_type": "code",
   "execution_count": 29,
   "metadata": {},
   "outputs": [],
   "source": [
    "model2.save('0513_transfer_learning2.h5')"
   ]
  },
  {
   "cell_type": "code",
   "execution_count": null,
   "metadata": {},
   "outputs": [],
   "source": []
  },
  {
   "cell_type": "code",
   "execution_count": null,
   "metadata": {},
   "outputs": [],
   "source": []
  },
  {
   "cell_type": "code",
   "execution_count": null,
   "metadata": {},
   "outputs": [],
   "source": []
  },
  {
   "cell_type": "code",
   "execution_count": null,
   "metadata": {},
   "outputs": [],
   "source": []
  },
  {
   "cell_type": "code",
   "execution_count": null,
   "metadata": {},
   "outputs": [],
   "source": []
  }
 ],
 "metadata": {
  "kernelspec": {
   "display_name": "Python 3",
   "language": "python",
   "name": "python3"
  },
  "language_info": {
   "codemirror_mode": {
    "name": "ipython",
    "version": 3
   },
   "file_extension": ".py",
   "mimetype": "text/x-python",
   "name": "python",
   "nbconvert_exporter": "python",
   "pygments_lexer": "ipython3",
   "version": "3.7.3"
  }
 },
 "nbformat": 4,
 "nbformat_minor": 2
}
