{
 "cells": [
  {
   "cell_type": "code",
   "execution_count": 1,
   "metadata": {},
   "outputs": [],
   "source": [
    "%matplotlib inline\n",
    "\n",
    "import numpy as np\n",
    "import matplotlib.pyplot as plt\n",
    "import time\n",
    "import random\n",
    "import math"
   ]
  },
  {
   "cell_type": "markdown",
   "metadata": {},
   "source": [
    "#### Skip List 程式碼來源\n",
    "https://gist.github.com/sachinnair90/3bee2ef7dd3ff0dc5aec44ec40e2d127"
   ]
  },
  {
   "cell_type": "code",
   "execution_count": 29,
   "metadata": {},
   "outputs": [],
   "source": [
    "from random import randint, seed\n",
    "\n",
    "class Node:  \n",
    "    def __init__(self, height = 0, elem = None):\n",
    "        self.elem = elem\n",
    "        self.next = [None]*height\n",
    "\n",
    "class SkipList:\n",
    "\n",
    "    def __init__(self):\n",
    "        self.head = Node()\n",
    "        self.len = 0\n",
    "        self.maxHeight = 0\n",
    "\n",
    "    def __len__(self):\n",
    "        return self.len\n",
    "\n",
    "    def find(self, elem, update = None):\n",
    "        if update == None:\n",
    "            update = self.updateList(elem)\n",
    "        if len(update) > 0:\n",
    "            item = update[0].next[0]\n",
    "            if item != None and item.elem == elem:\n",
    "                return item\n",
    "        return None\n",
    "    \n",
    "    def contains(self, elem, update = None):\n",
    "        return self.find(elem, update) != None\n",
    "\n",
    "    def randomHeight(self):\n",
    "        height = 1\n",
    "        while randint(1, 2) != 1:\n",
    "            height += 1\n",
    "        return height\n",
    "\n",
    "    def updateList(self, elem):\n",
    "        update = [None]*self.maxHeight\n",
    "        x = self.head\n",
    "        for i in reversed(range(self.maxHeight)):\n",
    "            while x.next[i] != None and x.next[i].elem < elem:\n",
    "                x = x.next[i]\n",
    "            update[i] = x\n",
    "        return update\n",
    "        \n",
    "    def insert(self, elem):\n",
    "\n",
    "        _node = Node(self.randomHeight(), elem)\n",
    "\n",
    "        self.maxHeight = max(self.maxHeight, len(_node.next))\n",
    "        while len(self.head.next) < len(_node.next):\n",
    "            self.head.next.append(None)\n",
    "\n",
    "        update = self.updateList(elem)            \n",
    "        if self.find(elem, update) == None:\n",
    "            for i in range(len(_node.next)):\n",
    "                _node.next[i] = update[i].next[i]\n",
    "                update[i].next[i] = _node\n",
    "            self.len += 1\n",
    "\n",
    "    def remove(self, elem):\n",
    "\n",
    "        update = self.updateList(elem)\n",
    "        x = self.find(elem, update)\n",
    "        if x != None:\n",
    "            for i in reversed(range(len(x.next))):\n",
    "                update[i].next[i] = x.next[i]\n",
    "                if self.head.next[i] == None:\n",
    "                    self.maxHeight -= 1\n",
    "            self.len -= 1            \n",
    "                \n",
    "    def printList(self):\n",
    "        for i in range(len(self.head.next)-1, -1, -1):\n",
    "            x = self.head\n",
    "            while x.next[i] != None:\n",
    "                print(x.next[i].elem,)\n",
    "                x = x.next[i]\n",
    "            print('')"
   ]
  },
  {
   "cell_type": "code",
   "execution_count": 30,
   "metadata": {},
   "outputs": [],
   "source": [
    "S = SkipList()"
   ]
  },
  {
   "cell_type": "code",
   "execution_count": 31,
   "metadata": {},
   "outputs": [],
   "source": [
    "S.insert(3)"
   ]
  },
  {
   "cell_type": "code",
   "execution_count": 32,
   "metadata": {},
   "outputs": [
    {
     "data": {
      "text/plain": [
       "<__main__.Node at 0x2b1d9f2b0b8>"
      ]
     },
     "execution_count": 32,
     "metadata": {},
     "output_type": "execute_result"
    }
   ],
   "source": [
    "S.find(3)"
   ]
  },
  {
   "cell_type": "code",
   "execution_count": 33,
   "metadata": {},
   "outputs": [],
   "source": [
    "S.find(2)"
   ]
  },
  {
   "cell_type": "markdown",
   "metadata": {},
   "source": [
    "#### Skip List Insertion"
   ]
  },
  {
   "cell_type": "code",
   "execution_count": 34,
   "metadata": {},
   "outputs": [
    {
     "name": "stderr",
     "output_type": "stream",
     "text": [
      "C:\\Anaconda3\\lib\\site-packages\\ipykernel_launcher.py:7: DeprecationWarning: time.clock has been deprecated in Python 3.3 and will be removed from Python 3.8: use time.perf_counter or time.process_time instead\n",
      "  import sys\n",
      "C:\\Anaconda3\\lib\\site-packages\\ipykernel_launcher.py:10: DeprecationWarning: time.clock has been deprecated in Python 3.3 and will be removed from Python 3.8: use time.perf_counter or time.process_time instead\n",
      "  # Remove the CWD from sys.path while we load stuff.\n"
     ]
    }
   ],
   "source": [
    "t = 20\n",
    "S = SkipList()\n",
    "\n",
    "SInsertTime = list()\n",
    "\n",
    "for n in range (10,t):\n",
    "    starttime = time.clock()\n",
    "    for i in range(1,2**n+1):\n",
    "        S.insert(str((np.random.randint(1,(2**30)+1))))\n",
    "    endtime = time.clock()\n",
    "    SInsertTime.append(endtime - starttime)\n"
   ]
  },
  {
   "cell_type": "code",
   "execution_count": 35,
   "metadata": {},
   "outputs": [
    {
     "data": {
      "text/plain": [
       "[0.024108599999863145,\n",
       " 0.038552900000013324,\n",
       " 0.0714212000000316,\n",
       " 0.2175740999998652,\n",
       " 0.38191180000012537,\n",
       " 0.9146507000000383,\n",
       " 2.244650399999955,\n",
       " 5.108188199999859,\n",
       " 9.831084000000146,\n",
       " 22.70952250000005]"
      ]
     },
     "execution_count": 35,
     "metadata": {},
     "output_type": "execute_result"
    }
   ],
   "source": [
    "SInsertTime"
   ]
  },
  {
   "cell_type": "markdown",
   "metadata": {},
   "source": [
    "#### 剩餘時間估計\n"
   ]
  },
  {
   "cell_type": "code",
   "execution_count": 36,
   "metadata": {},
   "outputs": [],
   "source": [
    "t = len(SInsertTime)\n",
    "for i in range(0,21):\n",
    "    if(i>=t):\n",
    "        SInsertTime.append(SInsertTime[i-2]/SInsertTime[i-3]*SInsertTime[i-1])"
   ]
  },
  {
   "cell_type": "markdown",
   "metadata": {},
   "source": [
    "#### Skip List Search"
   ]
  },
  {
   "cell_type": "code",
   "execution_count": 37,
   "metadata": {},
   "outputs": [
    {
     "name": "stderr",
     "output_type": "stream",
     "text": [
      "C:\\Anaconda3\\lib\\site-packages\\ipykernel_launcher.py:6: DeprecationWarning: time.clock has been deprecated in Python 3.3 and will be removed from Python 3.8: use time.perf_counter or time.process_time instead\n",
      "  \n",
      "C:\\Anaconda3\\lib\\site-packages\\ipykernel_launcher.py:9: DeprecationWarning: time.clock has been deprecated in Python 3.3 and will be removed from Python 3.8: use time.perf_counter or time.process_time instead\n",
      "  if __name__ == '__main__':\n"
     ]
    }
   ],
   "source": [
    "t = 15\n",
    "\n",
    "SSearchTime = list()\n",
    "\n",
    "for n in range (10,t):\n",
    "    starttime = time.clock()\n",
    "    for i in range(1,2**n+1):\n",
    "        S.find(str((np.random.randint(1,(2**30)+1))))\n",
    "    endtime = time.clock()\n",
    "    SSearchTime.append(endtime - starttime)\n"
   ]
  },
  {
   "cell_type": "code",
   "execution_count": 38,
   "metadata": {},
   "outputs": [
    {
     "data": {
      "text/plain": [
       "[0.04062659999999596,\n",
       " 0.05218539999987115,\n",
       " 0.09011680000003253,\n",
       " 0.21234420000018872,\n",
       " 0.4066814999998769]"
      ]
     },
     "execution_count": 38,
     "metadata": {},
     "output_type": "execute_result"
    }
   ],
   "source": [
    "SSearchTime"
   ]
  },
  {
   "cell_type": "markdown",
   "metadata": {},
   "source": [
    "#### 剩餘時間估計\n"
   ]
  },
  {
   "cell_type": "code",
   "execution_count": 39,
   "metadata": {},
   "outputs": [],
   "source": [
    "t = len(SSearchTime)\n",
    "for i in range(0,21):\n",
    "    if(i>=t):\n",
    "        SSearchTime.append(SSearchTime[i-2]/SSearchTime[i-3]*SSearchTime[i-1])"
   ]
  },
  {
   "cell_type": "code",
   "execution_count": 40,
   "metadata": {},
   "outputs": [
    {
     "data": {
      "text/plain": [
       "Text(0, 0.5, '時間')"
      ]
     },
     "execution_count": 40,
     "metadata": {},
     "output_type": "execute_result"
    },
    {
     "data": {
      "image/png": "[encoded data removed]",
      "text/plain": [
       "<Figure size 432x288 with 1 Axes>"
      ]
     },
     "metadata": {
      "needs_background": "light"
     },
     "output_type": "display_data"
    }
   ],
   "source": [
    "plt.plot(range(10,31),SInsertTime)\n",
    "plt.plot(range(10,31),SSearchTime)\n",
    "plt.xlabel(\"次數\",fontproperties='SimSun')\n",
    "plt.ylabel(\"時間\",fontproperties='SimSun')"
   ]
  },
  {
   "cell_type": "code",
   "execution_count": null,
   "metadata": {},
   "outputs": [],
   "source": []
  },
  {
   "cell_type": "markdown",
   "metadata": {},
   "source": [
    "#### Hash Table程式碼來源：\n",
    "https://codereview.stackexchange.com/questions/118110/python-hash-table-implementation"
   ]
  },
  {
   "cell_type": "code",
   "execution_count": 2,
   "metadata": {},
   "outputs": [],
   "source": [
    "class HashTable(object):\n",
    "\n",
    "    table = [None] * 256\n",
    "\n",
    "    def get_value(self, key):\n",
    "        total = 0\n",
    "        for i in range(len(key)):\n",
    "            total += ord(key[i]) * (7**i)\n",
    "        return (len(key) * total) % 256\n",
    "\n",
    "    def insert(self, key):\n",
    "        val = self.get_value(key)\n",
    "        if self.table[val] == None:\n",
    "            self.table[val] = key\n",
    "        else:\n",
    "            if type(self.table[val]) == list:\n",
    "                self.table[val].append(key)\n",
    "            else:\n",
    "                self.table[val] = [self.table[val], key]\n",
    "\n",
    "    def delete(self, key):\n",
    "        val = self.get_value(key)\n",
    "        if self.table[val] != None:\n",
    "            if type(self.table[val]) == list:\n",
    "                i = self.table[val].index(key)\n",
    "                self.table[val][i] = None\n",
    "            else:\n",
    "                self.table[val] = None\n",
    "        else:\n",
    "            KeyError()\n",
    "\n",
    "    def lookup(self, key):\n",
    "        found = False\n",
    "        val = self.get_value(key)\n",
    "        if type(self.table[val]) == list:\n",
    "            found = key in self.table[val]\n",
    "        else:\n",
    "            found = self.table[val] == key\n",
    "        return found"
   ]
  },
  {
   "cell_type": "code",
   "execution_count": 3,
   "metadata": {},
   "outputs": [],
   "source": [
    "H = HashTable()"
   ]
  },
  {
   "cell_type": "code",
   "execution_count": 4,
   "metadata": {},
   "outputs": [],
   "source": [
    "H.insert(str(2)) ## 因為數字不能用len()這個函數，所以先轉換成字串"
   ]
  },
  {
   "cell_type": "code",
   "execution_count": 5,
   "metadata": {},
   "outputs": [
    {
     "data": {
      "text/plain": [
       "True"
      ]
     },
     "execution_count": 5,
     "metadata": {},
     "output_type": "execute_result"
    }
   ],
   "source": [
    "H.lookup(str(2))"
   ]
  },
  {
   "cell_type": "markdown",
   "metadata": {},
   "source": [
    "#### Hash Table Insertion"
   ]
  },
  {
   "cell_type": "code",
   "execution_count": 6,
   "metadata": {},
   "outputs": [
    {
     "name": "stderr",
     "output_type": "stream",
     "text": [
      "C:\\Anaconda3\\lib\\site-packages\\ipykernel_launcher.py:7: DeprecationWarning: time.clock has been deprecated in Python 3.3 and will be removed from Python 3.8: use time.perf_counter or time.process_time instead\n",
      "  import sys\n",
      "C:\\Anaconda3\\lib\\site-packages\\ipykernel_launcher.py:10: DeprecationWarning: time.clock has been deprecated in Python 3.3 and will be removed from Python 3.8: use time.perf_counter or time.process_time instead\n",
      "  # Remove the CWD from sys.path while we load stuff.\n"
     ]
    }
   ],
   "source": [
    "t = 20\n",
    "H = HashTable()\n",
    "\n",
    "HInsertTime = list()\n",
    "\n",
    "for n in range (10,t):\n",
    "    starttime = time.clock()\n",
    "    for i in range(1,2**n+1):\n",
    "        H.insert(str((np.random.randint(1,(2**30)+1))))\n",
    "    endtime = time.clock()\n",
    "    HInsertTime.append(endtime - starttime)\n"
   ]
  },
  {
   "cell_type": "code",
   "execution_count": 7,
   "metadata": {},
   "outputs": [
    {
     "data": {
      "text/plain": [
       "[0.013878399999999846,\n",
       " 0.031330099999999916,\n",
       " 0.06353870000000006,\n",
       " 0.11566049999999994,\n",
       " 0.2729353000000001,\n",
       " 0.5141949000000001,\n",
       " 0.7961168999999999,\n",
       " 1.5879158999999996,\n",
       " 3.181341800000001,\n",
       " 6.5058857]"
      ]
     },
     "execution_count": 7,
     "metadata": {},
     "output_type": "execute_result"
    }
   ],
   "source": [
    "HInsertTime"
   ]
  },
  {
   "cell_type": "markdown",
   "metadata": {},
   "source": [
    "#### 剩餘時間估計\n"
   ]
  },
  {
   "cell_type": "code",
   "execution_count": 8,
   "metadata": {},
   "outputs": [],
   "source": [
    "t = len(HInsertTime)\n",
    "for i in range(0,21):\n",
    "    if(i>=t):\n",
    "        HInsertTime.append(HInsertTime[i-2]/HInsertTime[i-3]*HInsertTime[i-1])"
   ]
  },
  {
   "cell_type": "code",
   "execution_count": 13,
   "metadata": {},
   "outputs": [
    {
     "data": {
      "text/plain": [
       "[0.013878399999999846,\n",
       " 0.031330099999999916,\n",
       " 0.06353870000000006,\n",
       " 0.11566049999999994,\n",
       " 0.2729353000000001,\n",
       " 0.5141949000000001,\n",
       " 0.7961168999999999,\n",
       " 1.5879158999999996,\n",
       " 3.181341800000001,\n",
       " 6.5058857,\n",
       " 13.034346544065889,\n",
       " 26.65540961046143,\n",
       " 53.403312347891166,\n",
       " 109.21047406373577,\n",
       " 218.79990378380788,\n",
       " 447.4486725030461,\n",
       " 896.4499726896445,\n",
       " 1833.251949880691,\n",
       " 3672.865205321611,\n",
       " 7511.057509548149,\n",
       " 15048.178066186907]"
      ]
     },
     "execution_count": 13,
     "metadata": {},
     "output_type": "execute_result"
    }
   ],
   "source": [
    "HInsertTime"
   ]
  },
  {
   "cell_type": "markdown",
   "metadata": {},
   "source": [
    "Hash Table Search"
   ]
  },
  {
   "cell_type": "code",
   "execution_count": 9,
   "metadata": {},
   "outputs": [
    {
     "name": "stderr",
     "output_type": "stream",
     "text": [
      "C:\\Anaconda3\\lib\\site-packages\\ipykernel_launcher.py:6: DeprecationWarning: time.clock has been deprecated in Python 3.3 and will be removed from Python 3.8: use time.perf_counter or time.process_time instead\n",
      "  \n",
      "C:\\Anaconda3\\lib\\site-packages\\ipykernel_launcher.py:9: DeprecationWarning: time.clock has been deprecated in Python 3.3 and will be removed from Python 3.8: use time.perf_counter or time.process_time instead\n",
      "  if __name__ == '__main__':\n"
     ]
    }
   ],
   "source": [
    "t = 15\n",
    "\n",
    "HSearchTime = list()\n",
    "\n",
    "for n in range (10,t):\n",
    "    starttime = time.clock()\n",
    "    for i in range(1,2**n+1):\n",
    "        H.lookup(str((np.random.randint(1,(2**30)+1))))\n",
    "    endtime = time.clock()\n",
    "    HSearchTime.append(endtime - starttime)\n"
   ]
  },
  {
   "cell_type": "code",
   "execution_count": 10,
   "metadata": {},
   "outputs": [
    {
     "data": {
      "text/plain": [
       "[0.40920569999999934,\n",
       " 0.7948777999999983,\n",
       " 1.8160577999999994,\n",
       " 3.408188899999999,\n",
       " 6.817541599999998]"
      ]
     },
     "execution_count": 10,
     "metadata": {},
     "output_type": "execute_result"
    }
   ],
   "source": [
    "HSearchTime"
   ]
  },
  {
   "cell_type": "markdown",
   "metadata": {},
   "source": [
    "#### 剩餘時間估計\n"
   ]
  },
  {
   "cell_type": "code",
   "execution_count": 11,
   "metadata": {},
   "outputs": [],
   "source": [
    "t = len(HSearchTime)\n",
    "for i in range(0,21):\n",
    "    if(i>=t):\n",
    "        HSearchTime.append(HSearchTime[i-2]/HSearchTime[i-3]*HSearchTime[i-1])"
   ]
  },
  {
   "cell_type": "code",
   "execution_count": 14,
   "metadata": {},
   "outputs": [
    {
     "data": {
      "text/plain": [
       "[0.40920569999999934,\n",
       " 0.7948777999999983,\n",
       " 1.8160577999999994,\n",
       " 3.408188899999999,\n",
       " 6.817541599999998,\n",
       " 12.794454893675871,\n",
       " 25.593278731398613,\n",
       " 48.030810741243386,\n",
       " 96.07802264427117,\n",
       " 180.30926675910518,\n",
       " 360.68010402700884,\n",
       " 676.8870060169323,\n",
       " 1354.0051497790769,\n",
       " 2541.056414625067,\n",
       " 5082.980528060884,\n",
       " 9539.210599273461,\n",
       " 19081.678568845688,\n",
       " 35810.51500216995,\n",
       " 71633.25828117032,\n",
       " 134433.86864928956,\n",
       " 268913.64265797223]"
      ]
     },
     "execution_count": 14,
     "metadata": {},
     "output_type": "execute_result"
    }
   ],
   "source": [
    "HSearchTime"
   ]
  },
  {
   "cell_type": "code",
   "execution_count": 12,
   "metadata": {},
   "outputs": [
    {
     "data": {
      "text/plain": [
       "Text(0, 0.5, '時間')"
      ]
     },
     "execution_count": 12,
     "metadata": {},
     "output_type": "execute_result"
    },
    {
     "data": {
      "image/png": "[encoded data removed]",
      "text/plain": [
       "<Figure size 432x288 with 1 Axes>"
      ]
     },
     "metadata": {
      "needs_background": "light"
     },
     "output_type": "display_data"
    }
   ],
   "source": [
    "plt.plot(range(10,31),HInsertTime)\n",
    "plt.plot(range(10,31),HSearchTime)\n",
    "plt.xlabel(\"次數\",fontproperties='SimSun')\n",
    "plt.ylabel(\"時間\",fontproperties='SimSun')"
   ]
  },
  {
   "cell_type": "code",
   "execution_count": null,
   "metadata": {},
   "outputs": [],
   "source": []
  }
 ],
 "metadata": {
  "kernelspec": {
   "display_name": "Python 3",
   "language": "python",
   "name": "python3"
  },
  "language_info": {
   "codemirror_mode": {
    "name": "ipython",
    "version": 3
   },
   "file_extension": ".py",
   "mimetype": "text/x-python",
   "name": "python",
   "nbconvert_exporter": "python",
   "pygments_lexer": "ipython3",
   "version": "3.7.3"
  }
 },
 "nbformat": 4,
 "nbformat_minor": 2
}
