{
 "cells": [
  {
   "cell_type": "markdown",
   "metadata": {},
   "source": [
    "## 撲克牌比大小"
   ]
  },
  {
   "cell_type": "code",
   "execution_count": 96,
   "metadata": {},
   "outputs": [],
   "source": [
    "%matplotlib inline\n",
    "import numpy as np\n",
    "import matplotlib.pyplot as plt\n",
    "import pandas as pd"
   ]
  },
  {
   "cell_type": "code",
   "execution_count": 97,
   "metadata": {},
   "outputs": [],
   "source": [
    "class Card:\n",
    "    SUITS = [\"♠\",\"♥\",\"♦\",\"♣\"]\n",
    "    RANKS = [\"A\",\"2\",\"3\",\"4\",\"5\",\"6\",\"7\",\"8\",\"9\",\"10\",\"J\",\"Q\",\"K\"]\n",
    "    def __init__(self,s,r):\n",
    "        self.suit = s\n",
    "        self.rank = r\n",
    "    def __repr__(self):\n",
    "        thecard = self.SUITS[self.suit] + self.RANKS[self.rank]\n",
    "        return thecard"
   ]
  },
  {
   "cell_type": "code",
   "execution_count": 98,
   "metadata": {},
   "outputs": [],
   "source": [
    "suit01 = np.random.randint(0,3)\n",
    "rank01 = np.random.randint(0,12)\n",
    "card01 = Card(suit01,rank01)"
   ]
  },
  {
   "cell_type": "code",
   "execution_count": 99,
   "metadata": {},
   "outputs": [
    {
     "name": "stdout",
     "output_type": "stream",
     "text": [
      "對方的牌：♥4\n",
      "是否更換你的牌(Y/N)>> N\n",
      "對方的牌：♥4\n",
      "你的牌：♥10\n",
      "你贏了\n"
     ]
    }
   ],
   "source": [
    "print(\"對方的牌：\" + str(card01))\n",
    "msg = \" \"\n",
    "while (msg !=\"N\"):\n",
    "    suit02 = np.random.randint(0,3)\n",
    "    rank02 = np.random.randint(0,12)\n",
    "    card02 = Card(suit02,rank02)\n",
    "    msg = input(\"是否更換你的牌(Y/N)>> \")\n",
    "print(\"對方的牌：\" + str(card01))\n",
    "print(\"你的牌：\" + str(card02))\n",
    "if(rank02==rank01):\n",
    "    if(suit01==suit02):\n",
    "        print(\"平手\")\n",
    "    elif(suit01>suit02):\n",
    "        print(\"你輸了\")\n",
    "    else:\n",
    "        print(\"你贏了\")\n",
    "elif(rank02>rank01):\n",
    "    print(\"你贏了\")\n",
    "else:\n",
    "    print(\"你輸了\")"
   ]
  },
  {
   "cell_type": "code",
   "execution_count": null,
   "metadata": {},
   "outputs": [],
   "source": []
  },
  {
   "cell_type": "code",
   "execution_count": null,
   "metadata": {},
   "outputs": [],
   "source": []
  },
  {
   "cell_type": "code",
   "execution_count": null,
   "metadata": {},
   "outputs": [],
   "source": []
  },
  {
   "cell_type": "code",
   "execution_count": null,
   "metadata": {},
   "outputs": [],
   "source": []
  },
  {
   "cell_type": "code",
   "execution_count": 88,
   "metadata": {},
   "outputs": [
    {
     "name": "stdout",
     "output_type": "stream",
     "text": [
      "請輸入花色(♠=1,♥=2,♦=3,♣=4)：2\n",
      "請輸入數字(A=1,2,3,4,5,6,7,8,9,10,J=11,Q=12,K=13)：8\n"
     ]
    }
   ],
   "source": [
    "suit = input(\"請輸入花色(♠=1,♥=2,♦=3,♣=4)：\")\n",
    "rank = input(\"請輸入數字(A=1,2,3,4,5,6,7,8,9,10,J=11,Q=12,K=13)：\")\n",
    "suit02 = int(suit)\n",
    "rank02 = int(rank)\n",
    "card02 = Card(suit02-1,rank02-1)\n",
    "card01 = str(card01)\n",
    "card02 = str(card02)\n",
    "while suit01!=suit02&rank01!=rank02:\n",
    "    if(rank02==rank01):\n",
    "        if(suit01<suit02):\n",
    "            print(\"在猜小一點點\")\n",
    "        elif(suit01>suit02):\n",
    "            print(\"在猜大一點點\")\n",
    "        else:\n",
    "            print(\"你猜中了\")\n",
    "    elif(rank02!=rank01):\n",
    "        if(suit01<suit02):\n",
    "            print(\"在猜小一點\")\n",
    "        elif(suit01>suit02):\n",
    "            print(\"在猜大一點\")\n",
    "        else:\n",
    "            print(\"你猜中數字了\")\n",
    "    suit = input(\"請輸入花色(♠=1,♥=2,♦=3,♣=4)：\")\n",
    "    rank = input(\"請輸入數字(A=1,2,3,4,5,6,7,8,9,10,J=11,Q=12,K=13)：\")\n",
    "    suit02 = int(suit)\n",
    "    rank02 = int(rank)\n",
    "    card02 = Card(suit02-1,rank02-1)\n",
    "    card01 = str(card01)\n",
    "    card02 = str(card02)"
   ]
  },
  {
   "cell_type": "code",
   "execution_count": null,
   "metadata": {},
   "outputs": [],
   "source": []
  }
 ],
 "metadata": {
  "kernelspec": {
   "display_name": "Python 3",
   "language": "python",
   "name": "python3"
  },
  "language_info": {
   "codemirror_mode": {
    "name": "ipython",
    "version": 3
   },
   "file_extension": ".py",
   "mimetype": "text/x-python",
   "name": "python",
   "nbconvert_exporter": "python",
   "pygments_lexer": "ipython3",
   "version": "3.7.3"
  }
 },
 "nbformat": 4,
 "nbformat_minor": 2
}
